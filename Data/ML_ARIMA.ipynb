{
 "cells": [
  {
   "cell_type": "code",
   "execution_count": 1,
   "metadata": {},
   "outputs": [],
   "source": [
    "from statsmodels.tsa.arima.model import ARIMA\n",
    "import joblib \n",
    "import warnings\n",
    "warnings.filterwarnings(\"ignore\")\n",
    "import pandas as pd"
   ]
  },
  {
   "cell_type": "code",
   "execution_count": 2,
   "metadata": {},
   "outputs": [
    {
     "data": {
      "text/html": [
       "<div>\n",
       "<style scoped>\n",
       "    .dataframe tbody tr th:only-of-type {\n",
       "        vertical-align: middle;\n",
       "    }\n",
       "\n",
       "    .dataframe tbody tr th {\n",
       "        vertical-align: top;\n",
       "    }\n",
       "\n",
       "    .dataframe thead th {\n",
       "        text-align: right;\n",
       "    }\n",
       "</style>\n",
       "<table border=\"1\" class=\"dataframe\">\n",
       "  <thead>\n",
       "    <tr style=\"text-align: right;\">\n",
       "      <th></th>\n",
       "      <th>Year</th>\n",
       "      <th>HDI_male</th>\n",
       "      <th>HDI_female</th>\n",
       "      <th>GDI</th>\n",
       "    </tr>\n",
       "  </thead>\n",
       "  <tbody>\n",
       "    <tr>\n",
       "      <th>count</th>\n",
       "      <td>2069.000000</td>\n",
       "      <td>2069.000000</td>\n",
       "      <td>2069.000000</td>\n",
       "      <td>2069.000000</td>\n",
       "    </tr>\n",
       "    <tr>\n",
       "      <th>mean</th>\n",
       "      <td>2011.668439</td>\n",
       "      <td>0.715458</td>\n",
       "      <td>0.671971</td>\n",
       "      <td>0.929097</td>\n",
       "    </tr>\n",
       "    <tr>\n",
       "      <th>std</th>\n",
       "      <td>6.462829</td>\n",
       "      <td>0.150461</td>\n",
       "      <td>0.174303</td>\n",
       "      <td>0.079864</td>\n",
       "    </tr>\n",
       "    <tr>\n",
       "      <th>min</th>\n",
       "      <td>1995.000000</td>\n",
       "      <td>0.255000</td>\n",
       "      <td>0.138000</td>\n",
       "      <td>0.322000</td>\n",
       "    </tr>\n",
       "    <tr>\n",
       "      <th>25%</th>\n",
       "      <td>2010.000000</td>\n",
       "      <td>0.598000</td>\n",
       "      <td>0.538000</td>\n",
       "      <td>0.890000</td>\n",
       "    </tr>\n",
       "    <tr>\n",
       "      <th>50%</th>\n",
       "      <td>2013.000000</td>\n",
       "      <td>0.734000</td>\n",
       "      <td>0.700000</td>\n",
       "      <td>0.959000</td>\n",
       "    </tr>\n",
       "    <tr>\n",
       "      <th>75%</th>\n",
       "      <td>2016.000000</td>\n",
       "      <td>0.828000</td>\n",
       "      <td>0.813000</td>\n",
       "      <td>0.982000</td>\n",
       "    </tr>\n",
       "    <tr>\n",
       "      <th>max</th>\n",
       "      <td>2019.000000</td>\n",
       "      <td>0.965000</td>\n",
       "      <td>0.949000</td>\n",
       "      <td>1.051000</td>\n",
       "    </tr>\n",
       "  </tbody>\n",
       "</table>\n",
       "</div>"
      ],
      "text/plain": [
       "              Year     HDI_male   HDI_female          GDI\n",
       "count  2069.000000  2069.000000  2069.000000  2069.000000\n",
       "mean   2011.668439     0.715458     0.671971     0.929097\n",
       "std       6.462829     0.150461     0.174303     0.079864\n",
       "min    1995.000000     0.255000     0.138000     0.322000\n",
       "25%    2010.000000     0.598000     0.538000     0.890000\n",
       "50%    2013.000000     0.734000     0.700000     0.959000\n",
       "75%    2016.000000     0.828000     0.813000     0.982000\n",
       "max    2019.000000     0.965000     0.949000     1.051000"
      ]
     },
     "execution_count": 2,
     "metadata": {},
     "output_type": "execute_result"
    }
   ],
   "source": [
    "df = pd.read_json(\"./data_final.json\")\n",
    "df.describe()"
   ]
  },
  {
   "cell_type": "code",
   "execution_count": 3,
   "metadata": {},
   "outputs": [
    {
     "name": "stdout",
     "output_type": "stream",
     "text": [
      "Bahamas failed to train\n",
      "Fiji failed to train\n",
      "Papua New Guinea failed to train\n",
      "Saint Vincent and the Grenadines failed to train\n"
     ]
    }
   ],
   "source": [
    "for country in df[\"Country\"].unique():\n",
    "    try: \n",
    "        df_country = df[df[\"Country\"]==country] # filter df to specific country \n",
    "        X = df_country.set_index(\"Year\")[\"GDI\"]\n",
    "        # print(X)\n",
    "        model = ARIMA(X, order=(5,1,0))\n",
    "        model_fitted =model.fit()\n",
    "        joblib.dump(model_fitted, f\"models/{country}.sav\")\n",
    "    except: \n",
    "        print(f\"{country} failed to train\")"
   ]
  },
  {
   "cell_type": "code",
   "execution_count": null,
   "metadata": {},
   "outputs": [],
   "source": []
  }
 ],
 "metadata": {
  "interpreter": {
   "hash": "ff46eeebaa6206205c68b7d9b2f725c243aefdf656c43d9d1a0f86c2b29b11fd"
  },
  "kernelspec": {
   "display_name": "Python 3.7.11 ('project3ML')",
   "language": "python",
   "name": "python3"
  },
  "language_info": {
   "codemirror_mode": {
    "name": "ipython",
    "version": 3
   },
   "file_extension": ".py",
   "mimetype": "text/x-python",
   "name": "python",
   "nbconvert_exporter": "python",
   "pygments_lexer": "ipython3",
   "version": "3.7.11"
  },
  "orig_nbformat": 4
 },
 "nbformat": 4,
 "nbformat_minor": 2
}
