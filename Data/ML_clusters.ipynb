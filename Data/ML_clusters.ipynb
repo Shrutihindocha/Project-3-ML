{
 "cells": [
  {
   "cell_type": "code",
   "execution_count": 1,
   "metadata": {},
   "outputs": [
    {
     "data": {
      "text/html": [
       "<div>\n",
       "<style scoped>\n",
       "    .dataframe tbody tr th:only-of-type {\n",
       "        vertical-align: middle;\n",
       "    }\n",
       "\n",
       "    .dataframe tbody tr th {\n",
       "        vertical-align: top;\n",
       "    }\n",
       "\n",
       "    .dataframe thead th {\n",
       "        text-align: right;\n",
       "    }\n",
       "</style>\n",
       "<table border=\"1\" class=\"dataframe\">\n",
       "  <thead>\n",
       "    <tr style=\"text-align: right;\">\n",
       "      <th></th>\n",
       "      <th>Country</th>\n",
       "      <th>Country_Code</th>\n",
       "      <th>Year</th>\n",
       "      <th>HDI_male</th>\n",
       "      <th>HDI_female</th>\n",
       "      <th>GDI</th>\n",
       "    </tr>\n",
       "  </thead>\n",
       "  <tbody>\n",
       "    <tr>\n",
       "      <th>0</th>\n",
       "      <td>Afghanistan</td>\n",
       "      <td>AFG</td>\n",
       "      <td>2000</td>\n",
       "      <td>0.429</td>\n",
       "      <td>0.138</td>\n",
       "      <td>0.322</td>\n",
       "    </tr>\n",
       "    <tr>\n",
       "      <th>1</th>\n",
       "      <td>Afghanistan</td>\n",
       "      <td>AFG</td>\n",
       "      <td>2005</td>\n",
       "      <td>0.508</td>\n",
       "      <td>0.264</td>\n",
       "      <td>0.519</td>\n",
       "    </tr>\n",
       "    <tr>\n",
       "      <th>2</th>\n",
       "      <td>Afghanistan</td>\n",
       "      <td>AFG</td>\n",
       "      <td>2010</td>\n",
       "      <td>0.553</td>\n",
       "      <td>0.329</td>\n",
       "      <td>0.595</td>\n",
       "    </tr>\n",
       "    <tr>\n",
       "      <th>3</th>\n",
       "      <td>Afghanistan</td>\n",
       "      <td>AFG</td>\n",
       "      <td>2011</td>\n",
       "      <td>0.557</td>\n",
       "      <td>0.339</td>\n",
       "      <td>0.609</td>\n",
       "    </tr>\n",
       "    <tr>\n",
       "      <th>4</th>\n",
       "      <td>Afghanistan</td>\n",
       "      <td>AFG</td>\n",
       "      <td>2012</td>\n",
       "      <td>0.566</td>\n",
       "      <td>0.350</td>\n",
       "      <td>0.618</td>\n",
       "    </tr>\n",
       "    <tr>\n",
       "      <th>...</th>\n",
       "      <td>...</td>\n",
       "      <td>...</td>\n",
       "      <td>...</td>\n",
       "      <td>...</td>\n",
       "      <td>...</td>\n",
       "      <td>...</td>\n",
       "    </tr>\n",
       "    <tr>\n",
       "      <th>2065</th>\n",
       "      <td>Zimbabwe</td>\n",
       "      <td>ZWE</td>\n",
       "      <td>2016</td>\n",
       "      <td>0.581</td>\n",
       "      <td>0.538</td>\n",
       "      <td>0.927</td>\n",
       "    </tr>\n",
       "    <tr>\n",
       "      <th>2066</th>\n",
       "      <td>Zimbabwe</td>\n",
       "      <td>ZWE</td>\n",
       "      <td>2017</td>\n",
       "      <td>0.586</td>\n",
       "      <td>0.543</td>\n",
       "      <td>0.927</td>\n",
       "    </tr>\n",
       "    <tr>\n",
       "      <th>2067</th>\n",
       "      <td>Zimbabwe</td>\n",
       "      <td>ZWE</td>\n",
       "      <td>2018</td>\n",
       "      <td>0.591</td>\n",
       "      <td>0.548</td>\n",
       "      <td>0.927</td>\n",
       "    </tr>\n",
       "    <tr>\n",
       "      <th>2068</th>\n",
       "      <td>Zimbabwe</td>\n",
       "      <td>ZWE</td>\n",
       "      <td>2019</td>\n",
       "      <td>0.590</td>\n",
       "      <td>0.550</td>\n",
       "      <td>0.931</td>\n",
       "    </tr>\n",
       "    <tr>\n",
       "      <th>2069</th>\n",
       "      <td>Saint Vincent and the Grenadines</td>\n",
       "      <td>VCT</td>\n",
       "      <td>2019</td>\n",
       "      <td>0.750</td>\n",
       "      <td>0.724</td>\n",
       "      <td>0.965</td>\n",
       "    </tr>\n",
       "  </tbody>\n",
       "</table>\n",
       "<p>2069 rows × 6 columns</p>\n",
       "</div>"
      ],
      "text/plain": [
       "                               Country Country_Code  Year  HDI_male  \\\n",
       "0                          Afghanistan          AFG  2000     0.429   \n",
       "1                          Afghanistan          AFG  2005     0.508   \n",
       "2                          Afghanistan          AFG  2010     0.553   \n",
       "3                          Afghanistan          AFG  2011     0.557   \n",
       "4                          Afghanistan          AFG  2012     0.566   \n",
       "...                                ...          ...   ...       ...   \n",
       "2065                          Zimbabwe          ZWE  2016     0.581   \n",
       "2066                          Zimbabwe          ZWE  2017     0.586   \n",
       "2067                          Zimbabwe          ZWE  2018     0.591   \n",
       "2068                          Zimbabwe          ZWE  2019     0.590   \n",
       "2069  Saint Vincent and the Grenadines          VCT  2019     0.750   \n",
       "\n",
       "      HDI_female    GDI  \n",
       "0          0.138  0.322  \n",
       "1          0.264  0.519  \n",
       "2          0.329  0.595  \n",
       "3          0.339  0.609  \n",
       "4          0.350  0.618  \n",
       "...          ...    ...  \n",
       "2065       0.538  0.927  \n",
       "2066       0.543  0.927  \n",
       "2067       0.548  0.927  \n",
       "2068       0.550  0.931  \n",
       "2069       0.724  0.965  \n",
       "\n",
       "[2069 rows x 6 columns]"
      ]
     },
     "execution_count": 1,
     "metadata": {},
     "output_type": "execute_result"
    }
   ],
   "source": [
    "import pandas as pd\n",
    "json_df = pd.read_json(\"./data_final.json\")\n",
    "# json_df[[\"HDI_male\", \"HDI_female\"]][json_df[\"Year\"]==1995]\n",
    "json_df"
   ]
  },
  {
   "cell_type": "code",
   "execution_count": 2,
   "metadata": {},
   "outputs": [
    {
     "data": {
      "text/html": [
       "<div>\n",
       "<style scoped>\n",
       "    .dataframe tbody tr th:only-of-type {\n",
       "        vertical-align: middle;\n",
       "    }\n",
       "\n",
       "    .dataframe tbody tr th {\n",
       "        vertical-align: top;\n",
       "    }\n",
       "\n",
       "    .dataframe thead th {\n",
       "        text-align: right;\n",
       "    }\n",
       "</style>\n",
       "<table border=\"1\" class=\"dataframe\">\n",
       "  <thead>\n",
       "    <tr style=\"text-align: right;\">\n",
       "      <th></th>\n",
       "      <th>HDI_male</th>\n",
       "      <th>HDI_female</th>\n",
       "    </tr>\n",
       "  </thead>\n",
       "  <tbody>\n",
       "    <tr>\n",
       "      <th>0</th>\n",
       "      <td>0.429</td>\n",
       "      <td>0.138</td>\n",
       "    </tr>\n",
       "    <tr>\n",
       "      <th>1</th>\n",
       "      <td>0.508</td>\n",
       "      <td>0.264</td>\n",
       "    </tr>\n",
       "    <tr>\n",
       "      <th>2</th>\n",
       "      <td>0.553</td>\n",
       "      <td>0.329</td>\n",
       "    </tr>\n",
       "    <tr>\n",
       "      <th>3</th>\n",
       "      <td>0.557</td>\n",
       "      <td>0.339</td>\n",
       "    </tr>\n",
       "    <tr>\n",
       "      <th>4</th>\n",
       "      <td>0.566</td>\n",
       "      <td>0.350</td>\n",
       "    </tr>\n",
       "    <tr>\n",
       "      <th>...</th>\n",
       "      <td>...</td>\n",
       "      <td>...</td>\n",
       "    </tr>\n",
       "    <tr>\n",
       "      <th>2065</th>\n",
       "      <td>0.581</td>\n",
       "      <td>0.538</td>\n",
       "    </tr>\n",
       "    <tr>\n",
       "      <th>2066</th>\n",
       "      <td>0.586</td>\n",
       "      <td>0.543</td>\n",
       "    </tr>\n",
       "    <tr>\n",
       "      <th>2067</th>\n",
       "      <td>0.591</td>\n",
       "      <td>0.548</td>\n",
       "    </tr>\n",
       "    <tr>\n",
       "      <th>2068</th>\n",
       "      <td>0.590</td>\n",
       "      <td>0.550</td>\n",
       "    </tr>\n",
       "    <tr>\n",
       "      <th>2069</th>\n",
       "      <td>0.750</td>\n",
       "      <td>0.724</td>\n",
       "    </tr>\n",
       "  </tbody>\n",
       "</table>\n",
       "<p>2069 rows × 2 columns</p>\n",
       "</div>"
      ],
      "text/plain": [
       "      HDI_male  HDI_female\n",
       "0        0.429       0.138\n",
       "1        0.508       0.264\n",
       "2        0.553       0.329\n",
       "3        0.557       0.339\n",
       "4        0.566       0.350\n",
       "...        ...         ...\n",
       "2065     0.581       0.538\n",
       "2066     0.586       0.543\n",
       "2067     0.591       0.548\n",
       "2068     0.590       0.550\n",
       "2069     0.750       0.724\n",
       "\n",
       "[2069 rows x 2 columns]"
      ]
     },
     "execution_count": 2,
     "metadata": {},
     "output_type": "execute_result"
    }
   ],
   "source": [
    "json_npy = json_df[[\"HDI_male\", \"HDI_female\"]].to_numpy()\n",
    "json_df[[\"HDI_male\", \"HDI_female\"]]"
   ]
  },
  {
   "cell_type": "code",
   "execution_count": 3,
   "metadata": {},
   "outputs": [
    {
     "data": {
      "text/plain": [
       "array([[0.429, 0.138],\n",
       "       [0.508, 0.264],\n",
       "       [0.553, 0.329],\n",
       "       ...,\n",
       "       [0.591, 0.548],\n",
       "       [0.59 , 0.55 ],\n",
       "       [0.75 , 0.724]])"
      ]
     },
     "execution_count": 3,
     "metadata": {},
     "output_type": "execute_result"
    }
   ],
   "source": [
    "json_npy"
   ]
  },
  {
   "cell_type": "code",
   "execution_count": 4,
   "metadata": {},
   "outputs": [
    {
     "data": {
      "text/plain": [
       "<matplotlib.collections.PathCollection at 0x271b73898c8>"
      ]
     },
     "execution_count": 4,
     "metadata": {},
     "output_type": "execute_result"
    },
    {
     "data": {
      "image/png": "[encoded data removed]",
      "text/plain": [
       "<Figure size 432x288 with 1 Axes>"
      ]
     },
     "metadata": {
      "needs_background": "light"
     },
     "output_type": "display_data"
    }
   ],
   "source": [
    "import matplotlib.pyplot as plt\n",
    "\n",
    "plt.scatter(json_npy[:,0], json_npy[:,1])"
   ]
  },
  {
   "cell_type": "code",
   "execution_count": 5,
   "metadata": {},
   "outputs": [],
   "source": [
    "# n_clusters = 3 is the k value\n",
    "\n",
    "from sklearn.cluster import KMeans\n",
    "kmeans = KMeans(n_clusters = 3)"
   ]
  },
  {
   "cell_type": "code",
   "execution_count": 6,
   "metadata": {},
   "outputs": [
    {
     "data": {
      "text/plain": [
       "KMeans(n_clusters=3)"
      ]
     },
     "execution_count": 6,
     "metadata": {},
     "output_type": "execute_result"
    }
   ],
   "source": [
    "# Fit the model to the data\n",
    "kmeans.fit(json_npy)"
   ]
  },
  {
   "cell_type": "code",
   "execution_count": 7,
   "metadata": {},
   "outputs": [],
   "source": [
    "# Predict the clusters\n",
    "predicted_clusters = kmeans.predict(json_npy)"
   ]
  },
  {
   "cell_type": "code",
   "execution_count": 8,
   "metadata": {},
   "outputs": [
    {
     "data": {
      "text/plain": [
       "<matplotlib.collections.PathCollection at 0x271d881a388>"
      ]
     },
     "execution_count": 8,
     "metadata": {},
     "output_type": "execute_result"
    },
    {
     "data": {
      "image/png": "[encoded data removed]",
      "text/plain": [
       "<Figure size 432x288 with 1 Axes>"
      ]
     },
     "metadata": {
      "needs_background": "light"
     },
     "output_type": "display_data"
    }
   ],
   "source": [
    "# Plot the predicted clusters to see if the model predicted the correct clusters\n",
    "# Visual validation\n",
    "plt.scatter(json_npy[:,0], json_npy[:,1], c=predicted_clusters, s=50, cmap='viridis')"
   ]
  },
  {
   "cell_type": "code",
   "execution_count": 9,
   "metadata": {},
   "outputs": [
    {
     "data": {
      "image/png": "[encoded data removed]",
      "text/plain": [
       "<Figure size 640x2400 with 26 Axes>"
      ]
     },
     "metadata": {
      "needs_background": "light"
     },
     "output_type": "display_data"
    }
   ],
   "source": [
    "list_years = [1995,2000,2005,2010,2011,2012,2013,2014,2015,2016,2017,2018,2019]\n",
    "\n",
    "fig = plt.figure(1, figsize=(8, 30), dpi=80)\n",
    "\n",
    "position = 1\n",
    "for year in list_years:\n",
    "    json_npy = json_df[[\"HDI_male\", \"HDI_female\"]][json_df[\"Year\"]==year].to_numpy()\n",
    "    # print(json_npy)\n",
    "\n",
    "    try:\n",
    "\n",
    "        ax = fig.add_subplot(16, 2, position)\n",
    "        plt.scatter(json_npy[:,0], json_npy[:,1])\n",
    "        plt.title(year)\n",
    "\n",
    "        kmeans.fit(json_npy)\n",
    "\n",
    "        predicted_clusters = kmeans.predict(json_npy)\n",
    "\n",
    "        ax = fig.add_subplot(16, 2, position+1)\n",
    "        plt.scatter(json_npy[:,0], json_npy[:,1], c=predicted_clusters, s=50, cmap='viridis')\n",
    "        plt.title(year)\n",
    "\n",
    "        position = position + 2\n",
    "    except:\n",
    "        print(\"No Data:\", year)\n",
    "plt.show()"
   ]
  },
  {
   "cell_type": "code",
   "execution_count": 10,
   "metadata": {},
   "outputs": [
    {
     "name": "stderr",
     "output_type": "stream",
     "text": [
      "D:\\pablo\\anaconda3\\envs\\project3ML\\lib\\site-packages\\ipykernel_launcher.py:1: UserWarning: Boolean Series key will be reindexed to match DataFrame index.\n",
      "  \"\"\"Entry point for launching an IPython kernel.\n"
     ]
    },
    {
     "data": {
      "text/html": [
       "<div>\n",
       "<style scoped>\n",
       "    .dataframe tbody tr th:only-of-type {\n",
       "        vertical-align: middle;\n",
       "    }\n",
       "\n",
       "    .dataframe tbody tr th {\n",
       "        vertical-align: top;\n",
       "    }\n",
       "\n",
       "    .dataframe thead th {\n",
       "        text-align: right;\n",
       "    }\n",
       "</style>\n",
       "<table border=\"1\" class=\"dataframe\">\n",
       "  <thead>\n",
       "    <tr style=\"text-align: right;\">\n",
       "      <th></th>\n",
       "      <th>Country</th>\n",
       "      <th>Country_Code</th>\n",
       "      <th>Year</th>\n",
       "      <th>HDI_male</th>\n",
       "      <th>HDI_female</th>\n",
       "      <th>GDI</th>\n",
       "    </tr>\n",
       "  </thead>\n",
       "  <tbody>\n",
       "  </tbody>\n",
       "</table>\n",
       "</div>"
      ],
      "text/plain": [
       "Empty DataFrame\n",
       "Columns: [Country, Country_Code, Year, HDI_male, HDI_female, GDI]\n",
       "Index: []"
      ]
     },
     "execution_count": 10,
     "metadata": {},
     "output_type": "execute_result"
    }
   ],
   "source": [
    "json_df[json_df[\"Year\"]==1995][json_df[\"Country\"]==\"Bahamas\"]"
   ]
  },
  {
   "cell_type": "code",
   "execution_count": 11,
   "metadata": {},
   "outputs": [
    {
     "data": {
      "application/vnd.plotly.v1+json": {
       "config": {
        "plotlyServerURL": "https://plot.ly"
       },
       "data": [
        {
         "hovertemplate": "Country=Afghanistan<br>Year=%{x}<br>GDI=%{y}<extra></extra>",
         "legendgroup": "Afghanistan",
         "line": {
          "color": "#636efa",
          "dash": "solid"
         },
         "marker": {
          "symbol": "circle"
         },
         "mode": "lines",
         "name": "Afghanistan",
         "showlegend": true,
         "type": "scattergl",
         "x": [
          2000,
          2005,
          2010,
          2011,
          2012,
          2013,
          2014,
          2015,
          2016,
          2017,
          2018,
          2019
         ],
         "xaxis": "x",
         "y": [
          0.322,
          0.519,
          0.595,
          0.609,
          0.618,
          0.627,
          0.634,
          0.639,
          0.646,
          0.658,
          0.663,
          0.659
         ],
         "yaxis": "y"
        },
        {
         "hovertemplate": "Country=Angola<br>Year=%{x}<br>GDI=%{y}<extra></extra>",
         "legendgroup": "Angola",
         "line": {
          "color": "#EF553B",
          "dash": "solid"
         },
         "marker": {
          "symbol": "circle"
         },
         "mode": "lines",
         "name": "Angola",
         "showlegend": true,
         "type": "scattergl",
         "x": [
          2014,
          2015,
          2016,
          2017,
          2018,
          2019
         ],
         "xaxis": "x",
         "y": [
          0.838,
          0.839,
          0.903,
          0.903,
          0.903,
          0.903
         ],
         "yaxis": "y"
        },
        {
         "hovertemplate": "Country=Albania<br>Year=%{x}<br>GDI=%{y}<extra></extra>",
         "legendgroup": "Albania",
         "line": {
          "color": "#00cc96",
          "dash": "solid"
         },
         "marker": {
          "symbol": "circle"
         },
         "mode": "lines",
         "name": "Albania",
         "showlegend": true,
         "type": "scattergl",
         "x": [
          1995,
          2000,
          2005,
          2010,
          2011,
          2012,
          2013,
          2014,
          2015,
          2016,
          2017,
          2018,
          2019
         ],
         "xaxis": "x",
         "y": [
          0.9380000000000001,
          0.936,
          0.9420000000000001,
          0.961,
          0.9580000000000001,
          0.972,
          0.966,
          0.964,
          0.969,
          0.965,
          0.964,
          0.971,
          0.967
         ],
         "yaxis": "y"
        },
        {
         "hovertemplate": "Country=United Arab Emirates<br>Year=%{x}<br>GDI=%{y}<extra></extra>",
         "legendgroup": "United Arab Emirates",
         "line": {
          "color": "#ab63fa",
          "dash": "solid"
         },
         "marker": {
          "symbol": "circle"
         },
         "mode": "lines",
         "name": "United Arab Emirates",
         "showlegend": true,
         "type": "scattergl",
         "x": [
          1995,
          2011,
          2012,
          2013,
          2014,
          2015,
          2016,
          2017,
          2018,
          2019
         ],
         "xaxis": "x",
         "y": [
          0.9520000000000001,
          0.9570000000000001,
          0.9590000000000001,
          0.932,
          0.933,
          0.935,
          0.935,
          0.928,
          0.926,
          0.931
         ],
         "yaxis": "y"
        },
        {
         "hovertemplate": "Country=Argentina<br>Year=%{x}<br>GDI=%{y}<extra></extra>",
         "legendgroup": "Argentina",
         "line": {
          "color": "#FFA15A",
          "dash": "solid"
         },
         "marker": {
          "symbol": "circle"
         },
         "mode": "lines",
         "name": "Argentina",
         "showlegend": true,
         "type": "scattergl",
         "x": [
          1995,
          2000,
          2005,
          2010,
          2011,
          2012,
          2013,
          2014,
          2015,
          2016,
          2017,
          2018,
          2019
         ],
         "xaxis": "x",
         "y": [
          0.987,
          0.984,
          0.993,
          0.993,
          0.992,
          0.992,
          0.994,
          0.992,
          0.993,
          0.994,
          0.993,
          0.992,
          0.993
         ],
         "yaxis": "y"
        },
        {
         "hovertemplate": "Country=Armenia<br>Year=%{x}<br>GDI=%{y}<extra></extra>",
         "legendgroup": "Armenia",
         "line": {
          "color": "#19d3f3",
          "dash": "solid"
         },
         "marker": {
          "symbol": "circle"
         },
         "mode": "lines",
         "name": "Armenia",
         "showlegend": true,
         "type": "scattergl",
         "x": [
          1995,
          2000,
          2005,
          2010,
          2011,
          2012,
          2013,
          2014,
          2015,
          2016,
          2017,
          2018,
          2019
         ],
         "xaxis": "x",
         "y": [
          0.972,
          0.9430000000000001,
          0.972,
          0.964,
          0.97,
          0.971,
          0.975,
          0.978,
          0.975,
          0.974,
          0.978,
          0.978,
          0.982
         ],
         "yaxis": "y"
        },
        {
         "hovertemplate": "Country=Australia<br>Year=%{x}<br>GDI=%{y}<extra></extra>",
         "legendgroup": "Australia",
         "line": {
          "color": "#FF6692",
          "dash": "solid"
         },
         "marker": {
          "symbol": "circle"
         },
         "mode": "lines",
         "name": "Australia",
         "showlegend": true,
         "type": "scattergl",
         "x": [
          1995,
          2000,
          2005,
          2010,
          2011,
          2012,
          2013,
          2014,
          2015,
          2016,
          2017,
          2018,
          2019
         ],
         "xaxis": "x",
         "y": [
          0.964,
          0.961,
          0.97,
          0.976,
          0.976,
          0.976,
          0.975,
          0.975,
          0.975,
          0.975,
          0.976,
          0.976,
          0.976
         ],
         "yaxis": "y"
        },
        {
         "hovertemplate": "Country=Austria<br>Year=%{x}<br>GDI=%{y}<extra></extra>",
         "legendgroup": "Austria",
         "line": {
          "color": "#B6E880",
          "dash": "solid"
         },
         "marker": {
          "symbol": "circle"
         },
         "mode": "lines",
         "name": "Austria",
         "showlegend": true,
         "type": "scattergl",
         "x": [
          1995,
          2000,
          2005,
          2010,
          2011,
          2012,
          2013,
          2014,
          2015,
          2016,
          2017,
          2018,
          2019
         ],
         "xaxis": "x",
         "y": [
          0.936,
          0.934,
          0.9380000000000001,
          0.97,
          0.961,
          0.962,
          0.963,
          0.972,
          0.965,
          0.964,
          0.965,
          0.966,
          0.964
         ],
         "yaxis": "y"
        },
        {
         "hovertemplate": "Country=Azerbaijan<br>Year=%{x}<br>GDI=%{y}<extra></extra>",
         "legendgroup": "Azerbaijan",
         "line": {
          "color": "#FF97FF",
          "dash": "solid"
         },
         "marker": {
          "symbol": "circle"
         },
         "mode": "lines",
         "name": "Azerbaijan",
         "showlegend": true,
         "type": "scattergl",
         "x": [
          1995,
          2000,
          2005,
          2010,
          2011,
          2012,
          2013,
          2014,
          2015,
          2016,
          2017,
          2018,
          2019
         ],
         "xaxis": "x",
         "y": [
          0.965,
          0.9490000000000001,
          0.92,
          0.9470000000000001,
          0.9420000000000001,
          0.935,
          0.934,
          0.9440000000000001,
          0.9430000000000001,
          0.9380000000000001,
          0.9390000000000001,
          0.9390000000000001,
          0.9430000000000001
         ],
         "yaxis": "y"
        },
        {
         "hovertemplate": "Country=Burundi<br>Year=%{x}<br>GDI=%{y}<extra></extra>",
         "legendgroup": "Burundi",
         "line": {
          "color": "#FECB52",
          "dash": "solid"
         },
         "marker": {
          "symbol": "circle"
         },
         "mode": "lines",
         "name": "Burundi",
         "showlegend": true,
         "type": "scattergl",
         "x": [
          1995,
          2000,
          2005,
          2010,
          2011,
          2012,
          2013,
          2014,
          2015,
          2016,
          2017,
          2018,
          2019
         ],
         "xaxis": "x",
         "y": [
          0.8290000000000001,
          0.834,
          0.852,
          0.911,
          0.98,
          0.984,
          0.986,
          0.987,
          0.991,
          0.992,
          0.995,
          0.996,
          0.999
         ],
         "yaxis": "y"
        },
        {
         "hovertemplate": "Country=Belgium<br>Year=%{x}<br>GDI=%{y}<extra></extra>",
         "legendgroup": "Belgium",
         "line": {
          "color": "#636efa",
          "dash": "solid"
         },
         "marker": {
          "symbol": "circle"
         },
         "mode": "lines",
         "name": "Belgium",
         "showlegend": true,
         "type": "scattergl",
         "x": [
          1995,
          2000,
          2005,
          2010,
          2011,
          2012,
          2013,
          2014,
          2015,
          2016,
          2017,
          2018,
          2019
         ],
         "xaxis": "x",
         "y": [
          0.968,
          0.973,
          0.967,
          0.971,
          0.971,
          0.97,
          0.972,
          0.971,
          0.973,
          0.973,
          0.972,
          0.973,
          0.974
         ],
         "yaxis": "y"
        },
        {
         "hovertemplate": "Country=Benin<br>Year=%{x}<br>GDI=%{y}<extra></extra>",
         "legendgroup": "Benin",
         "line": {
          "color": "#EF553B",
          "dash": "solid"
         },
         "marker": {
          "symbol": "circle"
         },
         "mode": "lines",
         "name": "Benin",
         "showlegend": true,
         "type": "scattergl",
         "x": [
          1995,
          2000,
          2005,
          2010,
          2011,
          2012,
          2013,
          2014,
          2015,
          2016,
          2017,
          2018,
          2019
         ],
         "xaxis": "x",
         "y": [
          0.733,
          0.755,
          0.794,
          0.8280000000000001,
          0.8290000000000001,
          0.833,
          0.84,
          0.842,
          0.86,
          0.859,
          0.845,
          0.855,
          0.855
         ],
         "yaxis": "y"
        },
        {
         "hovertemplate": "Country=Burkina Faso<br>Year=%{x}<br>GDI=%{y}<extra></extra>",
         "legendgroup": "Burkina Faso",
         "line": {
          "color": "#00cc96",
          "dash": "solid"
         },
         "marker": {
          "symbol": "circle"
         },
         "mode": "lines",
         "name": "Burkina Faso",
         "showlegend": true,
         "type": "scattergl",
         "x": [
          2005,
          2010,
          2011,
          2012,
          2013,
          2014,
          2015,
          2016,
          2017,
          2018,
          2019
         ],
         "xaxis": "x",
         "y": [
          0.792,
          0.833,
          0.839,
          0.848,
          0.856,
          0.863,
          0.868,
          0.872,
          0.874,
          0.865,
          0.867
         ],
         "yaxis": "y"
        },
        {
         "hovertemplate": "Country=Bangladesh<br>Year=%{x}<br>GDI=%{y}<extra></extra>",
         "legendgroup": "Bangladesh",
         "line": {
          "color": "#ab63fa",
          "dash": "solid"
         },
         "marker": {
          "symbol": "circle"
         },
         "mode": "lines",
         "name": "Bangladesh",
         "showlegend": true,
         "type": "scattergl",
         "x": [
          1995,
          2000,
          2005,
          2010,
          2011,
          2012,
          2013,
          2014,
          2015,
          2016,
          2017,
          2018,
          2019
         ],
         "xaxis": "x",
         "y": [
          0.711,
          0.765,
          0.801,
          0.848,
          0.838,
          0.845,
          0.866,
          0.877,
          0.885,
          0.891,
          0.895,
          0.896,
          0.904
         ],
         "yaxis": "y"
        },
        {
         "hovertemplate": "Country=Bulgaria<br>Year=%{x}<br>GDI=%{y}<extra></extra>",
         "legendgroup": "Bulgaria",
         "line": {
          "color": "#FFA15A",
          "dash": "solid"
         },
         "marker": {
          "symbol": "circle"
         },
         "mode": "lines",
         "name": "Bulgaria",
         "showlegend": true,
         "type": "scattergl",
         "x": [
          1995,
          2000,
          2005,
          2010,
          2011,
          2012,
          2013,
          2014,
          2015,
          2016,
          2017,
          2018,
          2019
         ],
         "xaxis": "x",
         "y": [
          0.993,
          0.974,
          0.976,
          0.992,
          0.992,
          0.992,
          0.992,
          0.993,
          0.994,
          0.995,
          0.995,
          0.994,
          0.995
         ],
         "yaxis": "y"
        },
        {
         "hovertemplate": "Country=Bahrain<br>Year=%{x}<br>GDI=%{y}<extra></extra>",
         "legendgroup": "Bahrain",
         "line": {
          "color": "#19d3f3",
          "dash": "solid"
         },
         "marker": {
          "symbol": "circle"
         },
         "mode": "lines",
         "name": "Bahrain",
         "showlegend": true,
         "type": "scattergl",
         "x": [
          1995,
          2000,
          2005,
          2010,
          2011,
          2012,
          2013,
          2014,
          2015,
          2016,
          2017,
          2018,
          2019
         ],
         "xaxis": "x",
         "y": [
          0.932,
          0.9400000000000001,
          0.968,
          0.973,
          0.971,
          0.9440000000000001,
          0.9460000000000001,
          0.9440000000000001,
          0.9380000000000001,
          0.933,
          0.936,
          0.936,
          0.922
         ],
         "yaxis": "y"
        },
        {
         "hovertemplate": "Country=Bahamas<br>Year=%{x}<br>GDI=%{y}<extra></extra>",
         "legendgroup": "Bahamas",
         "line": {
          "color": "#FF6692",
          "dash": "solid"
         },
         "marker": {
          "symbol": "circle"
         },
         "mode": "lines",
         "name": "Bahamas",
         "showlegend": true,
         "type": "scattergl",
         "x": [
          2000
         ],
         "xaxis": "x",
         "y": [
          1.003
         ],
         "yaxis": "y"
        },
        {
         "hovertemplate": "Country=Bosnia and Herzegovina<br>Year=%{x}<br>GDI=%{y}<extra></extra>",
         "legendgroup": "Bosnia and Herzegovina",
         "line": {
          "color": "#B6E880",
          "dash": "solid"
         },
         "marker": {
          "symbol": "circle"
         },
         "mode": "lines",
         "name": "Bosnia and Herzegovina",
         "showlegend": true,
         "type": "scattergl",
         "x": [
          2005,
          2010,
          2011,
          2012,
          2013,
          2014,
          2015,
          2016,
          2017,
          2018,
          2019
         ],
         "xaxis": "x",
         "y": [
          0.914,
          0.934,
          0.936,
          0.919,
          0.917,
          0.92,
          0.926,
          0.929,
          0.931,
          0.932,
          0.937
         ],
         "yaxis": "y"
        },
        {
         "hovertemplate": "Country=Belarus<br>Year=%{x}<br>GDI=%{y}<extra></extra>",
         "legendgroup": "Belarus",
         "line": {
          "color": "#FF97FF",
          "dash": "solid"
         },
         "marker": {
          "symbol": "circle"
         },
         "mode": "lines",
         "name": "Belarus",
         "showlegend": true,
         "type": "scattergl",
         "x": [
          1995,
          2000,
          2005,
          2010,
          2011,
          2012,
          2013,
          2014,
          2015,
          2016,
          2017,
          2018,
          2019
         ],
         "xaxis": "x",
         "y": [
          1.014,
          1.023,
          1.028,
          1.026,
          1.022,
          1.021,
          1.019,
          1.018,
          1.015,
          1.014,
          1.013,
          1.009,
          1.007
         ],
         "yaxis": "y"
        },
        {
         "hovertemplate": "Country=Belize<br>Year=%{x}<br>GDI=%{y}<extra></extra>",
         "legendgroup": "Belize",
         "line": {
          "color": "#FECB52",
          "dash": "solid"
         },
         "marker": {
          "symbol": "circle"
         },
         "mode": "lines",
         "name": "Belize",
         "showlegend": true,
         "type": "scattergl",
         "x": [
          2000,
          2005,
          2010,
          2011,
          2012,
          2013,
          2014,
          2015,
          2016,
          2017,
          2018,
          2019
         ],
         "xaxis": "x",
         "y": [
          0.929,
          0.9400000000000001,
          0.9500000000000001,
          0.9510000000000001,
          0.963,
          0.963,
          0.964,
          0.967,
          0.974,
          0.974,
          0.977,
          0.976
         ],
         "yaxis": "y"
        },
        {
         "hovertemplate": "Country=Bolivia (Plurinational State of)<br>Year=%{x}<br>GDI=%{y}<extra></extra>",
         "legendgroup": "Bolivia (Plurinational State of)",
         "line": {
          "color": "#636efa",
          "dash": "solid"
         },
         "marker": {
          "symbol": "circle"
         },
         "mode": "lines",
         "name": "Bolivia (Plurinational State of)",
         "showlegend": true,
         "type": "scattergl",
         "x": [
          2005,
          2010,
          2011,
          2012,
          2013,
          2014,
          2015,
          2016,
          2017,
          2018,
          2019
         ],
         "xaxis": "x",
         "y": [
          0.918,
          0.92,
          0.924,
          0.923,
          0.926,
          0.93,
          0.931,
          0.931,
          0.9400000000000001,
          0.9450000000000001,
          0.9450000000000001
         ],
         "yaxis": "y"
        },
        {
         "hovertemplate": "Country=Brazil<br>Year=%{x}<br>GDI=%{y}<extra></extra>",
         "legendgroup": "Brazil",
         "line": {
          "color": "#EF553B",
          "dash": "solid"
         },
         "marker": {
          "symbol": "circle"
         },
         "mode": "lines",
         "name": "Brazil",
         "showlegend": true,
         "type": "scattergl",
         "x": [
          2000,
          2005,
          2010,
          2011,
          2012,
          2013,
          2014,
          2015,
          2016,
          2017,
          2018,
          2019
         ],
         "xaxis": "x",
         "y": [
          0.986,
          0.988,
          1.001,
          0.992,
          0.995,
          0.995,
          0.995,
          0.996,
          0.996,
          0.995,
          0.995,
          0.993
         ],
         "yaxis": "y"
        },
        {
         "hovertemplate": "Country=Barbados<br>Year=%{x}<br>GDI=%{y}<extra></extra>",
         "legendgroup": "Barbados",
         "line": {
          "color": "#00cc96",
          "dash": "solid"
         },
         "marker": {
          "symbol": "circle"
         },
         "mode": "lines",
         "name": "Barbados",
         "showlegend": true,
         "type": "scattergl",
         "x": [
          1995,
          2000,
          2005,
          2010,
          2011,
          2012,
          2013,
          2014,
          2015,
          2016,
          2017,
          2018,
          2019
         ],
         "xaxis": "x",
         "y": [
          0.971,
          0.989,
          0.992,
          1.009,
          1.009,
          1.008,
          1.008,
          1.01,
          1.009,
          1.009,
          1.009,
          1.008,
          1.008
         ],
         "yaxis": "y"
        },
        {
         "hovertemplate": "Country=Brunei Darussalam<br>Year=%{x}<br>GDI=%{y}<extra></extra>",
         "legendgroup": "Brunei Darussalam",
         "line": {
          "color": "#ab63fa",
          "dash": "solid"
         },
         "marker": {
          "symbol": "circle"
         },
         "mode": "lines",
         "name": "Brunei Darussalam",
         "showlegend": true,
         "type": "scattergl",
         "x": [
          1995,
          2000,
          2005,
          2010,
          2011,
          2012,
          2013,
          2014,
          2015,
          2016,
          2017,
          2018,
          2019
         ],
         "xaxis": "x",
         "y": [
          0.9520000000000001,
          0.9570000000000001,
          0.9560000000000001,
          0.962,
          0.968,
          0.972,
          0.975,
          0.976,
          0.978,
          0.978,
          0.978,
          0.978,
          0.981
         ],
         "yaxis": "y"
        },
        {
         "hovertemplate": "Country=Bhutan<br>Year=%{x}<br>GDI=%{y}<extra></extra>",
         "legendgroup": "Bhutan",
         "line": {
          "color": "#FFA15A",
          "dash": "solid"
         },
         "marker": {
          "symbol": "circle"
         },
         "mode": "lines",
         "name": "Bhutan",
         "showlegend": true,
         "type": "scattergl",
         "x": [
          2005,
          2010,
          2011,
          2012,
          2013,
          2014,
          2015,
          2016,
          2017,
          2018,
          2019
         ],
         "xaxis": "x",
         "y": [
          0.872,
          0.903,
          0.906,
          0.913,
          0.903,
          0.901,
          0.906,
          0.908,
          0.909,
          0.91,
          0.921
         ],
         "yaxis": "y"
        },
        {
         "hovertemplate": "Country=Botswana<br>Year=%{x}<br>GDI=%{y}<extra></extra>",
         "legendgroup": "Botswana",
         "line": {
          "color": "#19d3f3",
          "dash": "solid"
         },
         "marker": {
          "symbol": "circle"
         },
         "mode": "lines",
         "name": "Botswana",
         "showlegend": true,
         "type": "scattergl",
         "x": [
          1995,
          2000,
          2005,
          2010,
          2011,
          2012,
          2013,
          2014,
          2015,
          2016,
          2017,
          2018,
          2019
         ],
         "xaxis": "x",
         "y": [
          0.996,
          0.974,
          0.9560000000000001,
          0.977,
          0.981,
          0.982,
          0.99,
          0.992,
          0.993,
          0.994,
          0.995,
          0.995,
          0.998
         ],
         "yaxis": "y"
        },
        {
         "hovertemplate": "Country=Central African Republic<br>Year=%{x}<br>GDI=%{y}<extra></extra>",
         "legendgroup": "Central African Republic",
         "line": {
          "color": "#FF6692",
          "dash": "solid"
         },
         "marker": {
          "symbol": "circle"
         },
         "mode": "lines",
         "name": "Central African Republic",
         "showlegend": true,
         "type": "scattergl",
         "x": [
          1995,
          2000,
          2005,
          2010,
          2011,
          2012,
          2013,
          2014,
          2015,
          2016,
          2017,
          2018,
          2019
         ],
         "xaxis": "x",
         "y": [
          0.741,
          0.744,
          0.748,
          0.758,
          0.765,
          0.772,
          0.769,
          0.776,
          0.784,
          0.793,
          0.797,
          0.8,
          0.801
         ],
         "yaxis": "y"
        },
        {
         "hovertemplate": "Country=Canada<br>Year=%{x}<br>GDI=%{y}<extra></extra>",
         "legendgroup": "Canada",
         "line": {
          "color": "#B6E880",
          "dash": "solid"
         },
         "marker": {
          "symbol": "circle"
         },
         "mode": "lines",
         "name": "Canada",
         "showlegend": true,
         "type": "scattergl",
         "x": [
          1995,
          2000,
          2005,
          2010,
          2011,
          2012,
          2013,
          2014,
          2015,
          2016,
          2017,
          2018,
          2019
         ],
         "xaxis": "x",
         "y": [
          0.974,
          0.977,
          0.986,
          0.988,
          0.988,
          0.988,
          0.989,
          0.989,
          0.989,
          0.99,
          0.99,
          0.99,
          0.986
         ],
         "yaxis": "y"
        },
        {
         "hovertemplate": "Country=Switzerland<br>Year=%{x}<br>GDI=%{y}<extra></extra>",
         "legendgroup": "Switzerland",
         "line": {
          "color": "#FF97FF",
          "dash": "solid"
         },
         "marker": {
          "symbol": "circle"
         },
         "mode": "lines",
         "name": "Switzerland",
         "showlegend": true,
         "type": "scattergl",
         "x": [
          1995,
          2000,
          2005,
          2010,
          2011,
          2012,
          2013,
          2014,
          2015,
          2016,
          2017,
          2018,
          2019
         ],
         "xaxis": "x",
         "y": [
          0.9410000000000001,
          0.9520000000000001,
          0.9590000000000001,
          0.966,
          0.964,
          0.967,
          0.968,
          0.969,
          0.969,
          0.968,
          0.967,
          0.968,
          0.968
         ],
         "yaxis": "y"
        },
        {
         "hovertemplate": "Country=Chile<br>Year=%{x}<br>GDI=%{y}<extra></extra>",
         "legendgroup": "Chile",
         "line": {
          "color": "#FECB52",
          "dash": "solid"
         },
         "marker": {
          "symbol": "circle"
         },
         "mode": "lines",
         "name": "Chile",
         "showlegend": true,
         "type": "scattergl",
         "x": [
          1995,
          2000,
          2005,
          2010,
          2011,
          2012,
          2013,
          2014,
          2015,
          2016,
          2017,
          2018,
          2019
         ],
         "xaxis": "x",
         "y": [
          0.927,
          0.934,
          0.9450000000000001,
          0.96,
          0.962,
          0.963,
          0.961,
          0.961,
          0.963,
          0.963,
          0.963,
          0.964,
          0.963
         ],
         "yaxis": "y"
        },
        {
         "hovertemplate": "Country=China<br>Year=%{x}<br>GDI=%{y}<extra></extra>",
         "legendgroup": "China",
         "line": {
          "color": "#636efa",
          "dash": "solid"
         },
         "marker": {
          "symbol": "circle"
         },
         "mode": "lines",
         "name": "China",
         "showlegend": true,
         "type": "scattergl",
         "x": [
          1995,
          2000,
          2005,
          2010,
          2011,
          2012,
          2013,
          2014,
          2015,
          2016,
          2017,
          2018,
          2019
         ],
         "xaxis": "x",
         "y": [
          0.912,
          0.913,
          0.928,
          0.9450000000000001,
          0.9480000000000001,
          0.9520000000000001,
          0.9570000000000001,
          0.9590000000000001,
          0.9580000000000001,
          0.9590000000000001,
          0.96,
          0.9590000000000001,
          0.9570000000000001
         ],
         "yaxis": "y"
        },
        {
         "hovertemplate": "Country=Cote d'Ivoire<br>Year=%{x}<br>GDI=%{y}<extra></extra>",
         "legendgroup": "Cote d'Ivoire",
         "line": {
          "color": "#EF553B",
          "dash": "solid"
         },
         "marker": {
          "symbol": "circle"
         },
         "mode": "lines",
         "name": "Cote d'Ivoire",
         "showlegend": true,
         "type": "scattergl",
         "x": [
          1995,
          2000,
          2005,
          2010,
          2011,
          2012,
          2013,
          2014,
          2015,
          2016,
          2017,
          2018,
          2019
         ],
         "xaxis": "x",
         "y": [
          0.754,
          0.766,
          0.782,
          0.76,
          0.762,
          0.778,
          0.8150000000000001,
          0.787,
          0.795,
          0.799,
          0.842,
          0.804,
          0.811
         ],
         "yaxis": "y"
        },
        {
         "hovertemplate": "Country=Cameroon<br>Year=%{x}<br>GDI=%{y}<extra></extra>",
         "legendgroup": "Cameroon",
         "line": {
          "color": "#00cc96",
          "dash": "solid"
         },
         "marker": {
          "symbol": "circle"
         },
         "mode": "lines",
         "name": "Cameroon",
         "showlegend": true,
         "type": "scattergl",
         "x": [
          2000,
          2005,
          2010,
          2011,
          2012,
          2013,
          2014,
          2015,
          2016,
          2017,
          2018,
          2019
         ],
         "xaxis": "x",
         "y": [
          0.863,
          0.843,
          0.854,
          0.861,
          0.865,
          0.866,
          0.835,
          0.868,
          0.867,
          0.869,
          0.87,
          0.864
         ],
         "yaxis": "y"
        },
        {
         "hovertemplate": "Country=Congo (Democratic Republic of the)<br>Year=%{x}<br>GDI=%{y}<extra></extra>",
         "legendgroup": "Congo (Democratic Republic of the)",
         "line": {
          "color": "#ab63fa",
          "dash": "solid"
         },
         "marker": {
          "symbol": "circle"
         },
         "mode": "lines",
         "name": "Congo (Democratic Republic of the)",
         "showlegend": true,
         "type": "scattergl",
         "x": [
          2005,
          2010,
          2011,
          2012,
          2013,
          2014,
          2015,
          2016,
          2017,
          2018,
          2019
         ],
         "xaxis": "x",
         "y": [
          0.8130000000000001,
          0.8200000000000001,
          0.8220000000000001,
          0.8260000000000001,
          0.8220000000000001,
          0.8160000000000001,
          0.8290000000000001,
          0.841,
          0.848,
          0.849,
          0.845
         ],
         "yaxis": "y"
        },
        {
         "hovertemplate": "Country=Congo<br>Year=%{x}<br>GDI=%{y}<extra></extra>",
         "legendgroup": "Congo",
         "line": {
          "color": "#FFA15A",
          "dash": "solid"
         },
         "marker": {
          "symbol": "circle"
         },
         "mode": "lines",
         "name": "Congo",
         "showlegend": true,
         "type": "scattergl",
         "x": [
          1995,
          2000,
          2005,
          2010,
          2011,
          2012,
          2013,
          2014,
          2015,
          2016,
          2017,
          2018,
          2019
         ],
         "xaxis": "x",
         "y": [
          0.881,
          0.88,
          0.878,
          0.914,
          0.916,
          0.92,
          0.922,
          0.924,
          0.927,
          0.928,
          0.928,
          0.928,
          0.929
         ],
         "yaxis": "y"
        },
        {
         "hovertemplate": "Country=Colombia<br>Year=%{x}<br>GDI=%{y}<extra></extra>",
         "legendgroup": "Colombia",
         "line": {
          "color": "#19d3f3",
          "dash": "solid"
         },
         "marker": {
          "symbol": "circle"
         },
         "mode": "lines",
         "name": "Colombia",
         "showlegend": true,
         "type": "scattergl",
         "x": [
          1995,
          2000,
          2005,
          2010,
          2011,
          2012,
          2013,
          2014,
          2015,
          2016,
          2017,
          2018,
          2019
         ],
         "xaxis": "x",
         "y": [
          0.965,
          0.974,
          0.971,
          0.986,
          0.985,
          0.986,
          0.988,
          0.984,
          0.987,
          0.989,
          0.989,
          0.99,
          0.989
         ],
         "yaxis": "y"
        },
        {
         "hovertemplate": "Country=Comoros<br>Year=%{x}<br>GDI=%{y}<extra></extra>",
         "legendgroup": "Comoros",
         "line": {
          "color": "#FF6692",
          "dash": "solid"
         },
         "marker": {
          "symbol": "circle"
         },
         "mode": "lines",
         "name": "Comoros",
         "showlegend": true,
         "type": "scattergl",
         "x": [
          2000,
          2005,
          2010,
          2011,
          2012,
          2013,
          2014,
          2015,
          2016,
          2017,
          2018,
          2019
         ],
         "xaxis": "x",
         "y": [
          0.839,
          0.851,
          0.876,
          0.879,
          0.882,
          0.886,
          0.904,
          0.888,
          0.889,
          0.889,
          0.89,
          0.891
         ],
         "yaxis": "y"
        },
        {
         "hovertemplate": "Country=Cabo Verde<br>Year=%{x}<br>GDI=%{y}<extra></extra>",
         "legendgroup": "Cabo Verde",
         "line": {
          "color": "#B6E880",
          "dash": "solid"
         },
         "marker": {
          "symbol": "circle"
         },
         "mode": "lines",
         "name": "Cabo Verde",
         "showlegend": true,
         "type": "scattergl",
         "x": [
          2000,
          2005,
          2010,
          2011,
          2012,
          2013,
          2014,
          2015,
          2016,
          2017,
          2018,
          2019
         ],
         "xaxis": "x",
         "y": [
          0.935,
          0.96,
          0.962,
          0.96,
          0.97,
          0.971,
          0.971,
          0.98,
          0.97,
          0.971,
          0.972,
          0.974
         ],
         "yaxis": "y"
        },
        {
         "hovertemplate": "Country=Costa Rica<br>Year=%{x}<br>GDI=%{y}<extra></extra>",
         "legendgroup": "Costa Rica",
         "line": {
          "color": "#FF97FF",
          "dash": "solid"
         },
         "marker": {
          "symbol": "circle"
         },
         "mode": "lines",
         "name": "Costa Rica",
         "showlegend": true,
         "type": "scattergl",
         "x": [
          2000,
          2005,
          2010,
          2011,
          2012,
          2013,
          2014,
          2015,
          2016,
          2017,
          2018,
          2019
         ],
         "xaxis": "x",
         "y": [
          0.9430000000000001,
          0.966,
          0.967,
          0.973,
          0.979,
          0.98,
          0.979,
          0.982,
          0.979,
          0.978,
          0.981,
          0.981
         ],
         "yaxis": "y"
        },
        {
         "hovertemplate": "Country=Cuba<br>Year=%{x}<br>GDI=%{y}<extra></extra>",
         "legendgroup": "Cuba",
         "line": {
          "color": "#FECB52",
          "dash": "solid"
         },
         "marker": {
          "symbol": "circle"
         },
         "mode": "lines",
         "name": "Cuba",
         "showlegend": true,
         "type": "scattergl",
         "x": [
          1995,
          2000,
          2005,
          2010,
          2011,
          2012,
          2013,
          2014,
          2015,
          2016,
          2017,
          2018,
          2019
         ],
         "xaxis": "x",
         "y": [
          0.918,
          0.915,
          0.9450000000000001,
          0.967,
          0.964,
          0.9590000000000001,
          0.9590000000000001,
          0.9520000000000001,
          0.9510000000000001,
          0.9520000000000001,
          0.9500000000000001,
          0.9530000000000001,
          0.9440000000000001
         ],
         "yaxis": "y"
        },
        {
         "hovertemplate": "Country=Cyprus<br>Year=%{x}<br>GDI=%{y}<extra></extra>",
         "legendgroup": "Cyprus",
         "line": {
          "color": "#636efa",
          "dash": "solid"
         },
         "marker": {
          "symbol": "circle"
         },
         "mode": "lines",
         "name": "Cyprus",
         "showlegend": true,
         "type": "scattergl",
         "x": [
          1995,
          2000,
          2005,
          2010,
          2011,
          2012,
          2013,
          2014,
          2015,
          2016,
          2017,
          2018,
          2019
         ],
         "xaxis": "x",
         "y": [
          0.935,
          0.9480000000000001,
          0.9550000000000001,
          0.962,
          0.97,
          0.974,
          0.976,
          0.98,
          0.985,
          0.985,
          0.984,
          0.983,
          0.979
         ],
         "yaxis": "y"
        },
        {
         "hovertemplate": "Country=Czechia<br>Year=%{x}<br>GDI=%{y}<extra></extra>",
         "legendgroup": "Czechia",
         "line": {
          "color": "#EF553B",
          "dash": "solid"
         },
         "marker": {
          "symbol": "circle"
         },
         "mode": "lines",
         "name": "Czechia",
         "showlegend": true,
         "type": "scattergl",
         "x": [
          1995,
          2000,
          2005,
          2010,
          2011,
          2012,
          2013,
          2014,
          2015,
          2016,
          2017,
          2018,
          2019
         ],
         "xaxis": "x",
         "y": [
          0.973,
          0.971,
          0.974,
          0.976,
          0.979,
          0.981,
          0.985,
          0.983,
          0.984,
          0.985,
          0.985,
          0.985,
          0.985
         ],
         "yaxis": "y"
        },
        {
         "hovertemplate": "Country=Germany<br>Year=%{x}<br>GDI=%{y}<extra></extra>",
         "legendgroup": "Germany",
         "line": {
          "color": "#00cc96",
          "dash": "solid"
         },
         "marker": {
          "symbol": "circle"
         },
         "mode": "lines",
         "name": "Germany",
         "showlegend": true,
         "type": "scattergl",
         "x": [
          1995,
          2000,
          2005,
          2010,
          2011,
          2012,
          2013,
          2014,
          2015,
          2016,
          2017,
          2018,
          2019
         ],
         "xaxis": "x",
         "y": [
          0.9440000000000001,
          0.9430000000000001,
          0.9570000000000001,
          0.96,
          0.963,
          0.963,
          0.966,
          0.964,
          0.968,
          0.969,
          0.969,
          0.968,
          0.972
         ],
         "yaxis": "y"
        },
        {
         "hovertemplate": "Country=Denmark<br>Year=%{x}<br>GDI=%{y}<extra></extra>",
         "legendgroup": "Denmark",
         "line": {
          "color": "#ab63fa",
          "dash": "solid"
         },
         "marker": {
          "symbol": "circle"
         },
         "mode": "lines",
         "name": "Denmark",
         "showlegend": true,
         "type": "scattergl",
         "x": [
          1995,
          2000,
          2005,
          2010,
          2011,
          2012,
          2013,
          2014,
          2015,
          2016,
          2017,
          2018,
          2019
         ],
         "xaxis": "x",
         "y": [
          0.963,
          0.988,
          0.989,
          0.991,
          0.983,
          0.982,
          0.978,
          0.974,
          0.98,
          0.981,
          0.981,
          0.981,
          0.983
         ],
         "yaxis": "y"
        },
        {
         "hovertemplate": "Country=Dominican Republic<br>Year=%{x}<br>GDI=%{y}<extra></extra>",
         "legendgroup": "Dominican Republic",
         "line": {
          "color": "#FFA15A",
          "dash": "solid"
         },
         "marker": {
          "symbol": "circle"
         },
         "mode": "lines",
         "name": "Dominican Republic",
         "showlegend": true,
         "type": "scattergl",
         "x": [
          2010,
          2011,
          2012,
          2013,
          2014,
          2015,
          2016,
          2017,
          2018,
          2019
         ],
         "xaxis": "x",
         "y": [
          0.979,
          0.985,
          0.991,
          0.99,
          0.99,
          0.99,
          0.987,
          1,
          0.999,
          0.999
         ],
         "yaxis": "y"
        },
        {
         "hovertemplate": "Country=Algeria<br>Year=%{x}<br>GDI=%{y}<extra></extra>",
         "legendgroup": "Algeria",
         "line": {
          "color": "#19d3f3",
          "dash": "solid"
         },
         "marker": {
          "symbol": "circle"
         },
         "mode": "lines",
         "name": "Algeria",
         "showlegend": true,
         "type": "scattergl",
         "x": [
          2000,
          2005,
          2010,
          2011,
          2012,
          2013,
          2014,
          2015,
          2016,
          2017,
          2018,
          2019
         ],
         "xaxis": "x",
         "y": [
          0.777,
          0.801,
          0.8300000000000001,
          0.834,
          0.836,
          0.839,
          0.836,
          0.854,
          0.855,
          0.861,
          0.86,
          0.858
         ],
         "yaxis": "y"
        },
        {
         "hovertemplate": "Country=Ecuador<br>Year=%{x}<br>GDI=%{y}<extra></extra>",
         "legendgroup": "Ecuador",
         "line": {
          "color": "#FF6692",
          "dash": "solid"
         },
         "marker": {
          "symbol": "circle"
         },
         "mode": "lines",
         "name": "Ecuador",
         "showlegend": true,
         "type": "scattergl",
         "x": [
          2010,
          2011,
          2012,
          2013,
          2014,
          2015,
          2016,
          2017,
          2018,
          2019
         ],
         "xaxis": "x",
         "y": [
          0.9590000000000001,
          0.9590000000000001,
          0.961,
          0.965,
          0.968,
          0.976,
          0.98,
          0.981,
          0.979,
          0.967
         ],
         "yaxis": "y"
        },
        {
         "hovertemplate": "Country=Egypt<br>Year=%{x}<br>GDI=%{y}<extra></extra>",
         "legendgroup": "Egypt",
         "line": {
          "color": "#B6E880",
          "dash": "solid"
         },
         "marker": {
          "symbol": "circle"
         },
         "mode": "lines",
         "name": "Egypt",
         "showlegend": true,
         "type": "scattergl",
         "x": [
          1995,
          2000,
          2005,
          2010,
          2011,
          2012,
          2013,
          2014,
          2015,
          2016,
          2017,
          2018,
          2019
         ],
         "xaxis": "x",
         "y": [
          0.798,
          0.808,
          0.8260000000000001,
          0.843,
          0.855,
          0.866,
          0.871,
          0.875,
          0.878,
          0.882,
          0.885,
          0.88,
          0.882
         ],
         "yaxis": "y"
        },
        {
         "hovertemplate": "Country=Spain<br>Year=%{x}<br>GDI=%{y}<extra></extra>",
         "legendgroup": "Spain",
         "line": {
          "color": "#FF97FF",
          "dash": "solid"
         },
         "marker": {
          "symbol": "circle"
         },
         "mode": "lines",
         "name": "Spain",
         "showlegend": true,
         "type": "scattergl",
         "x": [
          1995,
          2000,
          2005,
          2010,
          2011,
          2012,
          2013,
          2014,
          2015,
          2016,
          2017,
          2018,
          2019
         ],
         "xaxis": "x",
         "y": [
          0.964,
          0.968,
          0.975,
          0.98,
          0.98,
          0.98,
          0.98,
          0.978,
          0.979,
          0.981,
          0.98,
          0.981,
          0.986
         ],
         "yaxis": "y"
        },
        {
         "hovertemplate": "Country=Estonia<br>Year=%{x}<br>GDI=%{y}<extra></extra>",
         "legendgroup": "Estonia",
         "line": {
          "color": "#FECB52",
          "dash": "solid"
         },
         "marker": {
          "symbol": "circle"
         },
         "mode": "lines",
         "name": "Estonia",
         "showlegend": true,
         "type": "scattergl",
         "x": [
          1995,
          2000,
          2005,
          2010,
          2011,
          2012,
          2013,
          2014,
          2015,
          2016,
          2017,
          2018,
          2019
         ],
         "xaxis": "x",
         "y": [
          1.016,
          1.033,
          1.04,
          1.029,
          1.026,
          1.024,
          1.021,
          1.019,
          1.019,
          1.017,
          1.017,
          1.016,
          1.017
         ],
         "yaxis": "y"
        },
        {
         "hovertemplate": "Country=Ethiopia<br>Year=%{x}<br>GDI=%{y}<extra></extra>",
         "legendgroup": "Ethiopia",
         "line": {
          "color": "#636efa",
          "dash": "solid"
         },
         "marker": {
          "symbol": "circle"
         },
         "mode": "lines",
         "name": "Ethiopia",
         "showlegend": true,
         "type": "scattergl",
         "x": [
          2000,
          2005,
          2010,
          2011,
          2012,
          2013,
          2014,
          2015,
          2016,
          2017,
          2018,
          2019
         ],
         "xaxis": "x",
         "y": [
          0.747,
          0.766,
          0.8220000000000001,
          0.8260000000000001,
          0.8310000000000001,
          0.834,
          0.837,
          0.843,
          0.844,
          0.846,
          0.846,
          0.837
         ],
         "yaxis": "y"
        },
        {
         "hovertemplate": "Country=Finland<br>Year=%{x}<br>GDI=%{y}<extra></extra>",
         "legendgroup": "Finland",
         "line": {
          "color": "#EF553B",
          "dash": "solid"
         },
         "marker": {
          "symbol": "circle"
         },
         "mode": "lines",
         "name": "Finland",
         "showlegend": true,
         "type": "scattergl",
         "x": [
          1995,
          2000,
          2005,
          2010,
          2011,
          2012,
          2013,
          2014,
          2015,
          2016,
          2017,
          2018,
          2019
         ],
         "xaxis": "x",
         "y": [
          1.003,
          0.997,
          1.001,
          1.006,
          1.003,
          1.006,
          0.989,
          0.99,
          0.991,
          0.991,
          0.99,
          0.99,
          0.99
         ],
         "yaxis": "y"
        },
        {
         "hovertemplate": "Country=Fiji<br>Year=%{x}<br>GDI=%{y}<extra></extra>",
         "legendgroup": "Fiji",
         "line": {
          "color": "#00cc96",
          "dash": "solid"
         },
         "marker": {
          "symbol": "circle"
         },
         "mode": "lines",
         "name": "Fiji",
         "showlegend": true,
         "type": "scattergl",
         "x": [
          2000,
          2005
         ],
         "xaxis": "x",
         "y": [
          0.92,
          0.933
         ],
         "yaxis": "y"
        },
        {
         "hovertemplate": "Country=France<br>Year=%{x}<br>GDI=%{y}<extra></extra>",
         "legendgroup": "France",
         "line": {
          "color": "#ab63fa",
          "dash": "solid"
         },
         "marker": {
          "symbol": "circle"
         },
         "mode": "lines",
         "name": "France",
         "showlegend": true,
         "type": "scattergl",
         "x": [
          1995,
          2000,
          2005,
          2010,
          2011,
          2012,
          2013,
          2014,
          2015,
          2016,
          2017,
          2018,
          2019
         ],
         "xaxis": "x",
         "y": [
          0.982,
          0.985,
          0.985,
          0.99,
          0.991,
          0.992,
          0.991,
          0.989,
          0.989,
          0.989,
          0.988,
          0.987,
          0.987
         ],
         "yaxis": "y"
        },
        {
         "hovertemplate": "Country=Gabon<br>Year=%{x}<br>GDI=%{y}<extra></extra>",
         "legendgroup": "Gabon",
         "line": {
          "color": "#FFA15A",
          "dash": "solid"
         },
         "marker": {
          "symbol": "circle"
         },
         "mode": "lines",
         "name": "Gabon",
         "showlegend": true,
         "type": "scattergl",
         "x": [
          1995,
          2000,
          2005,
          2010,
          2011,
          2012,
          2013,
          2014,
          2015,
          2016,
          2017,
          2018,
          2019
         ],
         "xaxis": "x",
         "y": [
          0.9390000000000001,
          0.92,
          0.928,
          0.916,
          0.909,
          0.909,
          0.908,
          0.911,
          0.913,
          0.913,
          0.914,
          0.916,
          0.916
         ],
         "yaxis": "y"
        },
        {
         "hovertemplate": "Country=United Kingdom<br>Year=%{x}<br>GDI=%{y}<extra></extra>",
         "legendgroup": "United Kingdom",
         "line": {
          "color": "#19d3f3",
          "dash": "solid"
         },
         "marker": {
          "symbol": "circle"
         },
         "mode": "lines",
         "name": "United Kingdom",
         "showlegend": true,
         "type": "scattergl",
         "x": [
          1995,
          2000,
          2005,
          2010,
          2011,
          2012,
          2013,
          2014,
          2015,
          2016,
          2017,
          2018,
          2019
         ],
         "xaxis": "x",
         "y": [
          0.965,
          0.973,
          0.98,
          0.965,
          0.965,
          0.965,
          0.965,
          0.963,
          0.968,
          0.967,
          0.968,
          0.968,
          0.97
         ],
         "yaxis": "y"
        },
        {
         "hovertemplate": "Country=Georgia<br>Year=%{x}<br>GDI=%{y}<extra></extra>",
         "legendgroup": "Georgia",
         "line": {
          "color": "#FF6692",
          "dash": "solid"
         },
         "marker": {
          "symbol": "circle"
         },
         "mode": "lines",
         "name": "Georgia",
         "showlegend": true,
         "type": "scattergl",
         "x": [
          2000,
          2005,
          2010,
          2011,
          2012,
          2013,
          2014,
          2015,
          2016,
          2017,
          2018,
          2019
         ],
         "xaxis": "x",
         "y": [
          0.9520000000000001,
          0.9470000000000001,
          0.966,
          0.97,
          0.971,
          0.976,
          0.98,
          0.982,
          0.979,
          0.979,
          0.979,
          0.98
         ],
         "yaxis": "y"
        },
        {
         "hovertemplate": "Country=Ghana<br>Year=%{x}<br>GDI=%{y}<extra></extra>",
         "legendgroup": "Ghana",
         "line": {
          "color": "#B6E880",
          "dash": "solid"
         },
         "marker": {
          "symbol": "circle"
         },
         "mode": "lines",
         "name": "Ghana",
         "showlegend": true,
         "type": "scattergl",
         "x": [
          1995,
          2000,
          2005,
          2010,
          2011,
          2012,
          2013,
          2014,
          2015,
          2016,
          2017,
          2018,
          2019
         ],
         "xaxis": "x",
         "y": [
          0.839,
          0.853,
          0.866,
          0.884,
          0.885,
          0.887,
          0.89,
          0.892,
          0.892,
          0.903,
          0.904,
          0.909,
          0.911
         ],
         "yaxis": "y"
        },
        {
         "hovertemplate": "Country=Guinea<br>Year=%{x}<br>GDI=%{y}<extra></extra>",
         "legendgroup": "Guinea",
         "line": {
          "color": "#FF97FF",
          "dash": "solid"
         },
         "marker": {
          "symbol": "circle"
         },
         "mode": "lines",
         "name": "Guinea",
         "showlegend": true,
         "type": "scattergl",
         "x": [
          2000,
          2005,
          2010,
          2011,
          2012,
          2013,
          2014,
          2015,
          2016,
          2017,
          2018,
          2019
         ],
         "xaxis": "x",
         "y": [
          0.741,
          0.788,
          0.8170000000000001,
          0.8130000000000001,
          0.808,
          0.8130000000000001,
          0.8190000000000001,
          0.8170000000000001,
          0.8160000000000001,
          0.8160000000000001,
          0.8160000000000001,
          0.8170000000000001
         ],
         "yaxis": "y"
        },
        {
         "hovertemplate": "Country=Gambia<br>Year=%{x}<br>GDI=%{y}<extra></extra>",
         "legendgroup": "Gambia",
         "line": {
          "color": "#FECB52",
          "dash": "solid"
         },
         "marker": {
          "symbol": "circle"
         },
         "mode": "lines",
         "name": "Gambia",
         "showlegend": true,
         "type": "scattergl",
         "x": [
          1995,
          2000,
          2005,
          2010,
          2011,
          2012,
          2013,
          2014,
          2015,
          2016,
          2017,
          2018,
          2019
         ],
         "xaxis": "x",
         "y": [
          0.769,
          0.81,
          0.849,
          0.8210000000000001,
          0.8180000000000001,
          0.8230000000000001,
          0.8270000000000001,
          0.8280000000000001,
          0.8280000000000001,
          0.8290000000000001,
          0.836,
          0.843,
          0.846
         ],
         "yaxis": "y"
        },
        {
         "hovertemplate": "Country=Greece<br>Year=%{x}<br>GDI=%{y}<extra></extra>",
         "legendgroup": "Greece",
         "line": {
          "color": "#636efa",
          "dash": "solid"
         },
         "marker": {
          "symbol": "circle"
         },
         "mode": "lines",
         "name": "Greece",
         "showlegend": true,
         "type": "scattergl",
         "x": [
          1995,
          2000,
          2005,
          2010,
          2011,
          2012,
          2013,
          2014,
          2015,
          2016,
          2017,
          2018,
          2019
         ],
         "xaxis": "x",
         "y": [
          0.933,
          0.9480000000000001,
          0.962,
          0.961,
          0.964,
          0.964,
          0.963,
          0.961,
          0.963,
          0.963,
          0.964,
          0.964,
          0.963
         ],
         "yaxis": "y"
        },
        {
         "hovertemplate": "Country=Guatemala<br>Year=%{x}<br>GDI=%{y}<extra></extra>",
         "legendgroup": "Guatemala",
         "line": {
          "color": "#EF553B",
          "dash": "solid"
         },
         "marker": {
          "symbol": "circle"
         },
         "mode": "lines",
         "name": "Guatemala",
         "showlegend": true,
         "type": "scattergl",
         "x": [
          2000,
          2005,
          2010,
          2011,
          2012,
          2013,
          2014,
          2015,
          2016,
          2017,
          2018,
          2019
         ],
         "xaxis": "x",
         "y": [
          0.895,
          0.905,
          0.913,
          0.907,
          0.924,
          0.924,
          0.9410000000000001,
          0.9480000000000001,
          0.9470000000000001,
          0.9430000000000001,
          0.9410000000000001,
          0.9410000000000001
         ],
         "yaxis": "y"
        },
        {
         "hovertemplate": "Country=Guyana<br>Year=%{x}<br>GDI=%{y}<extra></extra>",
         "legendgroup": "Guyana",
         "line": {
          "color": "#00cc96",
          "dash": "solid"
         },
         "marker": {
          "symbol": "circle"
         },
         "mode": "lines",
         "name": "Guyana",
         "showlegend": true,
         "type": "scattergl",
         "x": [
          2000,
          2005,
          2010,
          2011,
          2012,
          2013,
          2014,
          2015,
          2016,
          2017,
          2018,
          2019
         ],
         "xaxis": "x",
         "y": [
          0.933,
          0.9530000000000001,
          0.9530000000000001,
          0.9550000000000001,
          0.9580000000000001,
          0.96,
          0.962,
          0.963,
          0.965,
          0.966,
          0.967,
          0.961
         ],
         "yaxis": "y"
        },
        {
         "hovertemplate": "Country=Hong Kong, China (SAR)<br>Year=%{x}<br>GDI=%{y}<extra></extra>",
         "legendgroup": "Hong Kong, China (SAR)",
         "line": {
          "color": "#ab63fa",
          "dash": "solid"
         },
         "marker": {
          "symbol": "circle"
         },
         "mode": "lines",
         "name": "Hong Kong, China (SAR)",
         "showlegend": true,
         "type": "scattergl",
         "x": [
          2010,
          2011,
          2012,
          2013,
          2014,
          2015,
          2016,
          2017,
          2018,
          2019
         ],
         "xaxis": "x",
         "y": [
          0.966,
          0.964,
          0.966,
          0.967,
          0.966,
          0.965,
          0.964,
          0.967,
          0.967,
          0.972
         ],
         "yaxis": "y"
        },
        {
         "hovertemplate": "Country=Honduras<br>Year=%{x}<br>GDI=%{y}<extra></extra>",
         "legendgroup": "Honduras",
         "line": {
          "color": "#FFA15A",
          "dash": "solid"
         },
         "marker": {
          "symbol": "circle"
         },
         "mode": "lines",
         "name": "Honduras",
         "showlegend": true,
         "type": "scattergl",
         "x": [
          1995,
          2000,
          2005,
          2010,
          2011,
          2012,
          2013,
          2014,
          2015,
          2016,
          2017,
          2018,
          2019
         ],
         "xaxis": "x",
         "y": [
          0.922,
          0.92,
          0.964,
          0.973,
          0.966,
          0.964,
          0.97,
          0.971,
          0.974,
          0.973,
          0.971,
          0.978,
          0.978
         ],
         "yaxis": "y"
        },
        {
         "hovertemplate": "Country=Croatia<br>Year=%{x}<br>GDI=%{y}<extra></extra>",
         "legendgroup": "Croatia",
         "line": {
          "color": "#19d3f3",
          "dash": "solid"
         },
         "marker": {
          "symbol": "circle"
         },
         "mode": "lines",
         "name": "Croatia",
         "showlegend": true,
         "type": "scattergl",
         "x": [
          1995,
          2000,
          2005,
          2010,
          2011,
          2012,
          2013,
          2014,
          2015,
          2016,
          2017,
          2018,
          2019
         ],
         "xaxis": "x",
         "y": [
          0.935,
          0.965,
          0.984,
          0.989,
          0.985,
          0.985,
          0.988,
          0.988,
          0.987,
          0.986,
          0.989,
          0.99,
          0.99
         ],
         "yaxis": "y"
        },
        {
         "hovertemplate": "Country=Haiti<br>Year=%{x}<br>GDI=%{y}<extra></extra>",
         "legendgroup": "Haiti",
         "line": {
          "color": "#FF6692",
          "dash": "solid"
         },
         "marker": {
          "symbol": "circle"
         },
         "mode": "lines",
         "name": "Haiti",
         "showlegend": true,
         "type": "scattergl",
         "x": [
          2010,
          2011,
          2012,
          2013,
          2014,
          2015,
          2016,
          2017,
          2018,
          2019
         ],
         "xaxis": "x",
         "y": [
          0.856,
          0.864,
          0.869,
          0.875,
          0.88,
          0.879,
          0.887,
          0.881,
          0.875,
          0.875
         ],
         "yaxis": "y"
        },
        {
         "hovertemplate": "Country=Hungary<br>Year=%{x}<br>GDI=%{y}<extra></extra>",
         "legendgroup": "Hungary",
         "line": {
          "color": "#B6E880",
          "dash": "solid"
         },
         "marker": {
          "symbol": "circle"
         },
         "mode": "lines",
         "name": "Hungary",
         "showlegend": true,
         "type": "scattergl",
         "x": [
          1995,
          2000,
          2005,
          2010,
          2011,
          2012,
          2013,
          2014,
          2015,
          2016,
          2017,
          2018,
          2019
         ],
         "xaxis": "x",
         "y": [
          0.987,
          0.983,
          0.996,
          0.993,
          0.992,
          0.991,
          0.992,
          0.989,
          0.987,
          0.985,
          0.98,
          0.98,
          0.981
         ],
         "yaxis": "y"
        },
        {
         "hovertemplate": "Country=Indonesia<br>Year=%{x}<br>GDI=%{y}<extra></extra>",
         "legendgroup": "Indonesia",
         "line": {
          "color": "#FF97FF",
          "dash": "solid"
         },
         "marker": {
          "symbol": "circle"
         },
         "mode": "lines",
         "name": "Indonesia",
         "showlegend": true,
         "type": "scattergl",
         "x": [
          1995,
          2000,
          2005,
          2010,
          2011,
          2012,
          2013,
          2014,
          2015,
          2016,
          2017,
          2018,
          2019
         ],
         "xaxis": "x",
         "y": [
          0.881,
          0.894,
          0.899,
          0.923,
          0.927,
          0.93,
          0.927,
          0.927,
          0.932,
          0.935,
          0.936,
          0.9380000000000001,
          0.9400000000000001
         ],
         "yaxis": "y"
        },
        {
         "hovertemplate": "Country=India<br>Year=%{x}<br>GDI=%{y}<extra></extra>",
         "legendgroup": "India",
         "line": {
          "color": "#FECB52",
          "dash": "solid"
         },
         "marker": {
          "symbol": "circle"
         },
         "mode": "lines",
         "name": "India",
         "showlegend": true,
         "type": "scattergl",
         "x": [
          1995,
          2000,
          2005,
          2010,
          2011,
          2012,
          2013,
          2014,
          2015,
          2016,
          2017,
          2018,
          2019
         ],
         "xaxis": "x",
         "y": [
          0.7000000000000001,
          0.736,
          0.761,
          0.782,
          0.786,
          0.794,
          0.805,
          0.81,
          0.809,
          0.8150000000000001,
          0.8170000000000001,
          0.8180000000000001,
          0.8200000000000001
         ],
         "yaxis": "y"
        },
        {
         "hovertemplate": "Country=Ireland<br>Year=%{x}<br>GDI=%{y}<extra></extra>",
         "legendgroup": "Ireland",
         "line": {
          "color": "#636efa",
          "dash": "solid"
         },
         "marker": {
          "symbol": "circle"
         },
         "mode": "lines",
         "name": "Ireland",
         "showlegend": true,
         "type": "scattergl",
         "x": [
          1995,
          2000,
          2005,
          2010,
          2011,
          2012,
          2013,
          2014,
          2015,
          2016,
          2017,
          2018,
          2019
         ],
         "xaxis": "x",
         "y": [
          0.964,
          0.979,
          0.98,
          0.976,
          0.976,
          0.978,
          0.98,
          0.982,
          0.978,
          0.976,
          0.976,
          0.978,
          0.981
         ],
         "yaxis": "y"
        },
        {
         "hovertemplate": "Country=Iran (Islamic Republic of)<br>Year=%{x}<br>GDI=%{y}<extra></extra>",
         "legendgroup": "Iran (Islamic Republic of)",
         "line": {
          "color": "#EF553B",
          "dash": "solid"
         },
         "marker": {
          "symbol": "circle"
         },
         "mode": "lines",
         "name": "Iran (Islamic Republic of)",
         "showlegend": true,
         "type": "scattergl",
         "x": [
          1995,
          2000,
          2005,
          2010,
          2011,
          2012,
          2013,
          2014,
          2015,
          2016,
          2017,
          2018,
          2019
         ],
         "xaxis": "x",
         "y": [
          0.739,
          0.788,
          0.84,
          0.865,
          0.861,
          0.856,
          0.85,
          0.849,
          0.854,
          0.865,
          0.87,
          0.87,
          0.866
         ],
         "yaxis": "y"
        },
        {
         "hovertemplate": "Country=Iraq<br>Year=%{x}<br>GDI=%{y}<extra></extra>",
         "legendgroup": "Iraq",
         "line": {
          "color": "#00cc96",
          "dash": "solid"
         },
         "marker": {
          "symbol": "circle"
         },
         "mode": "lines",
         "name": "Iraq",
         "showlegend": true,
         "type": "scattergl",
         "x": [
          1995,
          2000,
          2005,
          2010,
          2011,
          2012,
          2013,
          2014,
          2015,
          2016,
          2017,
          2018,
          2019
         ],
         "xaxis": "x",
         "y": [
          0.647,
          0.713,
          0.742,
          0.776,
          0.779,
          0.779,
          0.781,
          0.786,
          0.788,
          0.794,
          0.773,
          0.771,
          0.774
         ],
         "yaxis": "y"
        },
        {
         "hovertemplate": "Country=Iceland<br>Year=%{x}<br>GDI=%{y}<extra></extra>",
         "legendgroup": "Iceland",
         "line": {
          "color": "#ab63fa",
          "dash": "solid"
         },
         "marker": {
          "symbol": "circle"
         },
         "mode": "lines",
         "name": "Iceland",
         "showlegend": true,
         "type": "scattergl",
         "x": [
          1995,
          2000,
          2005,
          2010,
          2011,
          2012,
          2013,
          2014,
          2015,
          2016,
          2017,
          2018,
          2019
         ],
         "xaxis": "x",
         "y": [
          0.982,
          0.993,
          0.984,
          0.983,
          0.982,
          0.979,
          0.978,
          0.967,
          0.968,
          0.967,
          0.968,
          0.969,
          0.969
         ],
         "yaxis": "y"
        },
        {
         "hovertemplate": "Country=Israel<br>Year=%{x}<br>GDI=%{y}<extra></extra>",
         "legendgroup": "Israel",
         "line": {
          "color": "#FFA15A",
          "dash": "solid"
         },
         "marker": {
          "symbol": "circle"
         },
         "mode": "lines",
         "name": "Israel",
         "showlegend": true,
         "type": "scattergl",
         "x": [
          1995,
          2000,
          2005,
          2010,
          2011,
          2012,
          2013,
          2014,
          2015,
          2016,
          2017,
          2018,
          2019
         ],
         "xaxis": "x",
         "y": [
          0.962,
          0.976,
          0.978,
          0.97,
          0.97,
          0.972,
          0.972,
          0.972,
          0.974,
          0.973,
          0.973,
          0.973,
          0.973
         ],
         "yaxis": "y"
        },
        {
         "hovertemplate": "Country=Italy<br>Year=%{x}<br>GDI=%{y}<extra></extra>",
         "legendgroup": "Italy",
         "line": {
          "color": "#19d3f3",
          "dash": "solid"
         },
         "marker": {
          "symbol": "circle"
         },
         "mode": "lines",
         "name": "Italy",
         "showlegend": true,
         "type": "scattergl",
         "x": [
          1995,
          2000,
          2005,
          2010,
          2011,
          2012,
          2013,
          2014,
          2015,
          2016,
          2017,
          2018,
          2019
         ],
         "xaxis": "x",
         "y": [
          0.9470000000000001,
          0.9530000000000001,
          0.962,
          0.971,
          0.972,
          0.973,
          0.97,
          0.969,
          0.968,
          0.968,
          0.969,
          0.969,
          0.968
         ],
         "yaxis": "y"
        },
        {
         "hovertemplate": "Country=Jamaica<br>Year=%{x}<br>GDI=%{y}<extra></extra>",
         "legendgroup": "Jamaica",
         "line": {
          "color": "#FF6692",
          "dash": "solid"
         },
         "marker": {
          "symbol": "circle"
         },
         "mode": "lines",
         "name": "Jamaica",
         "showlegend": true,
         "type": "scattergl",
         "x": [
          1995,
          2000,
          2005,
          2010,
          2011,
          2012,
          2013,
          2014,
          2015,
          2016,
          2017,
          2018,
          2019
         ],
         "xaxis": "x",
         "y": [
          0.964,
          0.966,
          0.976,
          0.987,
          0.988,
          0.987,
          0.987,
          0.987,
          0.987,
          0.988,
          0.988,
          0.988,
          0.994
         ],
         "yaxis": "y"
        },
        {
         "hovertemplate": "Country=Jordan<br>Year=%{x}<br>GDI=%{y}<extra></extra>",
         "legendgroup": "Jordan",
         "line": {
          "color": "#B6E880",
          "dash": "solid"
         },
         "marker": {
          "symbol": "circle"
         },
         "mode": "lines",
         "name": "Jordan",
         "showlegend": true,
         "type": "scattergl",
         "x": [
          1995,
          2000,
          2005,
          2010,
          2011,
          2012,
          2013,
          2014,
          2015,
          2016,
          2017,
          2018,
          2019
         ],
         "xaxis": "x",
         "y": [
          0.806,
          0.843,
          0.835,
          0.855,
          0.857,
          0.854,
          0.851,
          0.855,
          0.859,
          0.871,
          0.872,
          0.874,
          0.875
         ],
         "yaxis": "y"
        },
        {
         "hovertemplate": "Country=Japan<br>Year=%{x}<br>GDI=%{y}<extra></extra>",
         "legendgroup": "Japan",
         "line": {
          "color": "#FF97FF",
          "dash": "solid"
         },
         "marker": {
          "symbol": "circle"
         },
         "mode": "lines",
         "name": "Japan",
         "showlegend": true,
         "type": "scattergl",
         "x": [
          1995,
          2000,
          2005,
          2010,
          2011,
          2012,
          2013,
          2014,
          2015,
          2016,
          2017,
          2018,
          2019
         ],
         "xaxis": "x",
         "y": [
          0.9530000000000001,
          0.9500000000000001,
          0.9550000000000001,
          0.96,
          0.962,
          0.964,
          0.968,
          0.971,
          0.971,
          0.974,
          0.976,
          0.977,
          0.978
         ],
         "yaxis": "y"
        },
        {
         "hovertemplate": "Country=Kazakhstan<br>Year=%{x}<br>GDI=%{y}<extra></extra>",
         "legendgroup": "Kazakhstan",
         "line": {
          "color": "#FECB52",
          "dash": "solid"
         },
         "marker": {
          "symbol": "circle"
         },
         "mode": "lines",
         "name": "Kazakhstan",
         "showlegend": true,
         "type": "scattergl",
         "x": [
          1995,
          2000,
          2005,
          2010,
          2011,
          2012,
          2013,
          2014,
          2015,
          2016,
          2017,
          2018,
          2019
         ],
         "xaxis": "x",
         "y": [
          1.004,
          1.004,
          1.02,
          1.009,
          1.009,
          1.01,
          1.009,
          1.004,
          1.003,
          1,
          0.999,
          0.997,
          0.98
         ],
         "yaxis": "y"
        },
        {
         "hovertemplate": "Country=Kenya<br>Year=%{x}<br>GDI=%{y}<extra></extra>",
         "legendgroup": "Kenya",
         "line": {
          "color": "#636efa",
          "dash": "solid"
         },
         "marker": {
          "symbol": "circle"
         },
         "mode": "lines",
         "name": "Kenya",
         "showlegend": true,
         "type": "scattergl",
         "x": [
          1995,
          2000,
          2005,
          2010,
          2011,
          2012,
          2013,
          2014,
          2015,
          2016,
          2017,
          2018,
          2019
         ],
         "xaxis": "x",
         "y": [
          0.898,
          0.897,
          0.894,
          0.924,
          0.925,
          0.925,
          0.925,
          0.925,
          0.925,
          0.925,
          0.926,
          0.926,
          0.937
         ],
         "yaxis": "y"
        },
        {
         "hovertemplate": "Country=Kyrgyzstan<br>Year=%{x}<br>GDI=%{y}<extra></extra>",
         "legendgroup": "Kyrgyzstan",
         "line": {
          "color": "#EF553B",
          "dash": "solid"
         },
         "marker": {
          "symbol": "circle"
         },
         "mode": "lines",
         "name": "Kyrgyzstan",
         "showlegend": true,
         "type": "scattergl",
         "x": [
          1995,
          2000,
          2005,
          2010,
          2011,
          2012,
          2013,
          2014,
          2015,
          2016,
          2017,
          2018,
          2019
         ],
         "xaxis": "x",
         "y": [
          0.96,
          0.966,
          0.97,
          0.967,
          0.966,
          0.966,
          0.966,
          0.969,
          0.974,
          0.967,
          0.961,
          0.9570000000000001,
          0.9570000000000001
         ],
         "yaxis": "y"
        },
        {
         "hovertemplate": "Country=Cambodia<br>Year=%{x}<br>GDI=%{y}<extra></extra>",
         "legendgroup": "Cambodia",
         "line": {
          "color": "#00cc96",
          "dash": "solid"
         },
         "marker": {
          "symbol": "circle"
         },
         "mode": "lines",
         "name": "Cambodia",
         "showlegend": true,
         "type": "scattergl",
         "x": [
          1995,
          2000,
          2005,
          2010,
          2011,
          2012,
          2013,
          2014,
          2015,
          2016,
          2017,
          2018,
          2019
         ],
         "xaxis": "x",
         "y": [
          0.834,
          0.889,
          0.873,
          0.897,
          0.893,
          0.906,
          0.906,
          0.909,
          0.914,
          0.917,
          0.919,
          0.92,
          0.922
         ],
         "yaxis": "y"
        },
        {
         "hovertemplate": "Country=Korea (Republic of)<br>Year=%{x}<br>GDI=%{y}<extra></extra>",
         "legendgroup": "Korea (Republic of)",
         "line": {
          "color": "#ab63fa",
          "dash": "solid"
         },
         "marker": {
          "symbol": "circle"
         },
         "mode": "lines",
         "name": "Korea (Republic of)",
         "showlegend": true,
         "type": "scattergl",
         "x": [
          1995,
          2000,
          2005,
          2010,
          2011,
          2012,
          2013,
          2014,
          2015,
          2016,
          2017,
          2018,
          2019
         ],
         "xaxis": "x",
         "y": [
          0.91,
          0.907,
          0.914,
          0.927,
          0.928,
          0.929,
          0.931,
          0.932,
          0.932,
          0.933,
          0.933,
          0.936,
          0.936
         ],
         "yaxis": "y"
        },
        {
         "hovertemplate": "Country=Kuwait<br>Year=%{x}<br>GDI=%{y}<extra></extra>",
         "legendgroup": "Kuwait",
         "line": {
          "color": "#FFA15A",
          "dash": "solid"
         },
         "marker": {
          "symbol": "circle"
         },
         "mode": "lines",
         "name": "Kuwait",
         "showlegend": true,
         "type": "scattergl",
         "x": [
          1995,
          2000,
          2005,
          2010,
          2011,
          2012,
          2013,
          2014,
          2015,
          2016,
          2017,
          2018,
          2019
         ],
         "xaxis": "x",
         "y": [
          0.9400000000000001,
          0.96,
          0.984,
          0.972,
          0.969,
          0.968,
          0.981,
          0.981,
          0.977,
          0.978,
          0.974,
          0.973,
          0.983
         ],
         "yaxis": "y"
        },
        {
         "hovertemplate": "Country=Lao People's Democratic Republic<br>Year=%{x}<br>GDI=%{y}<extra></extra>",
         "legendgroup": "Lao People's Democratic Republic",
         "line": {
          "color": "#19d3f3",
          "dash": "solid"
         },
         "marker": {
          "symbol": "circle"
         },
         "mode": "lines",
         "name": "Lao People's Democratic Republic",
         "showlegend": true,
         "type": "scattergl",
         "x": [
          1995,
          2000,
          2005,
          2010,
          2011,
          2012,
          2013,
          2014,
          2015,
          2016,
          2017,
          2018,
          2019
         ],
         "xaxis": "x",
         "y": [
          0.833,
          0.853,
          0.875,
          0.891,
          0.896,
          0.902,
          0.908,
          0.914,
          0.918,
          0.922,
          0.922,
          0.928,
          0.927
         ],
         "yaxis": "y"
        },
        {
         "hovertemplate": "Country=Lebanon<br>Year=%{x}<br>GDI=%{y}<extra></extra>",
         "legendgroup": "Lebanon",
         "line": {
          "color": "#FF6692",
          "dash": "solid"
         },
         "marker": {
          "symbol": "circle"
         },
         "mode": "lines",
         "name": "Lebanon",
         "showlegend": true,
         "type": "scattergl",
         "x": [
          2005,
          2010,
          2011,
          2012,
          2013,
          2014,
          2015,
          2016,
          2017,
          2018,
          2019
         ],
         "xaxis": "x",
         "y": [
          0.874,
          0.894,
          0.895,
          0.897,
          0.897,
          0.896,
          0.897,
          0.901,
          0.895,
          0.892,
          0.892
         ],
         "yaxis": "y"
        },
        {
         "hovertemplate": "Country=Liberia<br>Year=%{x}<br>GDI=%{y}<extra></extra>",
         "legendgroup": "Liberia",
         "line": {
          "color": "#B6E880",
          "dash": "solid"
         },
         "marker": {
          "symbol": "circle"
         },
         "mode": "lines",
         "name": "Liberia",
         "showlegend": true,
         "type": "scattergl",
         "x": [
          1995,
          2000,
          2005,
          2010,
          2011,
          2012,
          2013,
          2014,
          2015,
          2016,
          2017,
          2018,
          2019
         ],
         "xaxis": "x",
         "y": [
          0.683,
          0.775,
          0.793,
          0.858,
          0.867,
          0.884,
          0.875,
          0.898,
          0.877,
          0.877,
          0.889,
          0.895,
          0.89
         ],
         "yaxis": "y"
        },
        {
         "hovertemplate": "Country=Libya<br>Year=%{x}<br>GDI=%{y}<extra></extra>",
         "legendgroup": "Libya",
         "line": {
          "color": "#FF97FF",
          "dash": "solid"
         },
         "marker": {
          "symbol": "circle"
         },
         "mode": "lines",
         "name": "Libya",
         "showlegend": true,
         "type": "scattergl",
         "x": [
          2000,
          2005,
          2010,
          2011,
          2012,
          2013,
          2014,
          2015,
          2016,
          2017,
          2018,
          2019
         ],
         "xaxis": "x",
         "y": [
          0.936,
          0.967,
          1.009,
          0.976,
          1.003,
          0.979,
          0.972,
          0.964,
          0.961,
          0.968,
          0.969,
          0.976
         ],
         "yaxis": "y"
        },
        {
         "hovertemplate": "Country=Saint Lucia<br>Year=%{x}<br>GDI=%{y}<extra></extra>",
         "legendgroup": "Saint Lucia",
         "line": {
          "color": "#FECB52",
          "dash": "solid"
         },
         "marker": {
          "symbol": "circle"
         },
         "mode": "lines",
         "name": "Saint Lucia",
         "showlegend": true,
         "type": "scattergl",
         "x": [
          2000,
          2005,
          2010,
          2011,
          2012,
          2013,
          2014,
          2015,
          2016,
          2017,
          2018,
          2019
         ],
         "xaxis": "x",
         "y": [
          0.963,
          0.977,
          0.973,
          0.971,
          0.97,
          0.971,
          0.969,
          0.972,
          0.973,
          0.975,
          0.975,
          0.985
         ],
         "yaxis": "y"
        },
        {
         "hovertemplate": "Country=Sri Lanka<br>Year=%{x}<br>GDI=%{y}<extra></extra>",
         "legendgroup": "Sri Lanka",
         "line": {
          "color": "#636efa",
          "dash": "solid"
         },
         "marker": {
          "symbol": "circle"
         },
         "mode": "lines",
         "name": "Sri Lanka",
         "showlegend": true,
         "type": "scattergl",
         "x": [
          1995,
          2000,
          2005,
          2010,
          2011,
          2012,
          2013,
          2014,
          2015,
          2016,
          2017,
          2018,
          2019
         ],
         "xaxis": "x",
         "y": [
          0.918,
          0.929,
          0.928,
          0.926,
          0.929,
          0.931,
          0.936,
          0.9380000000000001,
          0.9420000000000001,
          0.936,
          0.937,
          0.9390000000000001,
          0.9550000000000001
         ],
         "yaxis": "y"
        },
        {
         "hovertemplate": "Country=Lesotho<br>Year=%{x}<br>GDI=%{y}<extra></extra>",
         "legendgroup": "Lesotho",
         "line": {
          "color": "#EF553B",
          "dash": "solid"
         },
         "marker": {
          "symbol": "circle"
         },
         "mode": "lines",
         "name": "Lesotho",
         "showlegend": true,
         "type": "scattergl",
         "x": [
          1995,
          2000,
          2005,
          2010,
          2011,
          2012,
          2013,
          2014,
          2015,
          2016,
          2017,
          2018,
          2019
         ],
         "xaxis": "x",
         "y": [
          1.051,
          1.01,
          0.985,
          1.018,
          1.022,
          1.023,
          1.024,
          1.025,
          1.024,
          1.02,
          1.019,
          1.019,
          1.014
         ],
         "yaxis": "y"
        },
        {
         "hovertemplate": "Country=Lithuania<br>Year=%{x}<br>GDI=%{y}<extra></extra>",
         "legendgroup": "Lithuania",
         "line": {
          "color": "#00cc96",
          "dash": "solid"
         },
         "marker": {
          "symbol": "circle"
         },
         "mode": "lines",
         "name": "Lithuania",
         "showlegend": true,
         "type": "scattergl",
         "x": [
          1995,
          2000,
          2005,
          2010,
          2011,
          2012,
          2013,
          2014,
          2015,
          2016,
          2017,
          2018,
          2019
         ],
         "xaxis": "x",
         "y": [
          1.012,
          1.023,
          1.022,
          1.04,
          1.037,
          1.036,
          1.033,
          1.031,
          1.03,
          1.03,
          1.03,
          1.029,
          1.03
         ],
         "yaxis": "y"
        },
        {
         "hovertemplate": "Country=Luxembourg<br>Year=%{x}<br>GDI=%{y}<extra></extra>",
         "legendgroup": "Luxembourg",
         "line": {
          "color": "#ab63fa",
          "dash": "solid"
         },
         "marker": {
          "symbol": "circle"
         },
         "mode": "lines",
         "name": "Luxembourg",
         "showlegend": true,
         "type": "scattergl",
         "x": [
          2000,
          2005,
          2010,
          2011,
          2012,
          2013,
          2014,
          2015,
          2016,
          2017,
          2018,
          2019
         ],
         "xaxis": "x",
         "y": [
          0.998,
          0.995,
          0.984,
          0.976,
          0.976,
          0.974,
          0.98,
          0.975,
          0.974,
          0.975,
          0.975,
          0.976
         ],
         "yaxis": "y"
        },
        {
         "hovertemplate": "Country=Latvia<br>Year=%{x}<br>GDI=%{y}<extra></extra>",
         "legendgroup": "Latvia",
         "line": {
          "color": "#FFA15A",
          "dash": "solid"
         },
         "marker": {
          "symbol": "circle"
         },
         "mode": "lines",
         "name": "Latvia",
         "showlegend": true,
         "type": "scattergl",
         "x": [
          1995,
          2000,
          2005,
          2010,
          2011,
          2012,
          2013,
          2014,
          2015,
          2016,
          2017,
          2018,
          2019
         ],
         "xaxis": "x",
         "y": [
          1.027,
          1.033,
          1.035,
          1.042,
          1.034,
          1.032,
          1.029,
          1.026,
          1.029,
          1.031,
          1.033,
          1.035,
          1.036
         ],
         "yaxis": "y"
        },
        {
         "hovertemplate": "Country=Morocco<br>Year=%{x}<br>GDI=%{y}<extra></extra>",
         "legendgroup": "Morocco",
         "line": {
          "color": "#19d3f3",
          "dash": "solid"
         },
         "marker": {
          "symbol": "circle"
         },
         "mode": "lines",
         "name": "Morocco",
         "showlegend": true,
         "type": "scattergl",
         "x": [
          1995,
          2000,
          2005,
          2010,
          2011,
          2012,
          2013,
          2014,
          2015,
          2016,
          2017,
          2018,
          2019
         ],
         "xaxis": "x",
         "y": [
          0.742,
          0.775,
          0.804,
          0.8220000000000001,
          0.8220000000000001,
          0.8210000000000001,
          0.8240000000000001,
          0.8230000000000001,
          0.8220000000000001,
          0.8260000000000001,
          0.8310000000000001,
          0.833,
          0.835
         ],
         "yaxis": "y"
        },
        {
         "hovertemplate": "Country=Moldova (Republic of)<br>Year=%{x}<br>GDI=%{y}<extra></extra>",
         "legendgroup": "Moldova (Republic of)",
         "line": {
          "color": "#FF6692",
          "dash": "solid"
         },
         "marker": {
          "symbol": "circle"
         },
         "mode": "lines",
         "name": "Moldova (Republic of)",
         "showlegend": true,
         "type": "scattergl",
         "x": [
          1995,
          2000,
          2005,
          2010,
          2011,
          2012,
          2013,
          2014,
          2015,
          2016,
          2017,
          2018,
          2019
         ],
         "xaxis": "x",
         "y": [
          0.984,
          0.992,
          0.998,
          1.007,
          1.008,
          1.008,
          1.011,
          1.012,
          1.014,
          1.013,
          1.013,
          1.013,
          1.014
         ],
         "yaxis": "y"
        },
        {
         "hovertemplate": "Country=Madagascar<br>Year=%{x}<br>GDI=%{y}<extra></extra>",
         "legendgroup": "Madagascar",
         "line": {
          "color": "#B6E880",
          "dash": "solid"
         },
         "marker": {
          "symbol": "circle"
         },
         "mode": "lines",
         "name": "Madagascar",
         "showlegend": true,
         "type": "scattergl",
         "x": [
          2000,
          2005,
          2010,
          2011,
          2012,
          2013,
          2014,
          2015,
          2016,
          2017,
          2018,
          2019
         ],
         "xaxis": "x",
         "y": [
          0.9410000000000001,
          0.9430000000000001,
          0.9430000000000001,
          0.9440000000000001,
          0.9440000000000001,
          0.9440000000000001,
          0.9460000000000001,
          0.973,
          0.9460000000000001,
          0.9480000000000001,
          0.9490000000000001,
          0.9520000000000001
         ],
         "yaxis": "y"
        },
        {
         "hovertemplate": "Country=Maldives<br>Year=%{x}<br>GDI=%{y}<extra></extra>",
         "legendgroup": "Maldives",
         "line": {
          "color": "#FF97FF",
          "dash": "solid"
         },
         "marker": {
          "symbol": "circle"
         },
         "mode": "lines",
         "name": "Maldives",
         "showlegend": true,
         "type": "scattergl",
         "x": [
          1995,
          2000,
          2005,
          2010,
          2011,
          2012,
          2013,
          2014,
          2015,
          2016,
          2017,
          2018,
          2019
         ],
         "xaxis": "x",
         "y": [
          0.871,
          0.907,
          0.915,
          0.925,
          0.925,
          0.925,
          0.924,
          0.925,
          0.923,
          0.92,
          0.924,
          0.921,
          0.923
         ],
         "yaxis": "y"
        },
        {
         "hovertemplate": "Country=Mexico<br>Year=%{x}<br>GDI=%{y}<extra></extra>",
         "legendgroup": "Mexico",
         "line": {
          "color": "#FECB52",
          "dash": "solid"
         },
         "marker": {
          "symbol": "circle"
         },
         "mode": "lines",
         "name": "Mexico",
         "showlegend": true,
         "type": "scattergl",
         "x": [
          1995,
          2000,
          2005,
          2010,
          2011,
          2012,
          2013,
          2014,
          2015,
          2016,
          2017,
          2018,
          2019
         ],
         "xaxis": "x",
         "y": [
          0.909,
          0.928,
          0.9420000000000001,
          0.9560000000000001,
          0.9570000000000001,
          0.9560000000000001,
          0.9590000000000001,
          0.9590000000000001,
          0.96,
          0.962,
          0.961,
          0.962,
          0.96
         ],
         "yaxis": "y"
        },
        {
         "hovertemplate": "Country=North Macedonia<br>Year=%{x}<br>GDI=%{y}<extra></extra>",
         "legendgroup": "North Macedonia",
         "line": {
          "color": "#636efa",
          "dash": "solid"
         },
         "marker": {
          "symbol": "circle"
         },
         "mode": "lines",
         "name": "North Macedonia",
         "showlegend": true,
         "type": "scattergl",
         "x": [
          2005,
          2010,
          2011,
          2012,
          2013,
          2014,
          2015,
          2016,
          2017,
          2018,
          2019
         ],
         "xaxis": "x",
         "y": [
          0.795,
          0.798,
          0.9440000000000001,
          0.9470000000000001,
          0.9500000000000001,
          0.9470000000000001,
          0.9470000000000001,
          0.9470000000000001,
          0.9480000000000001,
          0.9480000000000001,
          0.9520000000000001
         ],
         "yaxis": "y"
        },
        {
         "hovertemplate": "Country=Mali<br>Year=%{x}<br>GDI=%{y}<extra></extra>",
         "legendgroup": "Mali",
         "line": {
          "color": "#EF553B",
          "dash": "solid"
         },
         "marker": {
          "symbol": "circle"
         },
         "mode": "lines",
         "name": "Mali",
         "showlegend": true,
         "type": "scattergl",
         "x": [
          1995,
          2000,
          2005,
          2010,
          2011,
          2012,
          2013,
          2014,
          2015,
          2016,
          2017,
          2018,
          2019
         ],
         "xaxis": "x",
         "y": [
          0.742,
          0.773,
          0.784,
          0.8160000000000001,
          0.789,
          0.787,
          0.795,
          0.792,
          0.811,
          0.8160000000000001,
          0.808,
          0.81,
          0.8210000000000001
         ],
         "yaxis": "y"
        },
        {
         "hovertemplate": "Country=Malta<br>Year=%{x}<br>GDI=%{y}<extra></extra>",
         "legendgroup": "Malta",
         "line": {
          "color": "#00cc96",
          "dash": "solid"
         },
         "marker": {
          "symbol": "circle"
         },
         "mode": "lines",
         "name": "Malta",
         "showlegend": true,
         "type": "scattergl",
         "x": [
          1995,
          2000,
          2005,
          2010,
          2011,
          2012,
          2013,
          2014,
          2015,
          2016,
          2017,
          2018,
          2019
         ],
         "xaxis": "x",
         "y": [
          0.912,
          0.908,
          0.92,
          0.933,
          0.937,
          0.9450000000000001,
          0.9550000000000001,
          0.9590000000000001,
          0.964,
          0.965,
          0.966,
          0.968,
          0.966
         ],
         "yaxis": "y"
        },
        {
         "hovertemplate": "Country=Myanmar<br>Year=%{x}<br>GDI=%{y}<extra></extra>",
         "legendgroup": "Myanmar",
         "line": {
          "color": "#ab63fa",
          "dash": "solid"
         },
         "marker": {
          "symbol": "circle"
         },
         "mode": "lines",
         "name": "Myanmar",
         "showlegend": true,
         "type": "scattergl",
         "x": [
          1995,
          2017,
          2018,
          2019
         ],
         "xaxis": "x",
         "y": [
          0.898,
          0.9560000000000001,
          0.9530000000000001,
          0.9540000000000001
         ],
         "yaxis": "y"
        },
        {
         "hovertemplate": "Country=Montenegro<br>Year=%{x}<br>GDI=%{y}<extra></extra>",
         "legendgroup": "Montenegro",
         "line": {
          "color": "#FFA15A",
          "dash": "solid"
         },
         "marker": {
          "symbol": "circle"
         },
         "mode": "lines",
         "name": "Montenegro",
         "showlegend": true,
         "type": "scattergl",
         "x": [
          2010,
          2011,
          2012,
          2013,
          2014,
          2015,
          2016,
          2017,
          2018,
          2019
         ],
         "xaxis": "x",
         "y": [
          0.9550000000000001,
          0.9550000000000001,
          0.9580000000000001,
          0.9580000000000001,
          0.966,
          0.968,
          0.966,
          0.965,
          0.965,
          0.966
         ],
         "yaxis": "y"
        },
        {
         "hovertemplate": "Country=Mongolia<br>Year=%{x}<br>GDI=%{y}<extra></extra>",
         "legendgroup": "Mongolia",
         "line": {
          "color": "#19d3f3",
          "dash": "solid"
         },
         "marker": {
          "symbol": "circle"
         },
         "mode": "lines",
         "name": "Mongolia",
         "showlegend": true,
         "type": "scattergl",
         "x": [
          1995,
          2000,
          2005,
          2010,
          2011,
          2012,
          2013,
          2014,
          2015,
          2016,
          2017,
          2018,
          2019
         ],
         "xaxis": "x",
         "y": [
          0.971,
          1.009,
          1.016,
          1.021,
          1.017,
          1.025,
          1.023,
          1.021,
          1.022,
          1.019,
          1.015,
          1.02,
          1.023
         ],
         "yaxis": "y"
        },
        {
         "hovertemplate": "Country=Mozambique<br>Year=%{x}<br>GDI=%{y}<extra></extra>",
         "legendgroup": "Mozambique",
         "line": {
          "color": "#FF6692",
          "dash": "solid"
         },
         "marker": {
          "symbol": "circle"
         },
         "mode": "lines",
         "name": "Mozambique",
         "showlegend": true,
         "type": "scattergl",
         "x": [
          1995,
          2000,
          2005,
          2010,
          2011,
          2012,
          2013,
          2014,
          2015,
          2016,
          2017,
          2018,
          2019
         ],
         "xaxis": "x",
         "y": [
          0.803,
          0.84,
          0.867,
          0.891,
          0.894,
          0.895,
          0.899,
          0.9,
          0.901,
          0.901,
          0.902,
          0.906,
          0.912
         ],
         "yaxis": "y"
        },
        {
         "hovertemplate": "Country=Mauritania<br>Year=%{x}<br>GDI=%{y}<extra></extra>",
         "legendgroup": "Mauritania",
         "line": {
          "color": "#B6E880",
          "dash": "solid"
         },
         "marker": {
          "symbol": "circle"
         },
         "mode": "lines",
         "name": "Mauritania",
         "showlegend": true,
         "type": "scattergl",
         "x": [
          1995,
          2000,
          2005,
          2010,
          2011,
          2012,
          2013,
          2014,
          2015,
          2016,
          2017,
          2018,
          2019
         ],
         "xaxis": "x",
         "y": [
          0.779,
          0.807,
          0.8250000000000001,
          0.837,
          0.838,
          0.84,
          0.847,
          0.849,
          0.848,
          0.851,
          0.853,
          0.86,
          0.864
         ],
         "yaxis": "y"
        },
        {
         "hovertemplate": "Country=Mauritius<br>Year=%{x}<br>GDI=%{y}<extra></extra>",
         "legendgroup": "Mauritius",
         "line": {
          "color": "#FF97FF",
          "dash": "solid"
         },
         "marker": {
          "symbol": "circle"
         },
         "mode": "lines",
         "name": "Mauritius",
         "showlegend": true,
         "type": "scattergl",
         "x": [
          1995,
          2000,
          2005,
          2010,
          2011,
          2012,
          2013,
          2014,
          2015,
          2016,
          2017,
          2018,
          2019
         ],
         "xaxis": "x",
         "y": [
          0.911,
          0.912,
          0.929,
          0.9420000000000001,
          0.9470000000000001,
          0.9540000000000001,
          0.961,
          0.963,
          0.966,
          0.968,
          0.968,
          0.974,
          0.976
         ],
         "yaxis": "y"
        },
        {
         "hovertemplate": "Country=Malawi<br>Year=%{x}<br>GDI=%{y}<extra></extra>",
         "legendgroup": "Malawi",
         "line": {
          "color": "#FECB52",
          "dash": "solid"
         },
         "marker": {
          "symbol": "circle"
         },
         "mode": "lines",
         "name": "Malawi",
         "showlegend": true,
         "type": "scattergl",
         "x": [
          1995,
          2000,
          2005,
          2010,
          2011,
          2012,
          2013,
          2014,
          2015,
          2016,
          2017,
          2018,
          2019
         ],
         "xaxis": "x",
         "y": [
          0.878,
          0.88,
          0.883,
          0.915,
          0.92,
          0.912,
          0.917,
          0.925,
          0.929,
          0.928,
          0.924,
          0.926,
          0.986
         ],
         "yaxis": "y"
        },
        {
         "hovertemplate": "Country=Malaysia<br>Year=%{x}<br>GDI=%{y}<extra></extra>",
         "legendgroup": "Malaysia",
         "line": {
          "color": "#636efa",
          "dash": "solid"
         },
         "marker": {
          "symbol": "circle"
         },
         "mode": "lines",
         "name": "Malaysia",
         "showlegend": true,
         "type": "scattergl",
         "x": [
          2000,
          2005,
          2010,
          2011,
          2012,
          2013,
          2014,
          2015,
          2016,
          2017,
          2018,
          2019
         ],
         "xaxis": "x",
         "y": [
          0.926,
          0.934,
          0.9560000000000001,
          0.961,
          0.964,
          0.97,
          0.972,
          0.975,
          0.973,
          0.972,
          0.97,
          0.972
         ],
         "yaxis": "y"
        },
        {
         "hovertemplate": "Country=Namibia<br>Year=%{x}<br>GDI=%{y}<extra></extra>",
         "legendgroup": "Namibia",
         "line": {
          "color": "#EF553B",
          "dash": "solid"
         },
         "marker": {
          "symbol": "circle"
         },
         "mode": "lines",
         "name": "Namibia",
         "showlegend": true,
         "type": "scattergl",
         "x": [
          1995,
          2000,
          2005,
          2010,
          2011,
          2012,
          2013,
          2014,
          2015,
          2016,
          2017,
          2018,
          2019
         ],
         "xaxis": "x",
         "y": [
          0.965,
          0.9500000000000001,
          0.9460000000000001,
          0.973,
          0.979,
          0.985,
          0.996,
          1.003,
          1.001,
          1.007,
          1.01,
          1.007,
          1.007
         ],
         "yaxis": "y"
        },
        {
         "hovertemplate": "Country=Niger<br>Year=%{x}<br>GDI=%{y}<extra></extra>",
         "legendgroup": "Niger",
         "line": {
          "color": "#00cc96",
          "dash": "solid"
         },
         "marker": {
          "symbol": "circle"
         },
         "mode": "lines",
         "name": "Niger",
         "showlegend": true,
         "type": "scattergl",
         "x": [
          1995,
          2000,
          2005,
          2010,
          2011,
          2012,
          2013,
          2014,
          2015,
          2016,
          2017,
          2018,
          2019
         ],
         "xaxis": "x",
         "y": [
          0.6970000000000001,
          0.718,
          0.741,
          0.6990000000000001,
          0.7020000000000001,
          0.714,
          0.715,
          0.718,
          0.72,
          0.723,
          0.726,
          0.727,
          0.724
         ],
         "yaxis": "y"
        },
        {
         "hovertemplate": "Country=Nigeria<br>Year=%{x}<br>GDI=%{y}<extra></extra>",
         "legendgroup": "Nigeria",
         "line": {
          "color": "#ab63fa",
          "dash": "solid"
         },
         "marker": {
          "symbol": "circle"
         },
         "mode": "lines",
         "name": "Nigeria",
         "showlegend": true,
         "type": "scattergl",
         "x": [
          2005,
          2010,
          2011,
          2012,
          2013,
          2014,
          2015,
          2016,
          2017,
          2018,
          2019
         ],
         "xaxis": "x",
         "y": [
          0.845,
          0.872,
          0.871,
          0.871,
          0.871,
          0.87,
          0.872,
          0.872,
          0.873,
          0.874,
          0.881
         ],
         "yaxis": "y"
        },
        {
         "hovertemplate": "Country=Nicaragua<br>Year=%{x}<br>GDI=%{y}<extra></extra>",
         "legendgroup": "Nicaragua",
         "line": {
          "color": "#FFA15A",
          "dash": "solid"
         },
         "marker": {
          "symbol": "circle"
         },
         "mode": "lines",
         "name": "Nicaragua",
         "showlegend": true,
         "type": "scattergl",
         "x": [
          2000,
          2005,
          2010,
          2011,
          2012,
          2013,
          2014,
          2015,
          2016,
          2017,
          2018,
          2019
         ],
         "xaxis": "x",
         "y": [
          0.911,
          0.9420000000000001,
          0.9440000000000001,
          0.9460000000000001,
          0.975,
          0.9500000000000001,
          1.008,
          1.008,
          1.012,
          1.013,
          1.011,
          1.012
         ],
         "yaxis": "y"
        },
        {
         "hovertemplate": "Country=Netherlands<br>Year=%{x}<br>GDI=%{y}<extra></extra>",
         "legendgroup": "Netherlands",
         "line": {
          "color": "#19d3f3",
          "dash": "solid"
         },
         "marker": {
          "symbol": "circle"
         },
         "mode": "lines",
         "name": "Netherlands",
         "showlegend": true,
         "type": "scattergl",
         "x": [
          1995,
          2000,
          2005,
          2010,
          2011,
          2012,
          2013,
          2014,
          2015,
          2016,
          2017,
          2018,
          2019
         ],
         "xaxis": "x",
         "y": [
          0.9480000000000001,
          0.9580000000000001,
          0.961,
          0.966,
          0.968,
          0.967,
          0.966,
          0.966,
          0.966,
          0.967,
          0.967,
          0.967,
          0.966
         ],
         "yaxis": "y"
        },
        {
         "hovertemplate": "Country=Norway<br>Year=%{x}<br>GDI=%{y}<extra></extra>",
         "legendgroup": "Norway",
         "line": {
          "color": "#FF6692",
          "dash": "solid"
         },
         "marker": {
          "symbol": "circle"
         },
         "mode": "lines",
         "name": "Norway",
         "showlegend": true,
         "type": "scattergl",
         "x": [
          1995,
          2000,
          2005,
          2010,
          2011,
          2012,
          2013,
          2014,
          2015,
          2016,
          2017,
          2018,
          2019
         ],
         "xaxis": "x",
         "y": [
          0.979,
          0.989,
          0.988,
          0.996,
          0.996,
          0.996,
          0.994,
          0.994,
          0.993,
          0.992,
          0.992,
          0.989,
          0.99
         ],
         "yaxis": "y"
        },
        {
         "hovertemplate": "Country=Nepal<br>Year=%{x}<br>GDI=%{y}<extra></extra>",
         "legendgroup": "Nepal",
         "line": {
          "color": "#B6E880",
          "dash": "solid"
         },
         "marker": {
          "symbol": "circle"
         },
         "mode": "lines",
         "name": "Nepal",
         "showlegend": true,
         "type": "scattergl",
         "x": [
          1995,
          2000,
          2005,
          2010,
          2011,
          2012,
          2013,
          2014,
          2015,
          2016,
          2017,
          2018,
          2019
         ],
         "xaxis": "x",
         "y": [
          0.754,
          0.771,
          0.834,
          0.885,
          0.891,
          0.887,
          0.895,
          0.902,
          0.908,
          0.911,
          0.916,
          0.927,
          0.933
         ],
         "yaxis": "y"
        },
        {
         "hovertemplate": "Country=New Zealand<br>Year=%{x}<br>GDI=%{y}<extra></extra>",
         "legendgroup": "New Zealand",
         "line": {
          "color": "#FF97FF",
          "dash": "solid"
         },
         "marker": {
          "symbol": "circle"
         },
         "mode": "lines",
         "name": "New Zealand",
         "showlegend": true,
         "type": "scattergl",
         "x": [
          1995,
          2000,
          2005,
          2010,
          2011,
          2012,
          2013,
          2014,
          2015,
          2016,
          2017,
          2018,
          2019
         ],
         "xaxis": "x",
         "y": [
          0.971,
          0.985,
          0.971,
          0.963,
          0.963,
          0.962,
          0.963,
          0.962,
          0.962,
          0.964,
          0.964,
          0.964,
          0.964
         ],
         "yaxis": "y"
        },
        {
         "hovertemplate": "Country=Oman<br>Year=%{x}<br>GDI=%{y}<extra></extra>",
         "legendgroup": "Oman",
         "line": {
          "color": "#FECB52",
          "dash": "solid"
         },
         "marker": {
          "symbol": "circle"
         },
         "mode": "lines",
         "name": "Oman",
         "showlegend": true,
         "type": "scattergl",
         "x": [
          2000,
          2005,
          2010,
          2011,
          2012,
          2013,
          2014,
          2015,
          2016,
          2017,
          2018,
          2019
         ],
         "xaxis": "x",
         "y": [
          0.864,
          0.873,
          0.901,
          0.909,
          0.921,
          0.932,
          0.937,
          0.9430000000000001,
          0.9400000000000001,
          0.9390000000000001,
          0.937,
          0.936
         ],
         "yaxis": "y"
        },
        {
         "hovertemplate": "Country=Pakistan<br>Year=%{x}<br>GDI=%{y}<extra></extra>",
         "legendgroup": "Pakistan",
         "line": {
          "color": "#636efa",
          "dash": "solid"
         },
         "marker": {
          "symbol": "circle"
         },
         "mode": "lines",
         "name": "Pakistan",
         "showlegend": true,
         "type": "scattergl",
         "x": [
          1995,
          2000,
          2005,
          2010,
          2011,
          2012,
          2013,
          2014,
          2015,
          2016,
          2017,
          2018,
          2019
         ],
         "xaxis": "x",
         "y": [
          0.598,
          0.615,
          0.668,
          0.716,
          0.717,
          0.728,
          0.73,
          0.733,
          0.739,
          0.74,
          0.735,
          0.736,
          0.745
         ],
         "yaxis": "y"
        },
        {
         "hovertemplate": "Country=Panama<br>Year=%{x}<br>GDI=%{y}<extra></extra>",
         "legendgroup": "Panama",
         "line": {
          "color": "#EF553B",
          "dash": "solid"
         },
         "marker": {
          "symbol": "circle"
         },
         "mode": "lines",
         "name": "Panama",
         "showlegend": true,
         "type": "scattergl",
         "x": [
          2000,
          2005,
          2010,
          2011,
          2012,
          2013,
          2014,
          2015,
          2016,
          2017,
          2018,
          2019
         ],
         "xaxis": "x",
         "y": [
          0.981,
          0.987,
          0.99,
          0.99,
          0.997,
          0.996,
          1.003,
          1.006,
          1.005,
          1.008,
          1.009,
          1.019
         ],
         "yaxis": "y"
        },
        {
         "hovertemplate": "Country=Peru<br>Year=%{x}<br>GDI=%{y}<extra></extra>",
         "legendgroup": "Peru",
         "line": {
          "color": "#00cc96",
          "dash": "solid"
         },
         "marker": {
          "symbol": "circle"
         },
         "mode": "lines",
         "name": "Peru",
         "showlegend": true,
         "type": "scattergl",
         "x": [
          2000,
          2005,
          2010,
          2011,
          2012,
          2013,
          2014,
          2015,
          2016,
          2017,
          2018,
          2019
         ],
         "xaxis": "x",
         "y": [
          0.916,
          0.931,
          0.9440000000000001,
          0.9490000000000001,
          0.9550000000000001,
          0.962,
          0.962,
          0.9590000000000001,
          0.963,
          0.964,
          0.964,
          0.9570000000000001
         ],
         "yaxis": "y"
        },
        {
         "hovertemplate": "Country=Philippines<br>Year=%{x}<br>GDI=%{y}<extra></extra>",
         "legendgroup": "Philippines",
         "line": {
          "color": "#ab63fa",
          "dash": "solid"
         },
         "marker": {
          "symbol": "circle"
         },
         "mode": "lines",
         "name": "Philippines",
         "showlegend": true,
         "type": "scattergl",
         "x": [
          1995,
          2000,
          2005,
          2010,
          2011,
          2012,
          2013,
          2014,
          2015,
          2016,
          2017,
          2018,
          2019
         ],
         "xaxis": "x",
         "y": [
          0.961,
          0.976,
          0.989,
          0.999,
          1.003,
          1.005,
          1.007,
          1.008,
          1.009,
          1.007,
          1.004,
          1.005,
          1.007
         ],
         "yaxis": "y"
        },
        {
         "hovertemplate": "Country=Papua New Guinea<br>Year=%{x}<br>GDI=%{y}<extra></extra>",
         "legendgroup": "Papua New Guinea",
         "line": {
          "color": "#FFA15A",
          "dash": "solid"
         },
         "marker": {
          "symbol": "circle"
         },
         "mode": "lines",
         "name": "Papua New Guinea",
         "showlegend": true,
         "type": "scattergl",
         "x": [
          1995,
          2000
         ],
         "xaxis": "x",
         "y": [
          0.836,
          0.85
         ],
         "yaxis": "y"
        },
        {
         "hovertemplate": "Country=Poland<br>Year=%{x}<br>GDI=%{y}<extra></extra>",
         "legendgroup": "Poland",
         "line": {
          "color": "#19d3f3",
          "dash": "solid"
         },
         "marker": {
          "symbol": "circle"
         },
         "mode": "lines",
         "name": "Poland",
         "showlegend": true,
         "type": "scattergl",
         "x": [
          1995,
          2000,
          2005,
          2010,
          2011,
          2012,
          2013,
          2014,
          2015,
          2016,
          2017,
          2018,
          2019
         ],
         "xaxis": "x",
         "y": [
          0.989,
          0.993,
          0.997,
          1.009,
          1.01,
          1.009,
          1.008,
          1.009,
          1.008,
          1.009,
          1.008,
          1.008,
          1.007
         ],
         "yaxis": "y"
        },
        {
         "hovertemplate": "Country=Portugal<br>Year=%{x}<br>GDI=%{y}<extra></extra>",
         "legendgroup": "Portugal",
         "line": {
          "color": "#FF6692",
          "dash": "solid"
         },
         "marker": {
          "symbol": "circle"
         },
         "mode": "lines",
         "name": "Portugal",
         "showlegend": true,
         "type": "scattergl",
         "x": [
          1995,
          2000,
          2005,
          2010,
          2011,
          2012,
          2013,
          2014,
          2015,
          2016,
          2017,
          2018,
          2019
         ],
         "xaxis": "x",
         "y": [
          0.972,
          0.984,
          0.995,
          0.989,
          0.99,
          0.989,
          0.986,
          0.986,
          0.985,
          0.985,
          0.985,
          0.985,
          0.988
         ],
         "yaxis": "y"
        },
        {
         "hovertemplate": "Country=Paraguay<br>Year=%{x}<br>GDI=%{y}<extra></extra>",
         "legendgroup": "Paraguay",
         "line": {
          "color": "#B6E880",
          "dash": "solid"
         },
         "marker": {
          "symbol": "circle"
         },
         "mode": "lines",
         "name": "Paraguay",
         "showlegend": true,
         "type": "scattergl",
         "x": [
          1995,
          2000,
          2005,
          2010,
          2011,
          2012,
          2013,
          2014,
          2015,
          2016,
          2017,
          2018,
          2019
         ],
         "xaxis": "x",
         "y": [
          0.9390000000000001,
          0.925,
          0.934,
          0.9500000000000001,
          0.9580000000000001,
          0.964,
          0.965,
          0.962,
          0.965,
          0.964,
          0.965,
          0.967,
          0.966
         ],
         "yaxis": "y"
        },
        {
         "hovertemplate": "Country=Palestine, State of<br>Year=%{x}<br>GDI=%{y}<extra></extra>",
         "legendgroup": "Palestine, State of",
         "line": {
          "color": "#FF97FF",
          "dash": "solid"
         },
         "marker": {
          "symbol": "circle"
         },
         "mode": "lines",
         "name": "Palestine, State of",
         "showlegend": true,
         "type": "scattergl",
         "x": [
          2005,
          2010,
          2011,
          2012,
          2013,
          2014,
          2015,
          2016,
          2017,
          2018,
          2019
         ],
         "xaxis": "x",
         "y": [
          0.81,
          0.84,
          0.855,
          0.858,
          0.86,
          0.865,
          0.87,
          0.87,
          0.868,
          0.87,
          0.87
         ],
         "yaxis": "y"
        },
        {
         "hovertemplate": "Country=Qatar<br>Year=%{x}<br>GDI=%{y}<extra></extra>",
         "legendgroup": "Qatar",
         "line": {
          "color": "#FECB52",
          "dash": "solid"
         },
         "marker": {
          "symbol": "circle"
         },
         "mode": "lines",
         "name": "Qatar",
         "showlegend": true,
         "type": "scattergl",
         "x": [
          1995,
          2000,
          2005,
          2010,
          2011,
          2012,
          2013,
          2014,
          2015,
          2016,
          2017,
          2018,
          2019
         ],
         "xaxis": "x",
         "y": [
          0.981,
          1.012,
          0.964,
          0.972,
          0.986,
          1.025,
          1.024,
          1.03,
          1.032,
          1.029,
          1.032,
          1.031,
          1.03
         ],
         "yaxis": "y"
        },
        {
         "hovertemplate": "Country=Romania<br>Year=%{x}<br>GDI=%{y}<extra></extra>",
         "legendgroup": "Romania",
         "line": {
          "color": "#636efa",
          "dash": "solid"
         },
         "marker": {
          "symbol": "circle"
         },
         "mode": "lines",
         "name": "Romania",
         "showlegend": true,
         "type": "scattergl",
         "x": [
          1995,
          2000,
          2005,
          2010,
          2011,
          2012,
          2013,
          2014,
          2015,
          2016,
          2017,
          2018,
          2019
         ],
         "xaxis": "x",
         "y": [
          0.9590000000000001,
          0.965,
          0.978,
          0.986,
          0.985,
          0.984,
          0.985,
          0.987,
          0.986,
          0.985,
          0.986,
          0.989,
          0.991
         ],
         "yaxis": "y"
        },
        {
         "hovertemplate": "Country=Russian Federation<br>Year=%{x}<br>GDI=%{y}<extra></extra>",
         "legendgroup": "Russian Federation",
         "line": {
          "color": "#EF553B",
          "dash": "solid"
         },
         "marker": {
          "symbol": "circle"
         },
         "mode": "lines",
         "name": "Russian Federation",
         "showlegend": true,
         "type": "scattergl",
         "x": [
          2000,
          2005,
          2010,
          2011,
          2012,
          2013,
          2014,
          2015,
          2016,
          2017,
          2018,
          2019
         ],
         "xaxis": "x",
         "y": [
          1.031,
          1.039,
          1.026,
          1.024,
          1.019,
          1.016,
          1.012,
          1.011,
          1.01,
          1.009,
          1.009,
          1.007
         ],
         "yaxis": "y"
        },
        {
         "hovertemplate": "Country=Rwanda<br>Year=%{x}<br>GDI=%{y}<extra></extra>",
         "legendgroup": "Rwanda",
         "line": {
          "color": "#00cc96",
          "dash": "solid"
         },
         "marker": {
          "symbol": "circle"
         },
         "mode": "lines",
         "name": "Rwanda",
         "showlegend": true,
         "type": "scattergl",
         "x": [
          1995,
          2000,
          2005,
          2010,
          2011,
          2012,
          2013,
          2014,
          2015,
          2016,
          2017,
          2018,
          2019
         ],
         "xaxis": "x",
         "y": [
          0.8270000000000001,
          0.886,
          0.925,
          0.9540000000000001,
          0.9420000000000001,
          0.937,
          0.9390000000000001,
          0.9420000000000001,
          0.9400000000000001,
          0.9380000000000001,
          0.917,
          0.9430000000000001,
          0.9450000000000001
         ],
         "yaxis": "y"
        },
        {
         "hovertemplate": "Country=Saudi Arabia<br>Year=%{x}<br>GDI=%{y}<extra></extra>",
         "legendgroup": "Saudi Arabia",
         "line": {
          "color": "#ab63fa",
          "dash": "solid"
         },
         "marker": {
          "symbol": "circle"
         },
         "mode": "lines",
         "name": "Saudi Arabia",
         "showlegend": true,
         "type": "scattergl",
         "x": [
          2000,
          2005,
          2010,
          2011,
          2012,
          2013,
          2014,
          2015,
          2016,
          2017,
          2018,
          2019
         ],
         "xaxis": "x",
         "y": [
          0.834,
          0.879,
          0.875,
          0.881,
          0.884,
          0.88,
          0.877,
          0.876,
          0.878,
          0.876,
          0.875,
          0.896
         ],
         "yaxis": "y"
        },
        {
         "hovertemplate": "Country=Sudan<br>Year=%{x}<br>GDI=%{y}<extra></extra>",
         "legendgroup": "Sudan",
         "line": {
          "color": "#FFA15A",
          "dash": "solid"
         },
         "marker": {
          "symbol": "circle"
         },
         "mode": "lines",
         "name": "Sudan",
         "showlegend": true,
         "type": "scattergl",
         "x": [
          2005,
          2010,
          2011,
          2012,
          2013,
          2014,
          2015,
          2016,
          2017,
          2018,
          2019
         ],
         "xaxis": "x",
         "y": [
          0.804,
          0.8220000000000001,
          0.657,
          0.833,
          0.843,
          0.847,
          0.847,
          0.853,
          0.855,
          0.854,
          0.86
         ],
         "yaxis": "y"
        },
        {
         "hovertemplate": "Country=Senegal<br>Year=%{x}<br>GDI=%{y}<extra></extra>",
         "legendgroup": "Senegal",
         "line": {
          "color": "#19d3f3",
          "dash": "solid"
         },
         "marker": {
          "symbol": "circle"
         },
         "mode": "lines",
         "name": "Senegal",
         "showlegend": true,
         "type": "scattergl",
         "x": [
          1995,
          2000,
          2005,
          2010,
          2011,
          2012,
          2013,
          2014,
          2015,
          2016,
          2017,
          2018,
          2019
         ],
         "xaxis": "x",
         "y": [
          0.784,
          0.8150000000000001,
          0.8170000000000001,
          0.857,
          0.871,
          0.877,
          0.884,
          0.884,
          0.883,
          0.879,
          0.879,
          0.877,
          0.87
         ],
         "yaxis": "y"
        },
        {
         "hovertemplate": "Country=Singapore<br>Year=%{x}<br>GDI=%{y}<extra></extra>",
         "legendgroup": "Singapore",
         "line": {
          "color": "#FF6692",
          "dash": "solid"
         },
         "marker": {
          "symbol": "circle"
         },
         "mode": "lines",
         "name": "Singapore",
         "showlegend": true,
         "type": "scattergl",
         "x": [
          2000,
          2005,
          2010,
          2011,
          2012,
          2013,
          2014,
          2015,
          2016,
          2017,
          2018,
          2019
         ],
         "xaxis": "x",
         "y": [
          0.935,
          0.9520000000000001,
          0.972,
          0.973,
          0.973,
          0.974,
          0.981,
          0.982,
          0.984,
          0.987,
          0.986,
          0.985
         ],
         "yaxis": "y"
        },
        {
         "hovertemplate": "Country=Sierra Leone<br>Year=%{x}<br>GDI=%{y}<extra></extra>",
         "legendgroup": "Sierra Leone",
         "line": {
          "color": "#B6E880",
          "dash": "solid"
         },
         "marker": {
          "symbol": "circle"
         },
         "mode": "lines",
         "name": "Sierra Leone",
         "showlegend": true,
         "type": "scattergl",
         "x": [
          2000,
          2005,
          2010,
          2011,
          2012,
          2013,
          2014,
          2015,
          2016,
          2017,
          2018,
          2019
         ],
         "xaxis": "x",
         "y": [
          0.772,
          0.812,
          0.853,
          0.86,
          0.868,
          0.875,
          0.876,
          0.875,
          0.876,
          0.88,
          0.881,
          0.884
         ],
         "yaxis": "y"
        },
        {
         "hovertemplate": "Country=El Salvador<br>Year=%{x}<br>GDI=%{y}<extra></extra>",
         "legendgroup": "El Salvador",
         "line": {
          "color": "#FF97FF",
          "dash": "solid"
         },
         "marker": {
          "symbol": "circle"
         },
         "mode": "lines",
         "name": "El Salvador",
         "showlegend": true,
         "type": "scattergl",
         "x": [
          1995,
          2000,
          2005,
          2010,
          2011,
          2012,
          2013,
          2014,
          2015,
          2016,
          2017,
          2018,
          2019
         ],
         "xaxis": "x",
         "y": [
          0.932,
          0.9410000000000001,
          0.9510000000000001,
          0.973,
          0.966,
          0.963,
          0.979,
          0.975,
          0.974,
          0.974,
          0.973,
          0.974,
          0.975
         ],
         "yaxis": "y"
        },
        {
         "hovertemplate": "Country=Serbia<br>Year=%{x}<br>GDI=%{y}<extra></extra>",
         "legendgroup": "Serbia",
         "line": {
          "color": "#FECB52",
          "dash": "solid"
         },
         "marker": {
          "symbol": "circle"
         },
         "mode": "lines",
         "name": "Serbia",
         "showlegend": true,
         "type": "scattergl",
         "x": [
          2000,
          2005,
          2010,
          2011,
          2012,
          2013,
          2014,
          2015,
          2016,
          2017,
          2018,
          2019
         ],
         "xaxis": "x",
         "y": [
          0.9490000000000001,
          0.9510000000000001,
          0.967,
          0.969,
          0.969,
          0.972,
          0.97,
          0.973,
          0.975,
          0.974,
          0.975,
          0.977
         ],
         "yaxis": "y"
        },
        {
         "hovertemplate": "Country=South Sudan<br>Year=%{x}<br>GDI=%{y}<extra></extra>",
         "legendgroup": "South Sudan",
         "line": {
          "color": "#636efa",
          "dash": "solid"
         },
         "marker": {
          "symbol": "circle"
         },
         "mode": "lines",
         "name": "South Sudan",
         "showlegend": true,
         "type": "scattergl",
         "x": [
          2010,
          2011,
          2012,
          2013,
          2014,
          2015,
          2016,
          2017,
          2018,
          2019
         ],
         "xaxis": "x",
         "y": [
          0.8310000000000001,
          0.833,
          0.8280000000000001,
          0.837,
          0.839,
          0.839,
          0.839,
          0.84,
          0.841,
          0.842
         ],
         "yaxis": "y"
        },
        {
         "hovertemplate": "Country=Sao Tome and Principe<br>Year=%{x}<br>GDI=%{y}<extra></extra>",
         "legendgroup": "Sao Tome and Principe",
         "line": {
          "color": "#EF553B",
          "dash": "solid"
         },
         "marker": {
          "symbol": "circle"
         },
         "mode": "lines",
         "name": "Sao Tome and Principe",
         "showlegend": true,
         "type": "scattergl",
         "x": [
          2000,
          2005,
          2010,
          2011,
          2012,
          2013,
          2014,
          2015,
          2016,
          2017,
          2018,
          2019
         ],
         "xaxis": "x",
         "y": [
          0.863,
          0.869,
          0.88,
          0.882,
          0.896,
          0.897,
          0.899,
          0.902,
          0.903,
          0.904,
          0.905,
          0.906
         ],
         "yaxis": "y"
        },
        {
         "hovertemplate": "Country=Suriname<br>Year=%{x}<br>GDI=%{y}<extra></extra>",
         "legendgroup": "Suriname",
         "line": {
          "color": "#00cc96",
          "dash": "solid"
         },
         "marker": {
          "symbol": "circle"
         },
         "mode": "lines",
         "name": "Suriname",
         "showlegend": true,
         "type": "scattergl",
         "x": [
          2005,
          2010,
          2011,
          2012,
          2013,
          2014,
          2015,
          2016,
          2017,
          2018,
          2019
         ],
         "xaxis": "x",
         "y": [
          0.973,
          0.975,
          0.976,
          0.976,
          0.977,
          0.976,
          0.975,
          0.973,
          0.972,
          0.973,
          0.985
         ],
         "yaxis": "y"
        },
        {
         "hovertemplate": "Country=Slovakia<br>Year=%{x}<br>GDI=%{y}<extra></extra>",
         "legendgroup": "Slovakia",
         "line": {
          "color": "#ab63fa",
          "dash": "solid"
         },
         "marker": {
          "symbol": "circle"
         },
         "mode": "lines",
         "name": "Slovakia",
         "showlegend": true,
         "type": "scattergl",
         "x": [
          1995,
          2000,
          2005,
          2010,
          2011,
          2012,
          2013,
          2014,
          2015,
          2016,
          2017,
          2018,
          2019
         ],
         "xaxis": "x",
         "y": [
          0.987,
          0.986,
          0.985,
          0.991,
          0.987,
          0.987,
          0.992,
          0.99,
          0.992,
          0.993,
          0.993,
          0.992,
          0.992
         ],
         "yaxis": "y"
        },
        {
         "hovertemplate": "Country=Slovenia<br>Year=%{x}<br>GDI=%{y}<extra></extra>",
         "legendgroup": "Slovenia",
         "line": {
          "color": "#FFA15A",
          "dash": "solid"
         },
         "marker": {
          "symbol": "circle"
         },
         "mode": "lines",
         "name": "Slovenia",
         "showlegend": true,
         "type": "scattergl",
         "x": [
          1995,
          2000,
          2005,
          2010,
          2011,
          2012,
          2013,
          2014,
          2015,
          2016,
          2017,
          2018,
          2019
         ],
         "xaxis": "x",
         "y": [
          0.988,
          0.994,
          1.007,
          1.007,
          1.012,
          1.006,
          0.997,
          1,
          1.002,
          1.004,
          1.005,
          1.002,
          1.001
         ],
         "yaxis": "y"
        },
        {
         "hovertemplate": "Country=Sweden<br>Year=%{x}<br>GDI=%{y}<extra></extra>",
         "legendgroup": "Sweden",
         "line": {
          "color": "#19d3f3",
          "dash": "solid"
         },
         "marker": {
          "symbol": "circle"
         },
         "mode": "lines",
         "name": "Sweden",
         "showlegend": true,
         "type": "scattergl",
         "x": [
          1995,
          2000,
          2005,
          2010,
          2011,
          2012,
          2013,
          2014,
          2015,
          2016,
          2017,
          2018,
          2019
         ],
         "xaxis": "x",
         "y": [
          1,
          0.988,
          0.996,
          0.996,
          0.996,
          1,
          0.989,
          0.987,
          0.984,
          0.982,
          0.982,
          0.982,
          0.983
         ],
         "yaxis": "y"
        },
        {
         "hovertemplate": "Country=Eswatini (Kingdom of)<br>Year=%{x}<br>GDI=%{y}<extra></extra>",
         "legendgroup": "Eswatini (Kingdom of)",
         "line": {
          "color": "#FF6692",
          "dash": "solid"
         },
         "marker": {
          "symbol": "circle"
         },
         "mode": "lines",
         "name": "Eswatini (Kingdom of)",
         "showlegend": true,
         "type": "scattergl",
         "x": [
          1995,
          2000,
          2005,
          2010,
          2011,
          2012,
          2013,
          2014,
          2015,
          2016,
          2017,
          2018,
          2019
         ],
         "xaxis": "x",
         "y": [
          0.935,
          0.896,
          0.898,
          0.9390000000000001,
          0.9450000000000001,
          0.9520000000000001,
          0.967,
          0.975,
          0.982,
          0.988,
          0.993,
          0.995,
          0.996
         ],
         "yaxis": "y"
        },
        {
         "hovertemplate": "Country=Syrian Arab Republic<br>Year=%{x}<br>GDI=%{y}<extra></extra>",
         "legendgroup": "Syrian Arab Republic",
         "line": {
          "color": "#B6E880",
          "dash": "solid"
         },
         "marker": {
          "symbol": "circle"
         },
         "mode": "lines",
         "name": "Syrian Arab Republic",
         "showlegend": true,
         "type": "scattergl",
         "x": [
          1995,
          2000,
          2005,
          2010,
          2011,
          2012,
          2013,
          2014,
          2015,
          2016,
          2017,
          2018,
          2019
         ],
         "xaxis": "x",
         "y": [
          0.795,
          0.8210000000000001,
          0.8150000000000001,
          0.854,
          0.868,
          0.863,
          0.848,
          0.8290000000000001,
          0.8160000000000001,
          0.802,
          0.839,
          0.8300000000000001,
          0.8290000000000001
         ],
         "yaxis": "y"
        },
        {
         "hovertemplate": "Country=Chad<br>Year=%{x}<br>GDI=%{y}<extra></extra>",
         "legendgroup": "Chad",
         "line": {
          "color": "#FF97FF",
          "dash": "solid"
         },
         "marker": {
          "symbol": "circle"
         },
         "mode": "lines",
         "name": "Chad",
         "showlegend": true,
         "type": "scattergl",
         "x": [
          2005,
          2010,
          2011,
          2012,
          2013,
          2014,
          2015,
          2016,
          2017,
          2018,
          2019
         ],
         "xaxis": "x",
         "y": [
          0.726,
          0.757,
          0.767,
          0.769,
          0.77,
          0.771,
          0.774,
          0.772,
          0.773,
          0.773,
          0.764
         ],
         "yaxis": "y"
        },
        {
         "hovertemplate": "Country=Togo<br>Year=%{x}<br>GDI=%{y}<extra></extra>",
         "legendgroup": "Togo",
         "line": {
          "color": "#FECB52",
          "dash": "solid"
         },
         "marker": {
          "symbol": "circle"
         },
         "mode": "lines",
         "name": "Togo",
         "showlegend": true,
         "type": "scattergl",
         "x": [
          1995,
          2000,
          2005,
          2010,
          2011,
          2012,
          2013,
          2014,
          2015,
          2016,
          2017,
          2018,
          2019
         ],
         "xaxis": "x",
         "y": [
          0.747,
          0.781,
          0.796,
          0.787,
          0.788,
          0.79,
          0.793,
          0.8,
          0.798,
          0.798,
          0.8320000000000001,
          0.8190000000000001,
          0.8220000000000001
         ],
         "yaxis": "y"
        },
        {
         "hovertemplate": "Country=Thailand<br>Year=%{x}<br>GDI=%{y}<extra></extra>",
         "legendgroup": "Thailand",
         "line": {
          "color": "#636efa",
          "dash": "solid"
         },
         "marker": {
          "symbol": "circle"
         },
         "mode": "lines",
         "name": "Thailand",
         "showlegend": true,
         "type": "scattergl",
         "x": [
          1995,
          2000,
          2005,
          2010,
          2011,
          2012,
          2013,
          2014,
          2015,
          2016,
          2017,
          2018,
          2019
         ],
         "xaxis": "x",
         "y": [
          0.976,
          0.977,
          0.97,
          0.997,
          1.002,
          1.001,
          1,
          0.998,
          0.998,
          0.997,
          0.997,
          0.997,
          1.008
         ],
         "yaxis": "y"
        },
        {
         "hovertemplate": "Country=Tajikistan<br>Year=%{x}<br>GDI=%{y}<extra></extra>",
         "legendgroup": "Tajikistan",
         "line": {
          "color": "#EF553B",
          "dash": "solid"
         },
         "marker": {
          "symbol": "circle"
         },
         "mode": "lines",
         "name": "Tajikistan",
         "showlegend": true,
         "type": "scattergl",
         "x": [
          1995,
          2000,
          2005,
          2010,
          2011,
          2012,
          2013,
          2014,
          2015,
          2016,
          2017,
          2018,
          2019
         ],
         "xaxis": "x",
         "y": [
          0.861,
          0.852,
          0.866,
          0.803,
          0.804,
          0.812,
          0.8220000000000001,
          0.8230000000000001,
          0.8240000000000001,
          0.8250000000000001,
          0.8230000000000001,
          0.8230000000000001,
          0.8230000000000001
         ],
         "yaxis": "y"
        },
        {
         "hovertemplate": "Country=Timor-Leste<br>Year=%{x}<br>GDI=%{y}<extra></extra>",
         "legendgroup": "Timor-Leste",
         "line": {
          "color": "#00cc96",
          "dash": "solid"
         },
         "marker": {
          "symbol": "circle"
         },
         "mode": "lines",
         "name": "Timor-Leste",
         "showlegend": true,
         "type": "scattergl",
         "x": [
          2005,
          2010,
          2011,
          2012,
          2013,
          2014,
          2015,
          2016,
          2017,
          2018,
          2019
         ],
         "xaxis": "x",
         "y": [
          0.896,
          0.926,
          0.928,
          0.927,
          0.897,
          0.896,
          0.897,
          0.9430000000000001,
          0.9450000000000001,
          0.9460000000000001,
          0.9420000000000001
         ],
         "yaxis": "y"
        },
        {
         "hovertemplate": "Country=Tonga<br>Year=%{x}<br>GDI=%{y}<extra></extra>",
         "legendgroup": "Tonga",
         "line": {
          "color": "#ab63fa",
          "dash": "solid"
         },
         "marker": {
          "symbol": "circle"
         },
         "mode": "lines",
         "name": "Tonga",
         "showlegend": true,
         "type": "scattergl",
         "x": [
          1995,
          2000,
          2005,
          2010,
          2011,
          2012,
          2013,
          2014,
          2015,
          2016,
          2017,
          2018,
          2019
         ],
         "xaxis": "x",
         "y": [
          0.923,
          0.921,
          0.932,
          0.9430000000000001,
          0.9450000000000001,
          0.9450000000000001,
          0.9440000000000001,
          0.9460000000000001,
          0.9470000000000001,
          0.9480000000000001,
          0.9480000000000001,
          0.9490000000000001,
          0.9500000000000001
         ],
         "yaxis": "y"
        },
        {
         "hovertemplate": "Country=Trinidad and Tobago<br>Year=%{x}<br>GDI=%{y}<extra></extra>",
         "legendgroup": "Trinidad and Tobago",
         "line": {
          "color": "#FFA15A",
          "dash": "solid"
         },
         "marker": {
          "symbol": "circle"
         },
         "mode": "lines",
         "name": "Trinidad and Tobago",
         "showlegend": true,
         "type": "scattergl",
         "x": [
          1995,
          2000,
          2005,
          2010,
          2011,
          2012,
          2013,
          2014,
          2015,
          2016,
          2017,
          2018,
          2019
         ],
         "xaxis": "x",
         "y": [
          0.934,
          0.9470000000000001,
          0.969,
          0.984,
          0.997,
          0.997,
          0.999,
          0.998,
          0.989,
          0.997,
          1.002,
          1.002,
          1.003
         ],
         "yaxis": "y"
        },
        {
         "hovertemplate": "Country=Tunisia<br>Year=%{x}<br>GDI=%{y}<extra></extra>",
         "legendgroup": "Tunisia",
         "line": {
          "color": "#19d3f3",
          "dash": "solid"
         },
         "marker": {
          "symbol": "circle"
         },
         "mode": "lines",
         "name": "Tunisia",
         "showlegend": true,
         "type": "scattergl",
         "x": [
          1995,
          2000,
          2005,
          2010,
          2011,
          2012,
          2013,
          2014,
          2015,
          2016,
          2017,
          2018,
          2019
         ],
         "xaxis": "x",
         "y": [
          0.81,
          0.843,
          0.867,
          0.887,
          0.885,
          0.888,
          0.892,
          0.894,
          0.896,
          0.898,
          0.899,
          0.899,
          0.9
         ],
         "yaxis": "y"
        },
        {
         "hovertemplate": "Country=Turkey<br>Year=%{x}<br>GDI=%{y}<extra></extra>",
         "legendgroup": "Turkey",
         "line": {
          "color": "#FF6692",
          "dash": "solid"
         },
         "marker": {
          "symbol": "circle"
         },
         "mode": "lines",
         "name": "Turkey",
         "showlegend": true,
         "type": "scattergl",
         "x": [
          1995,
          2000,
          2005,
          2010,
          2011,
          2012,
          2013,
          2014,
          2015,
          2016,
          2017,
          2018,
          2019
         ],
         "xaxis": "x",
         "y": [
          0.838,
          0.847,
          0.855,
          0.908,
          0.911,
          0.914,
          0.917,
          0.924,
          0.928,
          0.93,
          0.931,
          0.926,
          0.924
         ],
         "yaxis": "y"
        },
        {
         "hovertemplate": "Country=Tanzania (United Republic of)<br>Year=%{x}<br>GDI=%{y}<extra></extra>",
         "legendgroup": "Tanzania (United Republic of)",
         "line": {
          "color": "#B6E880",
          "dash": "solid"
         },
         "marker": {
          "symbol": "circle"
         },
         "mode": "lines",
         "name": "Tanzania (United Republic of)",
         "showlegend": true,
         "type": "scattergl",
         "x": [
          1995,
          2000,
          2005,
          2010,
          2011,
          2012,
          2013,
          2014,
          2015,
          2016,
          2017,
          2018,
          2019
         ],
         "xaxis": "x",
         "y": [
          0.875,
          0.884,
          0.895,
          0.921,
          0.923,
          0.9460000000000001,
          0.9490000000000001,
          0.936,
          0.9390000000000001,
          0.9420000000000001,
          0.9440000000000001,
          0.9430000000000001,
          0.9480000000000001
         ],
         "yaxis": "y"
        },
        {
         "hovertemplate": "Country=Uganda<br>Year=%{x}<br>GDI=%{y}<extra></extra>",
         "legendgroup": "Uganda",
         "line": {
          "color": "#FF97FF",
          "dash": "solid"
         },
         "marker": {
          "symbol": "circle"
         },
         "mode": "lines",
         "name": "Uganda",
         "showlegend": true,
         "type": "scattergl",
         "x": [
          1995,
          2000,
          2005,
          2010,
          2011,
          2012,
          2013,
          2014,
          2015,
          2016,
          2017,
          2018,
          2019
         ],
         "xaxis": "x",
         "y": [
          0.867,
          0.886,
          0.884,
          0.862,
          0.863,
          0.866,
          0.865,
          0.866,
          0.871,
          0.873,
          0.874,
          0.862,
          0.863
         ],
         "yaxis": "y"
        },
        {
         "hovertemplate": "Country=Ukraine<br>Year=%{x}<br>GDI=%{y}<extra></extra>",
         "legendgroup": "Ukraine",
         "line": {
          "color": "#FECB52",
          "dash": "solid"
         },
         "marker": {
          "symbol": "circle"
         },
         "mode": "lines",
         "name": "Ukraine",
         "showlegend": true,
         "type": "scattergl",
         "x": [
          1995,
          2000,
          2005,
          2010,
          2011,
          2012,
          2013,
          2014,
          2015,
          2016,
          2017,
          2018,
          2019
         ],
         "xaxis": "x",
         "y": [
          1.003,
          0.992,
          1.004,
          1.012,
          1.005,
          1.003,
          1.003,
          1,
          0.997,
          0.997,
          1,
          1,
          1
         ],
         "yaxis": "y"
        },
        {
         "hovertemplate": "Country=Uruguay<br>Year=%{x}<br>GDI=%{y}<extra></extra>",
         "legendgroup": "Uruguay",
         "line": {
          "color": "#636efa",
          "dash": "solid"
         },
         "marker": {
          "symbol": "circle"
         },
         "mode": "lines",
         "name": "Uruguay",
         "showlegend": true,
         "type": "scattergl",
         "x": [
          1995,
          2000,
          2005,
          2010,
          2011,
          2012,
          2013,
          2014,
          2015,
          2016,
          2017,
          2018,
          2019
         ],
         "xaxis": "x",
         "y": [
          1.005,
          1,
          1.005,
          1.006,
          1.01,
          1.012,
          1.009,
          1.011,
          1.011,
          1.016,
          1.015,
          1.017,
          1.016
         ],
         "yaxis": "y"
        },
        {
         "hovertemplate": "Country=United States<br>Year=%{x}<br>GDI=%{y}<extra></extra>",
         "legendgroup": "United States",
         "line": {
          "color": "#EF553B",
          "dash": "solid"
         },
         "marker": {
          "symbol": "circle"
         },
         "mode": "lines",
         "name": "United States",
         "showlegend": true,
         "type": "scattergl",
         "x": [
          1995,
          2000,
          2005,
          2010,
          2011,
          2012,
          2013,
          2014,
          2015,
          2016,
          2017,
          2018,
          2019
         ],
         "xaxis": "x",
         "y": [
          0.995,
          0.987,
          0.992,
          0.996,
          0.996,
          0.994,
          0.993,
          0.993,
          0.994,
          0.994,
          0.995,
          0.993,
          0.994
         ],
         "yaxis": "y"
        },
        {
         "hovertemplate": "Country=Uzbekistan<br>Year=%{x}<br>GDI=%{y}<extra></extra>",
         "legendgroup": "Uzbekistan",
         "line": {
          "color": "#00cc96",
          "dash": "solid"
         },
         "marker": {
          "symbol": "circle"
         },
         "mode": "lines",
         "name": "Uzbekistan",
         "showlegend": true,
         "type": "scattergl",
         "x": [
          2000,
          2005,
          2010,
          2011,
          2012,
          2013,
          2014,
          2015,
          2016,
          2017,
          2018,
          2019
         ],
         "xaxis": "x",
         "y": [
          0.936,
          0.9390000000000001,
          0.9450000000000001,
          0.9430000000000001,
          0.9420000000000001,
          0.9400000000000001,
          0.9400000000000001,
          0.9390000000000001,
          0.936,
          0.937,
          0.9380000000000001,
          0.9390000000000001
         ],
         "yaxis": "y"
        },
        {
         "hovertemplate": "Country=Venezuela (Bolivarian Republic of)<br>Year=%{x}<br>GDI=%{y}<extra></extra>",
         "legendgroup": "Venezuela (Bolivarian Republic of)",
         "line": {
          "color": "#ab63fa",
          "dash": "solid"
         },
         "marker": {
          "symbol": "circle"
         },
         "mode": "lines",
         "name": "Venezuela (Bolivarian Republic of)",
         "showlegend": true,
         "type": "scattergl",
         "x": [
          1995,
          2000,
          2005,
          2010,
          2011,
          2012,
          2013,
          2014,
          2015,
          2016,
          2017,
          2018,
          2019
         ],
         "xaxis": "x",
         "y": [
          0.976,
          0.987,
          0.992,
          1.024,
          1.022,
          1.023,
          1.023,
          1.023,
          1.022,
          1.019,
          1.016,
          1.014,
          1.009
         ],
         "yaxis": "y"
        },
        {
         "hovertemplate": "Country=Viet Nam<br>Year=%{x}<br>GDI=%{y}<extra></extra>",
         "legendgroup": "Viet Nam",
         "line": {
          "color": "#FFA15A",
          "dash": "solid"
         },
         "marker": {
          "symbol": "circle"
         },
         "mode": "lines",
         "name": "Viet Nam",
         "showlegend": true,
         "type": "scattergl",
         "x": [
          1995,
          2000,
          2005,
          2010,
          2011,
          2012,
          2013,
          2014,
          2015,
          2016,
          2017,
          2018,
          2019
         ],
         "xaxis": "x",
         "y": [
          0.9460000000000001,
          0.9560000000000001,
          0.978,
          0.982,
          0.993,
          0.998,
          1,
          1.002,
          1.005,
          1.004,
          0.999,
          0.998,
          0.997
         ],
         "yaxis": "y"
        },
        {
         "hovertemplate": "Country=Yemen<br>Year=%{x}<br>GDI=%{y}<extra></extra>",
         "legendgroup": "Yemen",
         "line": {
          "color": "#19d3f3",
          "dash": "solid"
         },
         "marker": {
          "symbol": "circle"
         },
         "mode": "lines",
         "name": "Yemen",
         "showlegend": true,
         "type": "scattergl",
         "x": [
          1995,
          2000,
          2005,
          2010,
          2011,
          2012,
          2013,
          2014,
          2015,
          2016,
          2017,
          2018,
          2019
         ],
         "xaxis": "x",
         "y": [
          0.613,
          0.638,
          0.662,
          0.672,
          0.653,
          0.644,
          0.615,
          0.587,
          0.544,
          0.515,
          0.489,
          0.482,
          0.488
         ],
         "yaxis": "y"
        },
        {
         "hovertemplate": "Country=South Africa<br>Year=%{x}<br>GDI=%{y}<extra></extra>",
         "legendgroup": "South Africa",
         "line": {
          "color": "#FF6692",
          "dash": "solid"
         },
         "marker": {
          "symbol": "circle"
         },
         "mode": "lines",
         "name": "South Africa",
         "showlegend": true,
         "type": "scattergl",
         "x": [
          1995,
          2000,
          2005,
          2010,
          2011,
          2012,
          2013,
          2014,
          2015,
          2016,
          2017,
          2018,
          2019
         ],
         "xaxis": "x",
         "y": [
          0.9550000000000001,
          0.9590000000000001,
          0.9590000000000001,
          0.975,
          0.983,
          0.976,
          0.979,
          0.983,
          0.982,
          0.982,
          0.981,
          0.983,
          0.986
         ],
         "yaxis": "y"
        },
        {
         "hovertemplate": "Country=Zambia<br>Year=%{x}<br>GDI=%{y}<extra></extra>",
         "legendgroup": "Zambia",
         "line": {
          "color": "#B6E880",
          "dash": "solid"
         },
         "marker": {
          "symbol": "circle"
         },
         "mode": "lines",
         "name": "Zambia",
         "showlegend": true,
         "type": "scattergl",
         "x": [
          2010,
          2011,
          2012,
          2013,
          2014,
          2015,
          2016,
          2017,
          2018,
          2019
         ],
         "xaxis": "x",
         "y": [
          0.917,
          0.92,
          0.925,
          0.929,
          0.933,
          0.936,
          0.9400000000000001,
          0.978,
          0.98,
          0.9580000000000001
         ],
         "yaxis": "y"
        },
        {
         "hovertemplate": "Country=Zimbabwe<br>Year=%{x}<br>GDI=%{y}<extra></extra>",
         "legendgroup": "Zimbabwe",
         "line": {
          "color": "#FF97FF",
          "dash": "solid"
         },
         "marker": {
          "symbol": "circle"
         },
         "mode": "lines",
         "name": "Zimbabwe",
         "showlegend": true,
         "type": "scattergl",
         "x": [
          1995,
          2000,
          2005,
          2010,
          2011,
          2012,
          2013,
          2014,
          2015,
          2016,
          2017,
          2018,
          2019
         ],
         "xaxis": "x",
         "y": [
          0.903,
          0.891,
          0.895,
          0.93,
          0.934,
          0.9380000000000001,
          0.934,
          0.927,
          0.927,
          0.927,
          0.927,
          0.927,
          0.931
         ],
         "yaxis": "y"
        },
        {
         "hovertemplate": "Country=Saint Vincent and the Grenadines<br>Year=%{x}<br>GDI=%{y}<extra></extra>",
         "legendgroup": "Saint Vincent and the Grenadines",
         "line": {
          "color": "#FECB52",
          "dash": "solid"
         },
         "marker": {
          "symbol": "circle"
         },
         "mode": "lines",
         "name": "Saint Vincent and the Grenadines",
         "showlegend": true,
         "type": "scattergl",
         "x": [
          2019
         ],
         "xaxis": "x",
         "y": [
          0.965
         ],
         "yaxis": "y"
        }
       ],
       "layout": {
        "legend": {
         "title": {
          "text": "Country"
         },
         "tracegroupgap": 0
        },
        "margin": {
         "t": 60
        },
        "template": {
         "data": {
          "bar": [
           {
            "error_x": {
             "color": "#2a3f5f"
            },
            "error_y": {
             "color": "#2a3f5f"
            },
            "marker": {
             "line": {
              "color": "#E5ECF6",
              "width": 0.5
             },
             "pattern": {
              "fillmode": "overlay",
              "size": 10,
              "solidity": 0.2
             }
            },
            "type": "bar"
           }
          ],
          "barpolar": [
           {
            "marker": {
             "line": {
              "color": "#E5ECF6",
              "width": 0.5
             },
             "pattern": {
              "fillmode": "overlay",
              "size": 10,
              "solidity": 0.2
             }
            },
            "type": "barpolar"
           }
          ],
          "carpet": [
           {
            "aaxis": {
             "endlinecolor": "#2a3f5f",
             "gridcolor": "white",
             "linecolor": "white",
             "minorgridcolor": "white",
             "startlinecolor": "#2a3f5f"
            },
            "baxis": {
             "endlinecolor": "#2a3f5f",
             "gridcolor": "white",
             "linecolor": "white",
             "minorgridcolor": "white",
             "startlinecolor": "#2a3f5f"
            },
            "type": "carpet"
           }
          ],
          "choropleth": [
           {
            "colorbar": {
             "outlinewidth": 0,
             "ticks": ""
            },
            "type": "choropleth"
           }
          ],
          "contour": [
           {
            "colorbar": {
             "outlinewidth": 0,
             "ticks": ""
            },
            "colorscale": [
             [
              0,
              "#0d0887"
             ],
             [
              0.1111111111111111,
              "#46039f"
             ],
             [
              0.2222222222222222,
              "#7201a8"
             ],
             [
              0.3333333333333333,
              "#9c179e"
             ],
             [
              0.4444444444444444,
              "#bd3786"
             ],
             [
              0.5555555555555556,
              "#d8576b"
             ],
             [
              0.6666666666666666,
              "#ed7953"
             ],
             [
              0.7777777777777778,
              "#fb9f3a"
             ],
             [
              0.8888888888888888,
              "#fdca26"
             ],
             [
              1,
              "#f0f921"
             ]
            ],
            "type": "contour"
           }
          ],
          "contourcarpet": [
           {
            "colorbar": {
             "outlinewidth": 0,
             "ticks": ""
            },
            "type": "contourcarpet"
           }
          ],
          "heatmap": [
           {
            "colorbar": {
             "outlinewidth": 0,
             "ticks": ""
            },
            "colorscale": [
             [
              0,
              "#0d0887"
             ],
             [
              0.1111111111111111,
              "#46039f"
             ],
             [
              0.2222222222222222,
              "#7201a8"
             ],
             [
              0.3333333333333333,
              "#9c179e"
             ],
             [
              0.4444444444444444,
              "#bd3786"
             ],
             [
              0.5555555555555556,
              "#d8576b"
             ],
             [
              0.6666666666666666,
              "#ed7953"
             ],
             [
              0.7777777777777778,
              "#fb9f3a"
             ],
             [
              0.8888888888888888,
              "#fdca26"
             ],
             [
              1,
              "#f0f921"
             ]
            ],
            "type": "heatmap"
           }
          ],
          "heatmapgl": [
           {
            "colorbar": {
             "outlinewidth": 0,
             "ticks": ""
            },
            "colorscale": [
             [
              0,
              "#0d0887"
             ],
             [
              0.1111111111111111,
              "#46039f"
             ],
             [
              0.2222222222222222,
              "#7201a8"
             ],
             [
              0.3333333333333333,
              "#9c179e"
             ],
             [
              0.4444444444444444,
              "#bd3786"
             ],
             [
              0.5555555555555556,
              "#d8576b"
             ],
             [
              0.6666666666666666,
              "#ed7953"
             ],
             [
              0.7777777777777778,
              "#fb9f3a"
             ],
             [
              0.8888888888888888,
              "#fdca26"
             ],
             [
              1,
              "#f0f921"
             ]
            ],
            "type": "heatmapgl"
           }
          ],
          "histogram": [
           {
            "marker": {
             "pattern": {
              "fillmode": "overlay",
              "size": 10,
              "solidity": 0.2
             }
            },
            "type": "histogram"
           }
          ],
          "histogram2d": [
           {
            "colorbar": {
             "outlinewidth": 0,
             "ticks": ""
            },
            "colorscale": [
             [
              0,
              "#0d0887"
             ],
             [
              0.1111111111111111,
              "#46039f"
             ],
             [
              0.2222222222222222,
              "#7201a8"
             ],
             [
              0.3333333333333333,
              "#9c179e"
             ],
             [
              0.4444444444444444,
              "#bd3786"
             ],
             [
              0.5555555555555556,
              "#d8576b"
             ],
             [
              0.6666666666666666,
              "#ed7953"
             ],
             [
              0.7777777777777778,
              "#fb9f3a"
             ],
             [
              0.8888888888888888,
              "#fdca26"
             ],
             [
              1,
              "#f0f921"
             ]
            ],
            "type": "histogram2d"
           }
          ],
          "histogram2dcontour": [
           {
            "colorbar": {
             "outlinewidth": 0,
             "ticks": ""
            },
            "colorscale": [
             [
              0,
              "#0d0887"
             ],
             [
              0.1111111111111111,
              "#46039f"
             ],
             [
              0.2222222222222222,
              "#7201a8"
             ],
             [
              0.3333333333333333,
              "#9c179e"
             ],
             [
              0.4444444444444444,
              "#bd3786"
             ],
             [
              0.5555555555555556,
              "#d8576b"
             ],
             [
              0.6666666666666666,
              "#ed7953"
             ],
             [
              0.7777777777777778,
              "#fb9f3a"
             ],
             [
              0.8888888888888888,
              "#fdca26"
             ],
             [
              1,
              "#f0f921"
             ]
            ],
            "type": "histogram2dcontour"
           }
          ],
          "mesh3d": [
           {
            "colorbar": {
             "outlinewidth": 0,
             "ticks": ""
            },
            "type": "mesh3d"
           }
          ],
          "parcoords": [
           {
            "line": {
             "colorbar": {
              "outlinewidth": 0,
              "ticks": ""
             }
            },
            "type": "parcoords"
           }
          ],
          "pie": [
           {
            "automargin": true,
            "type": "pie"
           }
          ],
          "scatter": [
           {
            "marker": {
             "colorbar": {
              "outlinewidth": 0,
              "ticks": ""
             }
            },
            "type": "scatter"
           }
          ],
          "scatter3d": [
           {
            "line": {
             "colorbar": {
              "outlinewidth": 0,
              "ticks": ""
             }
            },
            "marker": {
             "colorbar": {
              "outlinewidth": 0,
              "ticks": ""
             }
            },
            "type": "scatter3d"
           }
          ],
          "scattercarpet": [
           {
            "marker": {
             "colorbar": {
              "outlinewidth": 0,
              "ticks": ""
             }
            },
            "type": "scattercarpet"
           }
          ],
          "scattergeo": [
           {
            "marker": {
             "colorbar": {
              "outlinewidth": 0,
              "ticks": ""
             }
            },
            "type": "scattergeo"
           }
          ],
          "scattergl": [
           {
            "marker": {
             "colorbar": {
              "outlinewidth": 0,
              "ticks": ""
             }
            },
            "type": "scattergl"
           }
          ],
          "scattermapbox": [
           {
            "marker": {
             "colorbar": {
              "outlinewidth": 0,
              "ticks": ""
             }
            },
            "type": "scattermapbox"
           }
          ],
          "scatterpolar": [
           {
            "marker": {
             "colorbar": {
              "outlinewidth": 0,
              "ticks": ""
             }
            },
            "type": "scatterpolar"
           }
          ],
          "scatterpolargl": [
           {
            "marker": {
             "colorbar": {
              "outlinewidth": 0,
              "ticks": ""
             }
            },
            "type": "scatterpolargl"
           }
          ],
          "scatterternary": [
           {
            "marker": {
             "colorbar": {
              "outlinewidth": 0,
              "ticks": ""
             }
            },
            "type": "scatterternary"
           }
          ],
          "surface": [
           {
            "colorbar": {
             "outlinewidth": 0,
             "ticks": ""
            },
            "colorscale": [
             [
              0,
              "#0d0887"
             ],
             [
              0.1111111111111111,
              "#46039f"
             ],
             [
              0.2222222222222222,
              "#7201a8"
             ],
             [
              0.3333333333333333,
              "#9c179e"
             ],
             [
              0.4444444444444444,
              "#bd3786"
             ],
             [
              0.5555555555555556,
              "#d8576b"
             ],
             [
              0.6666666666666666,
              "#ed7953"
             ],
             [
              0.7777777777777778,
              "#fb9f3a"
             ],
             [
              0.8888888888888888,
              "#fdca26"
             ],
             [
              1,
              "#f0f921"
             ]
            ],
            "type": "surface"
           }
          ],
          "table": [
           {
            "cells": {
             "fill": {
              "color": "#EBF0F8"
             },
             "line": {
              "color": "white"
             }
            },
            "header": {
             "fill": {
              "color": "#C8D4E3"
             },
             "line": {
              "color": "white"
             }
            },
            "type": "table"
           }
          ]
         },
         "layout": {
          "annotationdefaults": {
           "arrowcolor": "#2a3f5f",
           "arrowhead": 0,
           "arrowwidth": 1
          },
          "autotypenumbers": "strict",
          "coloraxis": {
           "colorbar": {
            "outlinewidth": 0,
            "ticks": ""
           }
          },
          "colorscale": {
           "diverging": [
            [
             0,
             "#8e0152"
            ],
            [
             0.1,
             "#c51b7d"
            ],
            [
             0.2,
             "#de77ae"
            ],
            [
             0.3,
             "#f1b6da"
            ],
            [
             0.4,
             "#fde0ef"
            ],
            [
             0.5,
             "#f7f7f7"
            ],
            [
             0.6,
             "#e6f5d0"
            ],
            [
             0.7,
             "#b8e186"
            ],
            [
             0.8,
             "#7fbc41"
            ],
            [
             0.9,
             "#4d9221"
            ],
            [
             1,
             "#276419"
            ]
           ],
           "sequential": [
            [
             0,
             "#0d0887"
            ],
            [
             0.1111111111111111,
             "#46039f"
            ],
            [
             0.2222222222222222,
             "#7201a8"
            ],
            [
             0.3333333333333333,
             "#9c179e"
            ],
            [
             0.4444444444444444,
             "#bd3786"
            ],
            [
             0.5555555555555556,
             "#d8576b"
            ],
            [
             0.6666666666666666,
             "#ed7953"
            ],
            [
             0.7777777777777778,
             "#fb9f3a"
            ],
            [
             0.8888888888888888,
             "#fdca26"
            ],
            [
             1,
             "#f0f921"
            ]
           ],
           "sequentialminus": [
            [
             0,
             "#0d0887"
            ],
            [
             0.1111111111111111,
             "#46039f"
            ],
            [
             0.2222222222222222,
             "#7201a8"
            ],
            [
             0.3333333333333333,
             "#9c179e"
            ],
            [
             0.4444444444444444,
             "#bd3786"
            ],
            [
             0.5555555555555556,
             "#d8576b"
            ],
            [
             0.6666666666666666,
             "#ed7953"
            ],
            [
             0.7777777777777778,
             "#fb9f3a"
            ],
            [
             0.8888888888888888,
             "#fdca26"
            ],
            [
             1,
             "#f0f921"
            ]
           ]
          },
          "colorway": [
           "#636efa",
           "#EF553B",
           "#00cc96",
           "#ab63fa",
           "#FFA15A",
           "#19d3f3",
           "#FF6692",
           "#B6E880",
           "#FF97FF",
           "#FECB52"
          ],
          "font": {
           "color": "#2a3f5f"
          },
          "geo": {
           "bgcolor": "white",
           "lakecolor": "white",
           "landcolor": "#E5ECF6",
           "showlakes": true,
           "showland": true,
           "subunitcolor": "white"
          },
          "hoverlabel": {
           "align": "left"
          },
          "hovermode": "closest",
          "mapbox": {
           "style": "light"
          },
          "paper_bgcolor": "white",
          "plot_bgcolor": "#E5ECF6",
          "polar": {
           "angularaxis": {
            "gridcolor": "white",
            "linecolor": "white",
            "ticks": ""
           },
           "bgcolor": "#E5ECF6",
           "radialaxis": {
            "gridcolor": "white",
            "linecolor": "white",
            "ticks": ""
           }
          },
          "scene": {
           "xaxis": {
            "backgroundcolor": "#E5ECF6",
            "gridcolor": "white",
            "gridwidth": 2,
            "linecolor": "white",
            "showbackground": true,
            "ticks": "",
            "zerolinecolor": "white"
           },
           "yaxis": {
            "backgroundcolor": "#E5ECF6",
            "gridcolor": "white",
            "gridwidth": 2,
            "linecolor": "white",
            "showbackground": true,
            "ticks": "",
            "zerolinecolor": "white"
           },
           "zaxis": {
            "backgroundcolor": "#E5ECF6",
            "gridcolor": "white",
            "gridwidth": 2,
            "linecolor": "white",
            "showbackground": true,
            "ticks": "",
            "zerolinecolor": "white"
           }
          },
          "shapedefaults": {
           "line": {
            "color": "#2a3f5f"
           }
          },
          "ternary": {
           "aaxis": {
            "gridcolor": "white",
            "linecolor": "white",
            "ticks": ""
           },
           "baxis": {
            "gridcolor": "white",
            "linecolor": "white",
            "ticks": ""
           },
           "bgcolor": "#E5ECF6",
           "caxis": {
            "gridcolor": "white",
            "linecolor": "white",
            "ticks": ""
           }
          },
          "title": {
           "x": 0.05
          },
          "xaxis": {
           "automargin": true,
           "gridcolor": "white",
           "linecolor": "white",
           "ticks": "",
           "title": {
            "standoff": 15
           },
           "zerolinecolor": "white",
           "zerolinewidth": 2
          },
          "yaxis": {
           "automargin": true,
           "gridcolor": "white",
           "linecolor": "white",
           "ticks": "",
           "title": {
            "standoff": 15
           },
           "zerolinecolor": "white",
           "zerolinewidth": 2
          }
         }
        },
        "xaxis": {
         "anchor": "y",
         "domain": [
          0,
          1
         ],
         "title": {
          "text": "Year"
         }
        },
        "yaxis": {
         "anchor": "x",
         "domain": [
          0,
          1
         ],
         "title": {
          "text": "GDI"
         }
        }
       }
      }
     },
     "metadata": {},
     "output_type": "display_data"
    }
   ],
   "source": [
    "import plotly.express as px\n",
    "\n",
    "fig = px.line(json_df, x='Year', y='GDI', color='Country')\n",
    "fig.show()"
   ]
  },
  {
   "cell_type": "code",
   "execution_count": 12,
   "metadata": {},
   "outputs": [
    {
     "data": {
      "application/vnd.plotly.v1+json": {
       "config": {
        "plotlyServerURL": "https://plot.ly"
       },
       "data": [
        {
         "hovertemplate": "Country=Afghanistan<br>Year=%{x}<br>GDI=%{y}<extra></extra>",
         "legendgroup": "Afghanistan",
         "marker": {
          "color": "#636efa",
          "symbol": "circle"
         },
         "mode": "markers",
         "name": "Afghanistan",
         "showlegend": true,
         "type": "scattergl",
         "x": [
          2000,
          2005,
          2010,
          2011,
          2012,
          2013,
          2014,
          2015,
          2016,
          2017,
          2018,
          2019
         ],
         "xaxis": "x",
         "y": [
          0.322,
          0.519,
          0.595,
          0.609,
          0.618,
          0.627,
          0.634,
          0.639,
          0.646,
          0.658,
          0.663,
          0.659
         ],
         "yaxis": "y"
        },
        {
         "hovertemplate": "Country=Angola<br>Year=%{x}<br>GDI=%{y}<extra></extra>",
         "legendgroup": "Angola",
         "marker": {
          "color": "#EF553B",
          "symbol": "circle"
         },
         "mode": "markers",
         "name": "Angola",
         "showlegend": true,
         "type": "scattergl",
         "x": [
          2014,
          2015,
          2016,
          2017,
          2018,
          2019
         ],
         "xaxis": "x",
         "y": [
          0.838,
          0.839,
          0.903,
          0.903,
          0.903,
          0.903
         ],
         "yaxis": "y"
        },
        {
         "hovertemplate": "Country=Albania<br>Year=%{x}<br>GDI=%{y}<extra></extra>",
         "legendgroup": "Albania",
         "marker": {
          "color": "#00cc96",
          "symbol": "circle"
         },
         "mode": "markers",
         "name": "Albania",
         "showlegend": true,
         "type": "scattergl",
         "x": [
          1995,
          2000,
          2005,
          2010,
          2011,
          2012,
          2013,
          2014,
          2015,
          2016,
          2017,
          2018,
          2019
         ],
         "xaxis": "x",
         "y": [
          0.9380000000000001,
          0.936,
          0.9420000000000001,
          0.961,
          0.9580000000000001,
          0.972,
          0.966,
          0.964,
          0.969,
          0.965,
          0.964,
          0.971,
          0.967
         ],
         "yaxis": "y"
        },
        {
         "hovertemplate": "Country=United Arab Emirates<br>Year=%{x}<br>GDI=%{y}<extra></extra>",
         "legendgroup": "United Arab Emirates",
         "marker": {
          "color": "#ab63fa",
          "symbol": "circle"
         },
         "mode": "markers",
         "name": "United Arab Emirates",
         "showlegend": true,
         "type": "scattergl",
         "x": [
          1995,
          2011,
          2012,
          2013,
          2014,
          2015,
          2016,
          2017,
          2018,
          2019
         ],
         "xaxis": "x",
         "y": [
          0.9520000000000001,
          0.9570000000000001,
          0.9590000000000001,
          0.932,
          0.933,
          0.935,
          0.935,
          0.928,
          0.926,
          0.931
         ],
         "yaxis": "y"
        },
        {
         "hovertemplate": "Country=Argentina<br>Year=%{x}<br>GDI=%{y}<extra></extra>",
         "legendgroup": "Argentina",
         "marker": {
          "color": "#FFA15A",
          "symbol": "circle"
         },
         "mode": "markers",
         "name": "Argentina",
         "showlegend": true,
         "type": "scattergl",
         "x": [
          1995,
          2000,
          2005,
          2010,
          2011,
          2012,
          2013,
          2014,
          2015,
          2016,
          2017,
          2018,
          2019
         ],
         "xaxis": "x",
         "y": [
          0.987,
          0.984,
          0.993,
          0.993,
          0.992,
          0.992,
          0.994,
          0.992,
          0.993,
          0.994,
          0.993,
          0.992,
          0.993
         ],
         "yaxis": "y"
        },
        {
         "hovertemplate": "Country=Armenia<br>Year=%{x}<br>GDI=%{y}<extra></extra>",
         "legendgroup": "Armenia",
         "marker": {
          "color": "#19d3f3",
          "symbol": "circle"
         },
         "mode": "markers",
         "name": "Armenia",
         "showlegend": true,
         "type": "scattergl",
         "x": [
          1995,
          2000,
          2005,
          2010,
          2011,
          2012,
          2013,
          2014,
          2015,
          2016,
          2017,
          2018,
          2019
         ],
         "xaxis": "x",
         "y": [
          0.972,
          0.9430000000000001,
          0.972,
          0.964,
          0.97,
          0.971,
          0.975,
          0.978,
          0.975,
          0.974,
          0.978,
          0.978,
          0.982
         ],
         "yaxis": "y"
        },
        {
         "hovertemplate": "Country=Australia<br>Year=%{x}<br>GDI=%{y}<extra></extra>",
         "legendgroup": "Australia",
         "marker": {
          "color": "#FF6692",
          "symbol": "circle"
         },
         "mode": "markers",
         "name": "Australia",
         "showlegend": true,
         "type": "scattergl",
         "x": [
          1995,
          2000,
          2005,
          2010,
          2011,
          2012,
          2013,
          2014,
          2015,
          2016,
          2017,
          2018,
          2019
         ],
         "xaxis": "x",
         "y": [
          0.964,
          0.961,
          0.97,
          0.976,
          0.976,
          0.976,
          0.975,
          0.975,
          0.975,
          0.975,
          0.976,
          0.976,
          0.976
         ],
         "yaxis": "y"
        },
        {
         "hovertemplate": "Country=Austria<br>Year=%{x}<br>GDI=%{y}<extra></extra>",
         "legendgroup": "Austria",
         "marker": {
          "color": "#B6E880",
          "symbol": "circle"
         },
         "mode": "markers",
         "name": "Austria",
         "showlegend": true,
         "type": "scattergl",
         "x": [
          1995,
          2000,
          2005,
          2010,
          2011,
          2012,
          2013,
          2014,
          2015,
          2016,
          2017,
          2018,
          2019
         ],
         "xaxis": "x",
         "y": [
          0.936,
          0.934,
          0.9380000000000001,
          0.97,
          0.961,
          0.962,
          0.963,
          0.972,
          0.965,
          0.964,
          0.965,
          0.966,
          0.964
         ],
         "yaxis": "y"
        },
        {
         "hovertemplate": "Country=Azerbaijan<br>Year=%{x}<br>GDI=%{y}<extra></extra>",
         "legendgroup": "Azerbaijan",
         "marker": {
          "color": "#FF97FF",
          "symbol": "circle"
         },
         "mode": "markers",
         "name": "Azerbaijan",
         "showlegend": true,
         "type": "scattergl",
         "x": [
          1995,
          2000,
          2005,
          2010,
          2011,
          2012,
          2013,
          2014,
          2015,
          2016,
          2017,
          2018,
          2019
         ],
         "xaxis": "x",
         "y": [
          0.965,
          0.9490000000000001,
          0.92,
          0.9470000000000001,
          0.9420000000000001,
          0.935,
          0.934,
          0.9440000000000001,
          0.9430000000000001,
          0.9380000000000001,
          0.9390000000000001,
          0.9390000000000001,
          0.9430000000000001
         ],
         "yaxis": "y"
        },
        {
         "hovertemplate": "Country=Burundi<br>Year=%{x}<br>GDI=%{y}<extra></extra>",
         "legendgroup": "Burundi",
         "marker": {
          "color": "#FECB52",
          "symbol": "circle"
         },
         "mode": "markers",
         "name": "Burundi",
         "showlegend": true,
         "type": "scattergl",
         "x": [
          1995,
          2000,
          2005,
          2010,
          2011,
          2012,
          2013,
          2014,
          2015,
          2016,
          2017,
          2018,
          2019
         ],
         "xaxis": "x",
         "y": [
          0.8290000000000001,
          0.834,
          0.852,
          0.911,
          0.98,
          0.984,
          0.986,
          0.987,
          0.991,
          0.992,
          0.995,
          0.996,
          0.999
         ],
         "yaxis": "y"
        },
        {
         "hovertemplate": "Country=Belgium<br>Year=%{x}<br>GDI=%{y}<extra></extra>",
         "legendgroup": "Belgium",
         "marker": {
          "color": "#636efa",
          "symbol": "circle"
         },
         "mode": "markers",
         "name": "Belgium",
         "showlegend": true,
         "type": "scattergl",
         "x": [
          1995,
          2000,
          2005,
          2010,
          2011,
          2012,
          2013,
          2014,
          2015,
          2016,
          2017,
          2018,
          2019
         ],
         "xaxis": "x",
         "y": [
          0.968,
          0.973,
          0.967,
          0.971,
          0.971,
          0.97,
          0.972,
          0.971,
          0.973,
          0.973,
          0.972,
          0.973,
          0.974
         ],
         "yaxis": "y"
        },
        {
         "hovertemplate": "Country=Benin<br>Year=%{x}<br>GDI=%{y}<extra></extra>",
         "legendgroup": "Benin",
         "marker": {
          "color": "#EF553B",
          "symbol": "circle"
         },
         "mode": "markers",
         "name": "Benin",
         "showlegend": true,
         "type": "scattergl",
         "x": [
          1995,
          2000,
          2005,
          2010,
          2011,
          2012,
          2013,
          2014,
          2015,
          2016,
          2017,
          2018,
          2019
         ],
         "xaxis": "x",
         "y": [
          0.733,
          0.755,
          0.794,
          0.8280000000000001,
          0.8290000000000001,
          0.833,
          0.84,
          0.842,
          0.86,
          0.859,
          0.845,
          0.855,
          0.855
         ],
         "yaxis": "y"
        },
        {
         "hovertemplate": "Country=Burkina Faso<br>Year=%{x}<br>GDI=%{y}<extra></extra>",
         "legendgroup": "Burkina Faso",
         "marker": {
          "color": "#00cc96",
          "symbol": "circle"
         },
         "mode": "markers",
         "name": "Burkina Faso",
         "showlegend": true,
         "type": "scattergl",
         "x": [
          2005,
          2010,
          2011,
          2012,
          2013,
          2014,
          2015,
          2016,
          2017,
          2018,
          2019
         ],
         "xaxis": "x",
         "y": [
          0.792,
          0.833,
          0.839,
          0.848,
          0.856,
          0.863,
          0.868,
          0.872,
          0.874,
          0.865,
          0.867
         ],
         "yaxis": "y"
        },
        {
         "hovertemplate": "Country=Bangladesh<br>Year=%{x}<br>GDI=%{y}<extra></extra>",
         "legendgroup": "Bangladesh",
         "marker": {
          "color": "#ab63fa",
          "symbol": "circle"
         },
         "mode": "markers",
         "name": "Bangladesh",
         "showlegend": true,
         "type": "scattergl",
         "x": [
          1995,
          2000,
          2005,
          2010,
          2011,
          2012,
          2013,
          2014,
          2015,
          2016,
          2017,
          2018,
          2019
         ],
         "xaxis": "x",
         "y": [
          0.711,
          0.765,
          0.801,
          0.848,
          0.838,
          0.845,
          0.866,
          0.877,
          0.885,
          0.891,
          0.895,
          0.896,
          0.904
         ],
         "yaxis": "y"
        },
        {
         "hovertemplate": "Country=Bulgaria<br>Year=%{x}<br>GDI=%{y}<extra></extra>",
         "legendgroup": "Bulgaria",
         "marker": {
          "color": "#FFA15A",
          "symbol": "circle"
         },
         "mode": "markers",
         "name": "Bulgaria",
         "showlegend": true,
         "type": "scattergl",
         "x": [
          1995,
          2000,
          2005,
          2010,
          2011,
          2012,
          2013,
          2014,
          2015,
          2016,
          2017,
          2018,
          2019
         ],
         "xaxis": "x",
         "y": [
          0.993,
          0.974,
          0.976,
          0.992,
          0.992,
          0.992,
          0.992,
          0.993,
          0.994,
          0.995,
          0.995,
          0.994,
          0.995
         ],
         "yaxis": "y"
        },
        {
         "hovertemplate": "Country=Bahrain<br>Year=%{x}<br>GDI=%{y}<extra></extra>",
         "legendgroup": "Bahrain",
         "marker": {
          "color": "#19d3f3",
          "symbol": "circle"
         },
         "mode": "markers",
         "name": "Bahrain",
         "showlegend": true,
         "type": "scattergl",
         "x": [
          1995,
          2000,
          2005,
          2010,
          2011,
          2012,
          2013,
          2014,
          2015,
          2016,
          2017,
          2018,
          2019
         ],
         "xaxis": "x",
         "y": [
          0.932,
          0.9400000000000001,
          0.968,
          0.973,
          0.971,
          0.9440000000000001,
          0.9460000000000001,
          0.9440000000000001,
          0.9380000000000001,
          0.933,
          0.936,
          0.936,
          0.922
         ],
         "yaxis": "y"
        },
        {
         "hovertemplate": "Country=Bahamas<br>Year=%{x}<br>GDI=%{y}<extra></extra>",
         "legendgroup": "Bahamas",
         "marker": {
          "color": "#FF6692",
          "symbol": "circle"
         },
         "mode": "markers",
         "name": "Bahamas",
         "showlegend": true,
         "type": "scattergl",
         "x": [
          2000
         ],
         "xaxis": "x",
         "y": [
          1.003
         ],
         "yaxis": "y"
        },
        {
         "hovertemplate": "Country=Bosnia and Herzegovina<br>Year=%{x}<br>GDI=%{y}<extra></extra>",
         "legendgroup": "Bosnia and Herzegovina",
         "marker": {
          "color": "#B6E880",
          "symbol": "circle"
         },
         "mode": "markers",
         "name": "Bosnia and Herzegovina",
         "showlegend": true,
         "type": "scattergl",
         "x": [
          2005,
          2010,
          2011,
          2012,
          2013,
          2014,
          2015,
          2016,
          2017,
          2018,
          2019
         ],
         "xaxis": "x",
         "y": [
          0.914,
          0.934,
          0.936,
          0.919,
          0.917,
          0.92,
          0.926,
          0.929,
          0.931,
          0.932,
          0.937
         ],
         "yaxis": "y"
        },
        {
         "hovertemplate": "Country=Belarus<br>Year=%{x}<br>GDI=%{y}<extra></extra>",
         "legendgroup": "Belarus",
         "marker": {
          "color": "#FF97FF",
          "symbol": "circle"
         },
         "mode": "markers",
         "name": "Belarus",
         "showlegend": true,
         "type": "scattergl",
         "x": [
          1995,
          2000,
          2005,
          2010,
          2011,
          2012,
          2013,
          2014,
          2015,
          2016,
          2017,
          2018,
          2019
         ],
         "xaxis": "x",
         "y": [
          1.014,
          1.023,
          1.028,
          1.026,
          1.022,
          1.021,
          1.019,
          1.018,
          1.015,
          1.014,
          1.013,
          1.009,
          1.007
         ],
         "yaxis": "y"
        },
        {
         "hovertemplate": "Country=Belize<br>Year=%{x}<br>GDI=%{y}<extra></extra>",
         "legendgroup": "Belize",
         "marker": {
          "color": "#FECB52",
          "symbol": "circle"
         },
         "mode": "markers",
         "name": "Belize",
         "showlegend": true,
         "type": "scattergl",
         "x": [
          2000,
          2005,
          2010,
          2011,
          2012,
          2013,
          2014,
          2015,
          2016,
          2017,
          2018,
          2019
         ],
         "xaxis": "x",
         "y": [
          0.929,
          0.9400000000000001,
          0.9500000000000001,
          0.9510000000000001,
          0.963,
          0.963,
          0.964,
          0.967,
          0.974,
          0.974,
          0.977,
          0.976
         ],
         "yaxis": "y"
        },
        {
         "hovertemplate": "Country=Bolivia (Plurinational State of)<br>Year=%{x}<br>GDI=%{y}<extra></extra>",
         "legendgroup": "Bolivia (Plurinational State of)",
         "marker": {
          "color": "#636efa",
          "symbol": "circle"
         },
         "mode": "markers",
         "name": "Bolivia (Plurinational State of)",
         "showlegend": true,
         "type": "scattergl",
         "x": [
          2005,
          2010,
          2011,
          2012,
          2013,
          2014,
          2015,
          2016,
          2017,
          2018,
          2019
         ],
         "xaxis": "x",
         "y": [
          0.918,
          0.92,
          0.924,
          0.923,
          0.926,
          0.93,
          0.931,
          0.931,
          0.9400000000000001,
          0.9450000000000001,
          0.9450000000000001
         ],
         "yaxis": "y"
        },
        {
         "hovertemplate": "Country=Brazil<br>Year=%{x}<br>GDI=%{y}<extra></extra>",
         "legendgroup": "Brazil",
         "marker": {
          "color": "#EF553B",
          "symbol": "circle"
         },
         "mode": "markers",
         "name": "Brazil",
         "showlegend": true,
         "type": "scattergl",
         "x": [
          2000,
          2005,
          2010,
          2011,
          2012,
          2013,
          2014,
          2015,
          2016,
          2017,
          2018,
          2019
         ],
         "xaxis": "x",
         "y": [
          0.986,
          0.988,
          1.001,
          0.992,
          0.995,
          0.995,
          0.995,
          0.996,
          0.996,
          0.995,
          0.995,
          0.993
         ],
         "yaxis": "y"
        },
        {
         "hovertemplate": "Country=Barbados<br>Year=%{x}<br>GDI=%{y}<extra></extra>",
         "legendgroup": "Barbados",
         "marker": {
          "color": "#00cc96",
          "symbol": "circle"
         },
         "mode": "markers",
         "name": "Barbados",
         "showlegend": true,
         "type": "scattergl",
         "x": [
          1995,
          2000,
          2005,
          2010,
          2011,
          2012,
          2013,
          2014,
          2015,
          2016,
          2017,
          2018,
          2019
         ],
         "xaxis": "x",
         "y": [
          0.971,
          0.989,
          0.992,
          1.009,
          1.009,
          1.008,
          1.008,
          1.01,
          1.009,
          1.009,
          1.009,
          1.008,
          1.008
         ],
         "yaxis": "y"
        },
        {
         "hovertemplate": "Country=Brunei Darussalam<br>Year=%{x}<br>GDI=%{y}<extra></extra>",
         "legendgroup": "Brunei Darussalam",
         "marker": {
          "color": "#ab63fa",
          "symbol": "circle"
         },
         "mode": "markers",
         "name": "Brunei Darussalam",
         "showlegend": true,
         "type": "scattergl",
         "x": [
          1995,
          2000,
          2005,
          2010,
          2011,
          2012,
          2013,
          2014,
          2015,
          2016,
          2017,
          2018,
          2019
         ],
         "xaxis": "x",
         "y": [
          0.9520000000000001,
          0.9570000000000001,
          0.9560000000000001,
          0.962,
          0.968,
          0.972,
          0.975,
          0.976,
          0.978,
          0.978,
          0.978,
          0.978,
          0.981
         ],
         "yaxis": "y"
        },
        {
         "hovertemplate": "Country=Bhutan<br>Year=%{x}<br>GDI=%{y}<extra></extra>",
         "legendgroup": "Bhutan",
         "marker": {
          "color": "#FFA15A",
          "symbol": "circle"
         },
         "mode": "markers",
         "name": "Bhutan",
         "showlegend": true,
         "type": "scattergl",
         "x": [
          2005,
          2010,
          2011,
          2012,
          2013,
          2014,
          2015,
          2016,
          2017,
          2018,
          2019
         ],
         "xaxis": "x",
         "y": [
          0.872,
          0.903,
          0.906,
          0.913,
          0.903,
          0.901,
          0.906,
          0.908,
          0.909,
          0.91,
          0.921
         ],
         "yaxis": "y"
        },
        {
         "hovertemplate": "Country=Botswana<br>Year=%{x}<br>GDI=%{y}<extra></extra>",
         "legendgroup": "Botswana",
         "marker": {
          "color": "#19d3f3",
          "symbol": "circle"
         },
         "mode": "markers",
         "name": "Botswana",
         "showlegend": true,
         "type": "scattergl",
         "x": [
          1995,
          2000,
          2005,
          2010,
          2011,
          2012,
          2013,
          2014,
          2015,
          2016,
          2017,
          2018,
          2019
         ],
         "xaxis": "x",
         "y": [
          0.996,
          0.974,
          0.9560000000000001,
          0.977,
          0.981,
          0.982,
          0.99,
          0.992,
          0.993,
          0.994,
          0.995,
          0.995,
          0.998
         ],
         "yaxis": "y"
        },
        {
         "hovertemplate": "Country=Central African Republic<br>Year=%{x}<br>GDI=%{y}<extra></extra>",
         "legendgroup": "Central African Republic",
         "marker": {
          "color": "#FF6692",
          "symbol": "circle"
         },
         "mode": "markers",
         "name": "Central African Republic",
         "showlegend": true,
         "type": "scattergl",
         "x": [
          1995,
          2000,
          2005,
          2010,
          2011,
          2012,
          2013,
          2014,
          2015,
          2016,
          2017,
          2018,
          2019
         ],
         "xaxis": "x",
         "y": [
          0.741,
          0.744,
          0.748,
          0.758,
          0.765,
          0.772,
          0.769,
          0.776,
          0.784,
          0.793,
          0.797,
          0.8,
          0.801
         ],
         "yaxis": "y"
        },
        {
         "hovertemplate": "Country=Canada<br>Year=%{x}<br>GDI=%{y}<extra></extra>",
         "legendgroup": "Canada",
         "marker": {
          "color": "#B6E880",
          "symbol": "circle"
         },
         "mode": "markers",
         "name": "Canada",
         "showlegend": true,
         "type": "scattergl",
         "x": [
          1995,
          2000,
          2005,
          2010,
          2011,
          2012,
          2013,
          2014,
          2015,
          2016,
          2017,
          2018,
          2019
         ],
         "xaxis": "x",
         "y": [
          0.974,
          0.977,
          0.986,
          0.988,
          0.988,
          0.988,
          0.989,
          0.989,
          0.989,
          0.99,
          0.99,
          0.99,
          0.986
         ],
         "yaxis": "y"
        },
        {
         "hovertemplate": "Country=Switzerland<br>Year=%{x}<br>GDI=%{y}<extra></extra>",
         "legendgroup": "Switzerland",
         "marker": {
          "color": "#FF97FF",
          "symbol": "circle"
         },
         "mode": "markers",
         "name": "Switzerland",
         "showlegend": true,
         "type": "scattergl",
         "x": [
          1995,
          2000,
          2005,
          2010,
          2011,
          2012,
          2013,
          2014,
          2015,
          2016,
          2017,
          2018,
          2019
         ],
         "xaxis": "x",
         "y": [
          0.9410000000000001,
          0.9520000000000001,
          0.9590000000000001,
          0.966,
          0.964,
          0.967,
          0.968,
          0.969,
          0.969,
          0.968,
          0.967,
          0.968,
          0.968
         ],
         "yaxis": "y"
        },
        {
         "hovertemplate": "Country=Chile<br>Year=%{x}<br>GDI=%{y}<extra></extra>",
         "legendgroup": "Chile",
         "marker": {
          "color": "#FECB52",
          "symbol": "circle"
         },
         "mode": "markers",
         "name": "Chile",
         "showlegend": true,
         "type": "scattergl",
         "x": [
          1995,
          2000,
          2005,
          2010,
          2011,
          2012,
          2013,
          2014,
          2015,
          2016,
          2017,
          2018,
          2019
         ],
         "xaxis": "x",
         "y": [
          0.927,
          0.934,
          0.9450000000000001,
          0.96,
          0.962,
          0.963,
          0.961,
          0.961,
          0.963,
          0.963,
          0.963,
          0.964,
          0.963
         ],
         "yaxis": "y"
        },
        {
         "hovertemplate": "Country=China<br>Year=%{x}<br>GDI=%{y}<extra></extra>",
         "legendgroup": "China",
         "marker": {
          "color": "#636efa",
          "symbol": "circle"
         },
         "mode": "markers",
         "name": "China",
         "showlegend": true,
         "type": "scattergl",
         "x": [
          1995,
          2000,
          2005,
          2010,
          2011,
          2012,
          2013,
          2014,
          2015,
          2016,
          2017,
          2018,
          2019
         ],
         "xaxis": "x",
         "y": [
          0.912,
          0.913,
          0.928,
          0.9450000000000001,
          0.9480000000000001,
          0.9520000000000001,
          0.9570000000000001,
          0.9590000000000001,
          0.9580000000000001,
          0.9590000000000001,
          0.96,
          0.9590000000000001,
          0.9570000000000001
         ],
         "yaxis": "y"
        },
        {
         "hovertemplate": "Country=Cote d'Ivoire<br>Year=%{x}<br>GDI=%{y}<extra></extra>",
         "legendgroup": "Cote d'Ivoire",
         "marker": {
          "color": "#EF553B",
          "symbol": "circle"
         },
         "mode": "markers",
         "name": "Cote d'Ivoire",
         "showlegend": true,
         "type": "scattergl",
         "x": [
          1995,
          2000,
          2005,
          2010,
          2011,
          2012,
          2013,
          2014,
          2015,
          2016,
          2017,
          2018,
          2019
         ],
         "xaxis": "x",
         "y": [
          0.754,
          0.766,
          0.782,
          0.76,
          0.762,
          0.778,
          0.8150000000000001,
          0.787,
          0.795,
          0.799,
          0.842,
          0.804,
          0.811
         ],
         "yaxis": "y"
        },
        {
         "hovertemplate": "Country=Cameroon<br>Year=%{x}<br>GDI=%{y}<extra></extra>",
         "legendgroup": "Cameroon",
         "marker": {
          "color": "#00cc96",
          "symbol": "circle"
         },
         "mode": "markers",
         "name": "Cameroon",
         "showlegend": true,
         "type": "scattergl",
         "x": [
          2000,
          2005,
          2010,
          2011,
          2012,
          2013,
          2014,
          2015,
          2016,
          2017,
          2018,
          2019
         ],
         "xaxis": "x",
         "y": [
          0.863,
          0.843,
          0.854,
          0.861,
          0.865,
          0.866,
          0.835,
          0.868,
          0.867,
          0.869,
          0.87,
          0.864
         ],
         "yaxis": "y"
        },
        {
         "hovertemplate": "Country=Congo (Democratic Republic of the)<br>Year=%{x}<br>GDI=%{y}<extra></extra>",
         "legendgroup": "Congo (Democratic Republic of the)",
         "marker": {
          "color": "#ab63fa",
          "symbol": "circle"
         },
         "mode": "markers",
         "name": "Congo (Democratic Republic of the)",
         "showlegend": true,
         "type": "scattergl",
         "x": [
          2005,
          2010,
          2011,
          2012,
          2013,
          2014,
          2015,
          2016,
          2017,
          2018,
          2019
         ],
         "xaxis": "x",
         "y": [
          0.8130000000000001,
          0.8200000000000001,
          0.8220000000000001,
          0.8260000000000001,
          0.8220000000000001,
          0.8160000000000001,
          0.8290000000000001,
          0.841,
          0.848,
          0.849,
          0.845
         ],
         "yaxis": "y"
        },
        {
         "hovertemplate": "Country=Congo<br>Year=%{x}<br>GDI=%{y}<extra></extra>",
         "legendgroup": "Congo",
         "marker": {
          "color": "#FFA15A",
          "symbol": "circle"
         },
         "mode": "markers",
         "name": "Congo",
         "showlegend": true,
         "type": "scattergl",
         "x": [
          1995,
          2000,
          2005,
          2010,
          2011,
          2012,
          2013,
          2014,
          2015,
          2016,
          2017,
          2018,
          2019
         ],
         "xaxis": "x",
         "y": [
          0.881,
          0.88,
          0.878,
          0.914,
          0.916,
          0.92,
          0.922,
          0.924,
          0.927,
          0.928,
          0.928,
          0.928,
          0.929
         ],
         "yaxis": "y"
        },
        {
         "hovertemplate": "Country=Colombia<br>Year=%{x}<br>GDI=%{y}<extra></extra>",
         "legendgroup": "Colombia",
         "marker": {
          "color": "#19d3f3",
          "symbol": "circle"
         },
         "mode": "markers",
         "name": "Colombia",
         "showlegend": true,
         "type": "scattergl",
         "x": [
          1995,
          2000,
          2005,
          2010,
          2011,
          2012,
          2013,
          2014,
          2015,
          2016,
          2017,
          2018,
          2019
         ],
         "xaxis": "x",
         "y": [
          0.965,
          0.974,
          0.971,
          0.986,
          0.985,
          0.986,
          0.988,
          0.984,
          0.987,
          0.989,
          0.989,
          0.99,
          0.989
         ],
         "yaxis": "y"
        },
        {
         "hovertemplate": "Country=Comoros<br>Year=%{x}<br>GDI=%{y}<extra></extra>",
         "legendgroup": "Comoros",
         "marker": {
          "color": "#FF6692",
          "symbol": "circle"
         },
         "mode": "markers",
         "name": "Comoros",
         "showlegend": true,
         "type": "scattergl",
         "x": [
          2000,
          2005,
          2010,
          2011,
          2012,
          2013,
          2014,
          2015,
          2016,
          2017,
          2018,
          2019
         ],
         "xaxis": "x",
         "y": [
          0.839,
          0.851,
          0.876,
          0.879,
          0.882,
          0.886,
          0.904,
          0.888,
          0.889,
          0.889,
          0.89,
          0.891
         ],
         "yaxis": "y"
        },
        {
         "hovertemplate": "Country=Cabo Verde<br>Year=%{x}<br>GDI=%{y}<extra></extra>",
         "legendgroup": "Cabo Verde",
         "marker": {
          "color": "#B6E880",
          "symbol": "circle"
         },
         "mode": "markers",
         "name": "Cabo Verde",
         "showlegend": true,
         "type": "scattergl",
         "x": [
          2000,
          2005,
          2010,
          2011,
          2012,
          2013,
          2014,
          2015,
          2016,
          2017,
          2018,
          2019
         ],
         "xaxis": "x",
         "y": [
          0.935,
          0.96,
          0.962,
          0.96,
          0.97,
          0.971,
          0.971,
          0.98,
          0.97,
          0.971,
          0.972,
          0.974
         ],
         "yaxis": "y"
        },
        {
         "hovertemplate": "Country=Costa Rica<br>Year=%{x}<br>GDI=%{y}<extra></extra>",
         "legendgroup": "Costa Rica",
         "marker": {
          "color": "#FF97FF",
          "symbol": "circle"
         },
         "mode": "markers",
         "name": "Costa Rica",
         "showlegend": true,
         "type": "scattergl",
         "x": [
          2000,
          2005,
          2010,
          2011,
          2012,
          2013,
          2014,
          2015,
          2016,
          2017,
          2018,
          2019
         ],
         "xaxis": "x",
         "y": [
          0.9430000000000001,
          0.966,
          0.967,
          0.973,
          0.979,
          0.98,
          0.979,
          0.982,
          0.979,
          0.978,
          0.981,
          0.981
         ],
         "yaxis": "y"
        },
        {
         "hovertemplate": "Country=Cuba<br>Year=%{x}<br>GDI=%{y}<extra></extra>",
         "legendgroup": "Cuba",
         "marker": {
          "color": "#FECB52",
          "symbol": "circle"
         },
         "mode": "markers",
         "name": "Cuba",
         "showlegend": true,
         "type": "scattergl",
         "x": [
          1995,
          2000,
          2005,
          2010,
          2011,
          2012,
          2013,
          2014,
          2015,
          2016,
          2017,
          2018,
          2019
         ],
         "xaxis": "x",
         "y": [
          0.918,
          0.915,
          0.9450000000000001,
          0.967,
          0.964,
          0.9590000000000001,
          0.9590000000000001,
          0.9520000000000001,
          0.9510000000000001,
          0.9520000000000001,
          0.9500000000000001,
          0.9530000000000001,
          0.9440000000000001
         ],
         "yaxis": "y"
        },
        {
         "hovertemplate": "Country=Cyprus<br>Year=%{x}<br>GDI=%{y}<extra></extra>",
         "legendgroup": "Cyprus",
         "marker": {
          "color": "#636efa",
          "symbol": "circle"
         },
         "mode": "markers",
         "name": "Cyprus",
         "showlegend": true,
         "type": "scattergl",
         "x": [
          1995,
          2000,
          2005,
          2010,
          2011,
          2012,
          2013,
          2014,
          2015,
          2016,
          2017,
          2018,
          2019
         ],
         "xaxis": "x",
         "y": [
          0.935,
          0.9480000000000001,
          0.9550000000000001,
          0.962,
          0.97,
          0.974,
          0.976,
          0.98,
          0.985,
          0.985,
          0.984,
          0.983,
          0.979
         ],
         "yaxis": "y"
        },
        {
         "hovertemplate": "Country=Czechia<br>Year=%{x}<br>GDI=%{y}<extra></extra>",
         "legendgroup": "Czechia",
         "marker": {
          "color": "#EF553B",
          "symbol": "circle"
         },
         "mode": "markers",
         "name": "Czechia",
         "showlegend": true,
         "type": "scattergl",
         "x": [
          1995,
          2000,
          2005,
          2010,
          2011,
          2012,
          2013,
          2014,
          2015,
          2016,
          2017,
          2018,
          2019
         ],
         "xaxis": "x",
         "y": [
          0.973,
          0.971,
          0.974,
          0.976,
          0.979,
          0.981,
          0.985,
          0.983,
          0.984,
          0.985,
          0.985,
          0.985,
          0.985
         ],
         "yaxis": "y"
        },
        {
         "hovertemplate": "Country=Germany<br>Year=%{x}<br>GDI=%{y}<extra></extra>",
         "legendgroup": "Germany",
         "marker": {
          "color": "#00cc96",
          "symbol": "circle"
         },
         "mode": "markers",
         "name": "Germany",
         "showlegend": true,
         "type": "scattergl",
         "x": [
          1995,
          2000,
          2005,
          2010,
          2011,
          2012,
          2013,
          2014,
          2015,
          2016,
          2017,
          2018,
          2019
         ],
         "xaxis": "x",
         "y": [
          0.9440000000000001,
          0.9430000000000001,
          0.9570000000000001,
          0.96,
          0.963,
          0.963,
          0.966,
          0.964,
          0.968,
          0.969,
          0.969,
          0.968,
          0.972
         ],
         "yaxis": "y"
        },
        {
         "hovertemplate": "Country=Denmark<br>Year=%{x}<br>GDI=%{y}<extra></extra>",
         "legendgroup": "Denmark",
         "marker": {
          "color": "#ab63fa",
          "symbol": "circle"
         },
         "mode": "markers",
         "name": "Denmark",
         "showlegend": true,
         "type": "scattergl",
         "x": [
          1995,
          2000,
          2005,
          2010,
          2011,
          2012,
          2013,
          2014,
          2015,
          2016,
          2017,
          2018,
          2019
         ],
         "xaxis": "x",
         "y": [
          0.963,
          0.988,
          0.989,
          0.991,
          0.983,
          0.982,
          0.978,
          0.974,
          0.98,
          0.981,
          0.981,
          0.981,
          0.983
         ],
         "yaxis": "y"
        },
        {
         "hovertemplate": "Country=Dominican Republic<br>Year=%{x}<br>GDI=%{y}<extra></extra>",
         "legendgroup": "Dominican Republic",
         "marker": {
          "color": "#FFA15A",
          "symbol": "circle"
         },
         "mode": "markers",
         "name": "Dominican Republic",
         "showlegend": true,
         "type": "scattergl",
         "x": [
          2010,
          2011,
          2012,
          2013,
          2014,
          2015,
          2016,
          2017,
          2018,
          2019
         ],
         "xaxis": "x",
         "y": [
          0.979,
          0.985,
          0.991,
          0.99,
          0.99,
          0.99,
          0.987,
          1,
          0.999,
          0.999
         ],
         "yaxis": "y"
        },
        {
         "hovertemplate": "Country=Algeria<br>Year=%{x}<br>GDI=%{y}<extra></extra>",
         "legendgroup": "Algeria",
         "marker": {
          "color": "#19d3f3",
          "symbol": "circle"
         },
         "mode": "markers",
         "name": "Algeria",
         "showlegend": true,
         "type": "scattergl",
         "x": [
          2000,
          2005,
          2010,
          2011,
          2012,
          2013,
          2014,
          2015,
          2016,
          2017,
          2018,
          2019
         ],
         "xaxis": "x",
         "y": [
          0.777,
          0.801,
          0.8300000000000001,
          0.834,
          0.836,
          0.839,
          0.836,
          0.854,
          0.855,
          0.861,
          0.86,
          0.858
         ],
         "yaxis": "y"
        },
        {
         "hovertemplate": "Country=Ecuador<br>Year=%{x}<br>GDI=%{y}<extra></extra>",
         "legendgroup": "Ecuador",
         "marker": {
          "color": "#FF6692",
          "symbol": "circle"
         },
         "mode": "markers",
         "name": "Ecuador",
         "showlegend": true,
         "type": "scattergl",
         "x": [
          2010,
          2011,
          2012,
          2013,
          2014,
          2015,
          2016,
          2017,
          2018,
          2019
         ],
         "xaxis": "x",
         "y": [
          0.9590000000000001,
          0.9590000000000001,
          0.961,
          0.965,
          0.968,
          0.976,
          0.98,
          0.981,
          0.979,
          0.967
         ],
         "yaxis": "y"
        },
        {
         "hovertemplate": "Country=Egypt<br>Year=%{x}<br>GDI=%{y}<extra></extra>",
         "legendgroup": "Egypt",
         "marker": {
          "color": "#B6E880",
          "symbol": "circle"
         },
         "mode": "markers",
         "name": "Egypt",
         "showlegend": true,
         "type": "scattergl",
         "x": [
          1995,
          2000,
          2005,
          2010,
          2011,
          2012,
          2013,
          2014,
          2015,
          2016,
          2017,
          2018,
          2019
         ],
         "xaxis": "x",
         "y": [
          0.798,
          0.808,
          0.8260000000000001,
          0.843,
          0.855,
          0.866,
          0.871,
          0.875,
          0.878,
          0.882,
          0.885,
          0.88,
          0.882
         ],
         "yaxis": "y"
        },
        {
         "hovertemplate": "Country=Spain<br>Year=%{x}<br>GDI=%{y}<extra></extra>",
         "legendgroup": "Spain",
         "marker": {
          "color": "#FF97FF",
          "symbol": "circle"
         },
         "mode": "markers",
         "name": "Spain",
         "showlegend": true,
         "type": "scattergl",
         "x": [
          1995,
          2000,
          2005,
          2010,
          2011,
          2012,
          2013,
          2014,
          2015,
          2016,
          2017,
          2018,
          2019
         ],
         "xaxis": "x",
         "y": [
          0.964,
          0.968,
          0.975,
          0.98,
          0.98,
          0.98,
          0.98,
          0.978,
          0.979,
          0.981,
          0.98,
          0.981,
          0.986
         ],
         "yaxis": "y"
        },
        {
         "hovertemplate": "Country=Estonia<br>Year=%{x}<br>GDI=%{y}<extra></extra>",
         "legendgroup": "Estonia",
         "marker": {
          "color": "#FECB52",
          "symbol": "circle"
         },
         "mode": "markers",
         "name": "Estonia",
         "showlegend": true,
         "type": "scattergl",
         "x": [
          1995,
          2000,
          2005,
          2010,
          2011,
          2012,
          2013,
          2014,
          2015,
          2016,
          2017,
          2018,
          2019
         ],
         "xaxis": "x",
         "y": [
          1.016,
          1.033,
          1.04,
          1.029,
          1.026,
          1.024,
          1.021,
          1.019,
          1.019,
          1.017,
          1.017,
          1.016,
          1.017
         ],
         "yaxis": "y"
        },
        {
         "hovertemplate": "Country=Ethiopia<br>Year=%{x}<br>GDI=%{y}<extra></extra>",
         "legendgroup": "Ethiopia",
         "marker": {
          "color": "#636efa",
          "symbol": "circle"
         },
         "mode": "markers",
         "name": "Ethiopia",
         "showlegend": true,
         "type": "scattergl",
         "x": [
          2000,
          2005,
          2010,
          2011,
          2012,
          2013,
          2014,
          2015,
          2016,
          2017,
          2018,
          2019
         ],
         "xaxis": "x",
         "y": [
          0.747,
          0.766,
          0.8220000000000001,
          0.8260000000000001,
          0.8310000000000001,
          0.834,
          0.837,
          0.843,
          0.844,
          0.846,
          0.846,
          0.837
         ],
         "yaxis": "y"
        },
        {
         "hovertemplate": "Country=Finland<br>Year=%{x}<br>GDI=%{y}<extra></extra>",
         "legendgroup": "Finland",
         "marker": {
          "color": "#EF553B",
          "symbol": "circle"
         },
         "mode": "markers",
         "name": "Finland",
         "showlegend": true,
         "type": "scattergl",
         "x": [
          1995,
          2000,
          2005,
          2010,
          2011,
          2012,
          2013,
          2014,
          2015,
          2016,
          2017,
          2018,
          2019
         ],
         "xaxis": "x",
         "y": [
          1.003,
          0.997,
          1.001,
          1.006,
          1.003,
          1.006,
          0.989,
          0.99,
          0.991,
          0.991,
          0.99,
          0.99,
          0.99
         ],
         "yaxis": "y"
        },
        {
         "hovertemplate": "Country=Fiji<br>Year=%{x}<br>GDI=%{y}<extra></extra>",
         "legendgroup": "Fiji",
         "marker": {
          "color": "#00cc96",
          "symbol": "circle"
         },
         "mode": "markers",
         "name": "Fiji",
         "showlegend": true,
         "type": "scattergl",
         "x": [
          2000,
          2005
         ],
         "xaxis": "x",
         "y": [
          0.92,
          0.933
         ],
         "yaxis": "y"
        },
        {
         "hovertemplate": "Country=France<br>Year=%{x}<br>GDI=%{y}<extra></extra>",
         "legendgroup": "France",
         "marker": {
          "color": "#ab63fa",
          "symbol": "circle"
         },
         "mode": "markers",
         "name": "France",
         "showlegend": true,
         "type": "scattergl",
         "x": [
          1995,
          2000,
          2005,
          2010,
          2011,
          2012,
          2013,
          2014,
          2015,
          2016,
          2017,
          2018,
          2019
         ],
         "xaxis": "x",
         "y": [
          0.982,
          0.985,
          0.985,
          0.99,
          0.991,
          0.992,
          0.991,
          0.989,
          0.989,
          0.989,
          0.988,
          0.987,
          0.987
         ],
         "yaxis": "y"
        },
        {
         "hovertemplate": "Country=Gabon<br>Year=%{x}<br>GDI=%{y}<extra></extra>",
         "legendgroup": "Gabon",
         "marker": {
          "color": "#FFA15A",
          "symbol": "circle"
         },
         "mode": "markers",
         "name": "Gabon",
         "showlegend": true,
         "type": "scattergl",
         "x": [
          1995,
          2000,
          2005,
          2010,
          2011,
          2012,
          2013,
          2014,
          2015,
          2016,
          2017,
          2018,
          2019
         ],
         "xaxis": "x",
         "y": [
          0.9390000000000001,
          0.92,
          0.928,
          0.916,
          0.909,
          0.909,
          0.908,
          0.911,
          0.913,
          0.913,
          0.914,
          0.916,
          0.916
         ],
         "yaxis": "y"
        },
        {
         "hovertemplate": "Country=United Kingdom<br>Year=%{x}<br>GDI=%{y}<extra></extra>",
         "legendgroup": "United Kingdom",
         "marker": {
          "color": "#19d3f3",
          "symbol": "circle"
         },
         "mode": "markers",
         "name": "United Kingdom",
         "showlegend": true,
         "type": "scattergl",
         "x": [
          1995,
          2000,
          2005,
          2010,
          2011,
          2012,
          2013,
          2014,
          2015,
          2016,
          2017,
          2018,
          2019
         ],
         "xaxis": "x",
         "y": [
          0.965,
          0.973,
          0.98,
          0.965,
          0.965,
          0.965,
          0.965,
          0.963,
          0.968,
          0.967,
          0.968,
          0.968,
          0.97
         ],
         "yaxis": "y"
        },
        {
         "hovertemplate": "Country=Georgia<br>Year=%{x}<br>GDI=%{y}<extra></extra>",
         "legendgroup": "Georgia",
         "marker": {
          "color": "#FF6692",
          "symbol": "circle"
         },
         "mode": "markers",
         "name": "Georgia",
         "showlegend": true,
         "type": "scattergl",
         "x": [
          2000,
          2005,
          2010,
          2011,
          2012,
          2013,
          2014,
          2015,
          2016,
          2017,
          2018,
          2019
         ],
         "xaxis": "x",
         "y": [
          0.9520000000000001,
          0.9470000000000001,
          0.966,
          0.97,
          0.971,
          0.976,
          0.98,
          0.982,
          0.979,
          0.979,
          0.979,
          0.98
         ],
         "yaxis": "y"
        },
        {
         "hovertemplate": "Country=Ghana<br>Year=%{x}<br>GDI=%{y}<extra></extra>",
         "legendgroup": "Ghana",
         "marker": {
          "color": "#B6E880",
          "symbol": "circle"
         },
         "mode": "markers",
         "name": "Ghana",
         "showlegend": true,
         "type": "scattergl",
         "x": [
          1995,
          2000,
          2005,
          2010,
          2011,
          2012,
          2013,
          2014,
          2015,
          2016,
          2017,
          2018,
          2019
         ],
         "xaxis": "x",
         "y": [
          0.839,
          0.853,
          0.866,
          0.884,
          0.885,
          0.887,
          0.89,
          0.892,
          0.892,
          0.903,
          0.904,
          0.909,
          0.911
         ],
         "yaxis": "y"
        },
        {
         "hovertemplate": "Country=Guinea<br>Year=%{x}<br>GDI=%{y}<extra></extra>",
         "legendgroup": "Guinea",
         "marker": {
          "color": "#FF97FF",
          "symbol": "circle"
         },
         "mode": "markers",
         "name": "Guinea",
         "showlegend": true,
         "type": "scattergl",
         "x": [
          2000,
          2005,
          2010,
          2011,
          2012,
          2013,
          2014,
          2015,
          2016,
          2017,
          2018,
          2019
         ],
         "xaxis": "x",
         "y": [
          0.741,
          0.788,
          0.8170000000000001,
          0.8130000000000001,
          0.808,
          0.8130000000000001,
          0.8190000000000001,
          0.8170000000000001,
          0.8160000000000001,
          0.8160000000000001,
          0.8160000000000001,
          0.8170000000000001
         ],
         "yaxis": "y"
        },
        {
         "hovertemplate": "Country=Gambia<br>Year=%{x}<br>GDI=%{y}<extra></extra>",
         "legendgroup": "Gambia",
         "marker": {
          "color": "#FECB52",
          "symbol": "circle"
         },
         "mode": "markers",
         "name": "Gambia",
         "showlegend": true,
         "type": "scattergl",
         "x": [
          1995,
          2000,
          2005,
          2010,
          2011,
          2012,
          2013,
          2014,
          2015,
          2016,
          2017,
          2018,
          2019
         ],
         "xaxis": "x",
         "y": [
          0.769,
          0.81,
          0.849,
          0.8210000000000001,
          0.8180000000000001,
          0.8230000000000001,
          0.8270000000000001,
          0.8280000000000001,
          0.8280000000000001,
          0.8290000000000001,
          0.836,
          0.843,
          0.846
         ],
         "yaxis": "y"
        },
        {
         "hovertemplate": "Country=Greece<br>Year=%{x}<br>GDI=%{y}<extra></extra>",
         "legendgroup": "Greece",
         "marker": {
          "color": "#636efa",
          "symbol": "circle"
         },
         "mode": "markers",
         "name": "Greece",
         "showlegend": true,
         "type": "scattergl",
         "x": [
          1995,
          2000,
          2005,
          2010,
          2011,
          2012,
          2013,
          2014,
          2015,
          2016,
          2017,
          2018,
          2019
         ],
         "xaxis": "x",
         "y": [
          0.933,
          0.9480000000000001,
          0.962,
          0.961,
          0.964,
          0.964,
          0.963,
          0.961,
          0.963,
          0.963,
          0.964,
          0.964,
          0.963
         ],
         "yaxis": "y"
        },
        {
         "hovertemplate": "Country=Guatemala<br>Year=%{x}<br>GDI=%{y}<extra></extra>",
         "legendgroup": "Guatemala",
         "marker": {
          "color": "#EF553B",
          "symbol": "circle"
         },
         "mode": "markers",
         "name": "Guatemala",
         "showlegend": true,
         "type": "scattergl",
         "x": [
          2000,
          2005,
          2010,
          2011,
          2012,
          2013,
          2014,
          2015,
          2016,
          2017,
          2018,
          2019
         ],
         "xaxis": "x",
         "y": [
          0.895,
          0.905,
          0.913,
          0.907,
          0.924,
          0.924,
          0.9410000000000001,
          0.9480000000000001,
          0.9470000000000001,
          0.9430000000000001,
          0.9410000000000001,
          0.9410000000000001
         ],
         "yaxis": "y"
        },
        {
         "hovertemplate": "Country=Guyana<br>Year=%{x}<br>GDI=%{y}<extra></extra>",
         "legendgroup": "Guyana",
         "marker": {
          "color": "#00cc96",
          "symbol": "circle"
         },
         "mode": "markers",
         "name": "Guyana",
         "showlegend": true,
         "type": "scattergl",
         "x": [
          2000,
          2005,
          2010,
          2011,
          2012,
          2013,
          2014,
          2015,
          2016,
          2017,
          2018,
          2019
         ],
         "xaxis": "x",
         "y": [
          0.933,
          0.9530000000000001,
          0.9530000000000001,
          0.9550000000000001,
          0.9580000000000001,
          0.96,
          0.962,
          0.963,
          0.965,
          0.966,
          0.967,
          0.961
         ],
         "yaxis": "y"
        },
        {
         "hovertemplate": "Country=Hong Kong, China (SAR)<br>Year=%{x}<br>GDI=%{y}<extra></extra>",
         "legendgroup": "Hong Kong, China (SAR)",
         "marker": {
          "color": "#ab63fa",
          "symbol": "circle"
         },
         "mode": "markers",
         "name": "Hong Kong, China (SAR)",
         "showlegend": true,
         "type": "scattergl",
         "x": [
          2010,
          2011,
          2012,
          2013,
          2014,
          2015,
          2016,
          2017,
          2018,
          2019
         ],
         "xaxis": "x",
         "y": [
          0.966,
          0.964,
          0.966,
          0.967,
          0.966,
          0.965,
          0.964,
          0.967,
          0.967,
          0.972
         ],
         "yaxis": "y"
        },
        {
         "hovertemplate": "Country=Honduras<br>Year=%{x}<br>GDI=%{y}<extra></extra>",
         "legendgroup": "Honduras",
         "marker": {
          "color": "#FFA15A",
          "symbol": "circle"
         },
         "mode": "markers",
         "name": "Honduras",
         "showlegend": true,
         "type": "scattergl",
         "x": [
          1995,
          2000,
          2005,
          2010,
          2011,
          2012,
          2013,
          2014,
          2015,
          2016,
          2017,
          2018,
          2019
         ],
         "xaxis": "x",
         "y": [
          0.922,
          0.92,
          0.964,
          0.973,
          0.966,
          0.964,
          0.97,
          0.971,
          0.974,
          0.973,
          0.971,
          0.978,
          0.978
         ],
         "yaxis": "y"
        },
        {
         "hovertemplate": "Country=Croatia<br>Year=%{x}<br>GDI=%{y}<extra></extra>",
         "legendgroup": "Croatia",
         "marker": {
          "color": "#19d3f3",
          "symbol": "circle"
         },
         "mode": "markers",
         "name": "Croatia",
         "showlegend": true,
         "type": "scattergl",
         "x": [
          1995,
          2000,
          2005,
          2010,
          2011,
          2012,
          2013,
          2014,
          2015,
          2016,
          2017,
          2018,
          2019
         ],
         "xaxis": "x",
         "y": [
          0.935,
          0.965,
          0.984,
          0.989,
          0.985,
          0.985,
          0.988,
          0.988,
          0.987,
          0.986,
          0.989,
          0.99,
          0.99
         ],
         "yaxis": "y"
        },
        {
         "hovertemplate": "Country=Haiti<br>Year=%{x}<br>GDI=%{y}<extra></extra>",
         "legendgroup": "Haiti",
         "marker": {
          "color": "#FF6692",
          "symbol": "circle"
         },
         "mode": "markers",
         "name": "Haiti",
         "showlegend": true,
         "type": "scattergl",
         "x": [
          2010,
          2011,
          2012,
          2013,
          2014,
          2015,
          2016,
          2017,
          2018,
          2019
         ],
         "xaxis": "x",
         "y": [
          0.856,
          0.864,
          0.869,
          0.875,
          0.88,
          0.879,
          0.887,
          0.881,
          0.875,
          0.875
         ],
         "yaxis": "y"
        },
        {
         "hovertemplate": "Country=Hungary<br>Year=%{x}<br>GDI=%{y}<extra></extra>",
         "legendgroup": "Hungary",
         "marker": {
          "color": "#B6E880",
          "symbol": "circle"
         },
         "mode": "markers",
         "name": "Hungary",
         "showlegend": true,
         "type": "scattergl",
         "x": [
          1995,
          2000,
          2005,
          2010,
          2011,
          2012,
          2013,
          2014,
          2015,
          2016,
          2017,
          2018,
          2019
         ],
         "xaxis": "x",
         "y": [
          0.987,
          0.983,
          0.996,
          0.993,
          0.992,
          0.991,
          0.992,
          0.989,
          0.987,
          0.985,
          0.98,
          0.98,
          0.981
         ],
         "yaxis": "y"
        },
        {
         "hovertemplate": "Country=Indonesia<br>Year=%{x}<br>GDI=%{y}<extra></extra>",
         "legendgroup": "Indonesia",
         "marker": {
          "color": "#FF97FF",
          "symbol": "circle"
         },
         "mode": "markers",
         "name": "Indonesia",
         "showlegend": true,
         "type": "scattergl",
         "x": [
          1995,
          2000,
          2005,
          2010,
          2011,
          2012,
          2013,
          2014,
          2015,
          2016,
          2017,
          2018,
          2019
         ],
         "xaxis": "x",
         "y": [
          0.881,
          0.894,
          0.899,
          0.923,
          0.927,
          0.93,
          0.927,
          0.927,
          0.932,
          0.935,
          0.936,
          0.9380000000000001,
          0.9400000000000001
         ],
         "yaxis": "y"
        },
        {
         "hovertemplate": "Country=India<br>Year=%{x}<br>GDI=%{y}<extra></extra>",
         "legendgroup": "India",
         "marker": {
          "color": "#FECB52",
          "symbol": "circle"
         },
         "mode": "markers",
         "name": "India",
         "showlegend": true,
         "type": "scattergl",
         "x": [
          1995,
          2000,
          2005,
          2010,
          2011,
          2012,
          2013,
          2014,
          2015,
          2016,
          2017,
          2018,
          2019
         ],
         "xaxis": "x",
         "y": [
          0.7000000000000001,
          0.736,
          0.761,
          0.782,
          0.786,
          0.794,
          0.805,
          0.81,
          0.809,
          0.8150000000000001,
          0.8170000000000001,
          0.8180000000000001,
          0.8200000000000001
         ],
         "yaxis": "y"
        },
        {
         "hovertemplate": "Country=Ireland<br>Year=%{x}<br>GDI=%{y}<extra></extra>",
         "legendgroup": "Ireland",
         "marker": {
          "color": "#636efa",
          "symbol": "circle"
         },
         "mode": "markers",
         "name": "Ireland",
         "showlegend": true,
         "type": "scattergl",
         "x": [
          1995,
          2000,
          2005,
          2010,
          2011,
          2012,
          2013,
          2014,
          2015,
          2016,
          2017,
          2018,
          2019
         ],
         "xaxis": "x",
         "y": [
          0.964,
          0.979,
          0.98,
          0.976,
          0.976,
          0.978,
          0.98,
          0.982,
          0.978,
          0.976,
          0.976,
          0.978,
          0.981
         ],
         "yaxis": "y"
        },
        {
         "hovertemplate": "Country=Iran (Islamic Republic of)<br>Year=%{x}<br>GDI=%{y}<extra></extra>",
         "legendgroup": "Iran (Islamic Republic of)",
         "marker": {
          "color": "#EF553B",
          "symbol": "circle"
         },
         "mode": "markers",
         "name": "Iran (Islamic Republic of)",
         "showlegend": true,
         "type": "scattergl",
         "x": [
          1995,
          2000,
          2005,
          2010,
          2011,
          2012,
          2013,
          2014,
          2015,
          2016,
          2017,
          2018,
          2019
         ],
         "xaxis": "x",
         "y": [
          0.739,
          0.788,
          0.84,
          0.865,
          0.861,
          0.856,
          0.85,
          0.849,
          0.854,
          0.865,
          0.87,
          0.87,
          0.866
         ],
         "yaxis": "y"
        },
        {
         "hovertemplate": "Country=Iraq<br>Year=%{x}<br>GDI=%{y}<extra></extra>",
         "legendgroup": "Iraq",
         "marker": {
          "color": "#00cc96",
          "symbol": "circle"
         },
         "mode": "markers",
         "name": "Iraq",
         "showlegend": true,
         "type": "scattergl",
         "x": [
          1995,
          2000,
          2005,
          2010,
          2011,
          2012,
          2013,
          2014,
          2015,
          2016,
          2017,
          2018,
          2019
         ],
         "xaxis": "x",
         "y": [
          0.647,
          0.713,
          0.742,
          0.776,
          0.779,
          0.779,
          0.781,
          0.786,
          0.788,
          0.794,
          0.773,
          0.771,
          0.774
         ],
         "yaxis": "y"
        },
        {
         "hovertemplate": "Country=Iceland<br>Year=%{x}<br>GDI=%{y}<extra></extra>",
         "legendgroup": "Iceland",
         "marker": {
          "color": "#ab63fa",
          "symbol": "circle"
         },
         "mode": "markers",
         "name": "Iceland",
         "showlegend": true,
         "type": "scattergl",
         "x": [
          1995,
          2000,
          2005,
          2010,
          2011,
          2012,
          2013,
          2014,
          2015,
          2016,
          2017,
          2018,
          2019
         ],
         "xaxis": "x",
         "y": [
          0.982,
          0.993,
          0.984,
          0.983,
          0.982,
          0.979,
          0.978,
          0.967,
          0.968,
          0.967,
          0.968,
          0.969,
          0.969
         ],
         "yaxis": "y"
        },
        {
         "hovertemplate": "Country=Israel<br>Year=%{x}<br>GDI=%{y}<extra></extra>",
         "legendgroup": "Israel",
         "marker": {
          "color": "#FFA15A",
          "symbol": "circle"
         },
         "mode": "markers",
         "name": "Israel",
         "showlegend": true,
         "type": "scattergl",
         "x": [
          1995,
          2000,
          2005,
          2010,
          2011,
          2012,
          2013,
          2014,
          2015,
          2016,
          2017,
          2018,
          2019
         ],
         "xaxis": "x",
         "y": [
          0.962,
          0.976,
          0.978,
          0.97,
          0.97,
          0.972,
          0.972,
          0.972,
          0.974,
          0.973,
          0.973,
          0.973,
          0.973
         ],
         "yaxis": "y"
        },
        {
         "hovertemplate": "Country=Italy<br>Year=%{x}<br>GDI=%{y}<extra></extra>",
         "legendgroup": "Italy",
         "marker": {
          "color": "#19d3f3",
          "symbol": "circle"
         },
         "mode": "markers",
         "name": "Italy",
         "showlegend": true,
         "type": "scattergl",
         "x": [
          1995,
          2000,
          2005,
          2010,
          2011,
          2012,
          2013,
          2014,
          2015,
          2016,
          2017,
          2018,
          2019
         ],
         "xaxis": "x",
         "y": [
          0.9470000000000001,
          0.9530000000000001,
          0.962,
          0.971,
          0.972,
          0.973,
          0.97,
          0.969,
          0.968,
          0.968,
          0.969,
          0.969,
          0.968
         ],
         "yaxis": "y"
        },
        {
         "hovertemplate": "Country=Jamaica<br>Year=%{x}<br>GDI=%{y}<extra></extra>",
         "legendgroup": "Jamaica",
         "marker": {
          "color": "#FF6692",
          "symbol": "circle"
         },
         "mode": "markers",
         "name": "Jamaica",
         "showlegend": true,
         "type": "scattergl",
         "x": [
          1995,
          2000,
          2005,
          2010,
          2011,
          2012,
          2013,
          2014,
          2015,
          2016,
          2017,
          2018,
          2019
         ],
         "xaxis": "x",
         "y": [
          0.964,
          0.966,
          0.976,
          0.987,
          0.988,
          0.987,
          0.987,
          0.987,
          0.987,
          0.988,
          0.988,
          0.988,
          0.994
         ],
         "yaxis": "y"
        },
        {
         "hovertemplate": "Country=Jordan<br>Year=%{x}<br>GDI=%{y}<extra></extra>",
         "legendgroup": "Jordan",
         "marker": {
          "color": "#B6E880",
          "symbol": "circle"
         },
         "mode": "markers",
         "name": "Jordan",
         "showlegend": true,
         "type": "scattergl",
         "x": [
          1995,
          2000,
          2005,
          2010,
          2011,
          2012,
          2013,
          2014,
          2015,
          2016,
          2017,
          2018,
          2019
         ],
         "xaxis": "x",
         "y": [
          0.806,
          0.843,
          0.835,
          0.855,
          0.857,
          0.854,
          0.851,
          0.855,
          0.859,
          0.871,
          0.872,
          0.874,
          0.875
         ],
         "yaxis": "y"
        },
        {
         "hovertemplate": "Country=Japan<br>Year=%{x}<br>GDI=%{y}<extra></extra>",
         "legendgroup": "Japan",
         "marker": {
          "color": "#FF97FF",
          "symbol": "circle"
         },
         "mode": "markers",
         "name": "Japan",
         "showlegend": true,
         "type": "scattergl",
         "x": [
          1995,
          2000,
          2005,
          2010,
          2011,
          2012,
          2013,
          2014,
          2015,
          2016,
          2017,
          2018,
          2019
         ],
         "xaxis": "x",
         "y": [
          0.9530000000000001,
          0.9500000000000001,
          0.9550000000000001,
          0.96,
          0.962,
          0.964,
          0.968,
          0.971,
          0.971,
          0.974,
          0.976,
          0.977,
          0.978
         ],
         "yaxis": "y"
        },
        {
         "hovertemplate": "Country=Kazakhstan<br>Year=%{x}<br>GDI=%{y}<extra></extra>",
         "legendgroup": "Kazakhstan",
         "marker": {
          "color": "#FECB52",
          "symbol": "circle"
         },
         "mode": "markers",
         "name": "Kazakhstan",
         "showlegend": true,
         "type": "scattergl",
         "x": [
          1995,
          2000,
          2005,
          2010,
          2011,
          2012,
          2013,
          2014,
          2015,
          2016,
          2017,
          2018,
          2019
         ],
         "xaxis": "x",
         "y": [
          1.004,
          1.004,
          1.02,
          1.009,
          1.009,
          1.01,
          1.009,
          1.004,
          1.003,
          1,
          0.999,
          0.997,
          0.98
         ],
         "yaxis": "y"
        },
        {
         "hovertemplate": "Country=Kenya<br>Year=%{x}<br>GDI=%{y}<extra></extra>",
         "legendgroup": "Kenya",
         "marker": {
          "color": "#636efa",
          "symbol": "circle"
         },
         "mode": "markers",
         "name": "Kenya",
         "showlegend": true,
         "type": "scattergl",
         "x": [
          1995,
          2000,
          2005,
          2010,
          2011,
          2012,
          2013,
          2014,
          2015,
          2016,
          2017,
          2018,
          2019
         ],
         "xaxis": "x",
         "y": [
          0.898,
          0.897,
          0.894,
          0.924,
          0.925,
          0.925,
          0.925,
          0.925,
          0.925,
          0.925,
          0.926,
          0.926,
          0.937
         ],
         "yaxis": "y"
        },
        {
         "hovertemplate": "Country=Kyrgyzstan<br>Year=%{x}<br>GDI=%{y}<extra></extra>",
         "legendgroup": "Kyrgyzstan",
         "marker": {
          "color": "#EF553B",
          "symbol": "circle"
         },
         "mode": "markers",
         "name": "Kyrgyzstan",
         "showlegend": true,
         "type": "scattergl",
         "x": [
          1995,
          2000,
          2005,
          2010,
          2011,
          2012,
          2013,
          2014,
          2015,
          2016,
          2017,
          2018,
          2019
         ],
         "xaxis": "x",
         "y": [
          0.96,
          0.966,
          0.97,
          0.967,
          0.966,
          0.966,
          0.966,
          0.969,
          0.974,
          0.967,
          0.961,
          0.9570000000000001,
          0.9570000000000001
         ],
         "yaxis": "y"
        },
        {
         "hovertemplate": "Country=Cambodia<br>Year=%{x}<br>GDI=%{y}<extra></extra>",
         "legendgroup": "Cambodia",
         "marker": {
          "color": "#00cc96",
          "symbol": "circle"
         },
         "mode": "markers",
         "name": "Cambodia",
         "showlegend": true,
         "type": "scattergl",
         "x": [
          1995,
          2000,
          2005,
          2010,
          2011,
          2012,
          2013,
          2014,
          2015,
          2016,
          2017,
          2018,
          2019
         ],
         "xaxis": "x",
         "y": [
          0.834,
          0.889,
          0.873,
          0.897,
          0.893,
          0.906,
          0.906,
          0.909,
          0.914,
          0.917,
          0.919,
          0.92,
          0.922
         ],
         "yaxis": "y"
        },
        {
         "hovertemplate": "Country=Korea (Republic of)<br>Year=%{x}<br>GDI=%{y}<extra></extra>",
         "legendgroup": "Korea (Republic of)",
         "marker": {
          "color": "#ab63fa",
          "symbol": "circle"
         },
         "mode": "markers",
         "name": "Korea (Republic of)",
         "showlegend": true,
         "type": "scattergl",
         "x": [
          1995,
          2000,
          2005,
          2010,
          2011,
          2012,
          2013,
          2014,
          2015,
          2016,
          2017,
          2018,
          2019
         ],
         "xaxis": "x",
         "y": [
          0.91,
          0.907,
          0.914,
          0.927,
          0.928,
          0.929,
          0.931,
          0.932,
          0.932,
          0.933,
          0.933,
          0.936,
          0.936
         ],
         "yaxis": "y"
        },
        {
         "hovertemplate": "Country=Kuwait<br>Year=%{x}<br>GDI=%{y}<extra></extra>",
         "legendgroup": "Kuwait",
         "marker": {
          "color": "#FFA15A",
          "symbol": "circle"
         },
         "mode": "markers",
         "name": "Kuwait",
         "showlegend": true,
         "type": "scattergl",
         "x": [
          1995,
          2000,
          2005,
          2010,
          2011,
          2012,
          2013,
          2014,
          2015,
          2016,
          2017,
          2018,
          2019
         ],
         "xaxis": "x",
         "y": [
          0.9400000000000001,
          0.96,
          0.984,
          0.972,
          0.969,
          0.968,
          0.981,
          0.981,
          0.977,
          0.978,
          0.974,
          0.973,
          0.983
         ],
         "yaxis": "y"
        },
        {
         "hovertemplate": "Country=Lao People's Democratic Republic<br>Year=%{x}<br>GDI=%{y}<extra></extra>",
         "legendgroup": "Lao People's Democratic Republic",
         "marker": {
          "color": "#19d3f3",
          "symbol": "circle"
         },
         "mode": "markers",
         "name": "Lao People's Democratic Republic",
         "showlegend": true,
         "type": "scattergl",
         "x": [
          1995,
          2000,
          2005,
          2010,
          2011,
          2012,
          2013,
          2014,
          2015,
          2016,
          2017,
          2018,
          2019
         ],
         "xaxis": "x",
         "y": [
          0.833,
          0.853,
          0.875,
          0.891,
          0.896,
          0.902,
          0.908,
          0.914,
          0.918,
          0.922,
          0.922,
          0.928,
          0.927
         ],
         "yaxis": "y"
        },
        {
         "hovertemplate": "Country=Lebanon<br>Year=%{x}<br>GDI=%{y}<extra></extra>",
         "legendgroup": "Lebanon",
         "marker": {
          "color": "#FF6692",
          "symbol": "circle"
         },
         "mode": "markers",
         "name": "Lebanon",
         "showlegend": true,
         "type": "scattergl",
         "x": [
          2005,
          2010,
          2011,
          2012,
          2013,
          2014,
          2015,
          2016,
          2017,
          2018,
          2019
         ],
         "xaxis": "x",
         "y": [
          0.874,
          0.894,
          0.895,
          0.897,
          0.897,
          0.896,
          0.897,
          0.901,
          0.895,
          0.892,
          0.892
         ],
         "yaxis": "y"
        },
        {
         "hovertemplate": "Country=Liberia<br>Year=%{x}<br>GDI=%{y}<extra></extra>",
         "legendgroup": "Liberia",
         "marker": {
          "color": "#B6E880",
          "symbol": "circle"
         },
         "mode": "markers",
         "name": "Liberia",
         "showlegend": true,
         "type": "scattergl",
         "x": [
          1995,
          2000,
          2005,
          2010,
          2011,
          2012,
          2013,
          2014,
          2015,
          2016,
          2017,
          2018,
          2019
         ],
         "xaxis": "x",
         "y": [
          0.683,
          0.775,
          0.793,
          0.858,
          0.867,
          0.884,
          0.875,
          0.898,
          0.877,
          0.877,
          0.889,
          0.895,
          0.89
         ],
         "yaxis": "y"
        },
        {
         "hovertemplate": "Country=Libya<br>Year=%{x}<br>GDI=%{y}<extra></extra>",
         "legendgroup": "Libya",
         "marker": {
          "color": "#FF97FF",
          "symbol": "circle"
         },
         "mode": "markers",
         "name": "Libya",
         "showlegend": true,
         "type": "scattergl",
         "x": [
          2000,
          2005,
          2010,
          2011,
          2012,
          2013,
          2014,
          2015,
          2016,
          2017,
          2018,
          2019
         ],
         "xaxis": "x",
         "y": [
          0.936,
          0.967,
          1.009,
          0.976,
          1.003,
          0.979,
          0.972,
          0.964,
          0.961,
          0.968,
          0.969,
          0.976
         ],
         "yaxis": "y"
        },
        {
         "hovertemplate": "Country=Saint Lucia<br>Year=%{x}<br>GDI=%{y}<extra></extra>",
         "legendgroup": "Saint Lucia",
         "marker": {
          "color": "#FECB52",
          "symbol": "circle"
         },
         "mode": "markers",
         "name": "Saint Lucia",
         "showlegend": true,
         "type": "scattergl",
         "x": [
          2000,
          2005,
          2010,
          2011,
          2012,
          2013,
          2014,
          2015,
          2016,
          2017,
          2018,
          2019
         ],
         "xaxis": "x",
         "y": [
          0.963,
          0.977,
          0.973,
          0.971,
          0.97,
          0.971,
          0.969,
          0.972,
          0.973,
          0.975,
          0.975,
          0.985
         ],
         "yaxis": "y"
        },
        {
         "hovertemplate": "Country=Sri Lanka<br>Year=%{x}<br>GDI=%{y}<extra></extra>",
         "legendgroup": "Sri Lanka",
         "marker": {
          "color": "#636efa",
          "symbol": "circle"
         },
         "mode": "markers",
         "name": "Sri Lanka",
         "showlegend": true,
         "type": "scattergl",
         "x": [
          1995,
          2000,
          2005,
          2010,
          2011,
          2012,
          2013,
          2014,
          2015,
          2016,
          2017,
          2018,
          2019
         ],
         "xaxis": "x",
         "y": [
          0.918,
          0.929,
          0.928,
          0.926,
          0.929,
          0.931,
          0.936,
          0.9380000000000001,
          0.9420000000000001,
          0.936,
          0.937,
          0.9390000000000001,
          0.9550000000000001
         ],
         "yaxis": "y"
        },
        {
         "hovertemplate": "Country=Lesotho<br>Year=%{x}<br>GDI=%{y}<extra></extra>",
         "legendgroup": "Lesotho",
         "marker": {
          "color": "#EF553B",
          "symbol": "circle"
         },
         "mode": "markers",
         "name": "Lesotho",
         "showlegend": true,
         "type": "scattergl",
         "x": [
          1995,
          2000,
          2005,
          2010,
          2011,
          2012,
          2013,
          2014,
          2015,
          2016,
          2017,
          2018,
          2019
         ],
         "xaxis": "x",
         "y": [
          1.051,
          1.01,
          0.985,
          1.018,
          1.022,
          1.023,
          1.024,
          1.025,
          1.024,
          1.02,
          1.019,
          1.019,
          1.014
         ],
         "yaxis": "y"
        },
        {
         "hovertemplate": "Country=Lithuania<br>Year=%{x}<br>GDI=%{y}<extra></extra>",
         "legendgroup": "Lithuania",
         "marker": {
          "color": "#00cc96",
          "symbol": "circle"
         },
         "mode": "markers",
         "name": "Lithuania",
         "showlegend": true,
         "type": "scattergl",
         "x": [
          1995,
          2000,
          2005,
          2010,
          2011,
          2012,
          2013,
          2014,
          2015,
          2016,
          2017,
          2018,
          2019
         ],
         "xaxis": "x",
         "y": [
          1.012,
          1.023,
          1.022,
          1.04,
          1.037,
          1.036,
          1.033,
          1.031,
          1.03,
          1.03,
          1.03,
          1.029,
          1.03
         ],
         "yaxis": "y"
        },
        {
         "hovertemplate": "Country=Luxembourg<br>Year=%{x}<br>GDI=%{y}<extra></extra>",
         "legendgroup": "Luxembourg",
         "marker": {
          "color": "#ab63fa",
          "symbol": "circle"
         },
         "mode": "markers",
         "name": "Luxembourg",
         "showlegend": true,
         "type": "scattergl",
         "x": [
          2000,
          2005,
          2010,
          2011,
          2012,
          2013,
          2014,
          2015,
          2016,
          2017,
          2018,
          2019
         ],
         "xaxis": "x",
         "y": [
          0.998,
          0.995,
          0.984,
          0.976,
          0.976,
          0.974,
          0.98,
          0.975,
          0.974,
          0.975,
          0.975,
          0.976
         ],
         "yaxis": "y"
        },
        {
         "hovertemplate": "Country=Latvia<br>Year=%{x}<br>GDI=%{y}<extra></extra>",
         "legendgroup": "Latvia",
         "marker": {
          "color": "#FFA15A",
          "symbol": "circle"
         },
         "mode": "markers",
         "name": "Latvia",
         "showlegend": true,
         "type": "scattergl",
         "x": [
          1995,
          2000,
          2005,
          2010,
          2011,
          2012,
          2013,
          2014,
          2015,
          2016,
          2017,
          2018,
          2019
         ],
         "xaxis": "x",
         "y": [
          1.027,
          1.033,
          1.035,
          1.042,
          1.034,
          1.032,
          1.029,
          1.026,
          1.029,
          1.031,
          1.033,
          1.035,
          1.036
         ],
         "yaxis": "y"
        },
        {
         "hovertemplate": "Country=Morocco<br>Year=%{x}<br>GDI=%{y}<extra></extra>",
         "legendgroup": "Morocco",
         "marker": {
          "color": "#19d3f3",
          "symbol": "circle"
         },
         "mode": "markers",
         "name": "Morocco",
         "showlegend": true,
         "type": "scattergl",
         "x": [
          1995,
          2000,
          2005,
          2010,
          2011,
          2012,
          2013,
          2014,
          2015,
          2016,
          2017,
          2018,
          2019
         ],
         "xaxis": "x",
         "y": [
          0.742,
          0.775,
          0.804,
          0.8220000000000001,
          0.8220000000000001,
          0.8210000000000001,
          0.8240000000000001,
          0.8230000000000001,
          0.8220000000000001,
          0.8260000000000001,
          0.8310000000000001,
          0.833,
          0.835
         ],
         "yaxis": "y"
        },
        {
         "hovertemplate": "Country=Moldova (Republic of)<br>Year=%{x}<br>GDI=%{y}<extra></extra>",
         "legendgroup": "Moldova (Republic of)",
         "marker": {
          "color": "#FF6692",
          "symbol": "circle"
         },
         "mode": "markers",
         "name": "Moldova (Republic of)",
         "showlegend": true,
         "type": "scattergl",
         "x": [
          1995,
          2000,
          2005,
          2010,
          2011,
          2012,
          2013,
          2014,
          2015,
          2016,
          2017,
          2018,
          2019
         ],
         "xaxis": "x",
         "y": [
          0.984,
          0.992,
          0.998,
          1.007,
          1.008,
          1.008,
          1.011,
          1.012,
          1.014,
          1.013,
          1.013,
          1.013,
          1.014
         ],
         "yaxis": "y"
        },
        {
         "hovertemplate": "Country=Madagascar<br>Year=%{x}<br>GDI=%{y}<extra></extra>",
         "legendgroup": "Madagascar",
         "marker": {
          "color": "#B6E880",
          "symbol": "circle"
         },
         "mode": "markers",
         "name": "Madagascar",
         "showlegend": true,
         "type": "scattergl",
         "x": [
          2000,
          2005,
          2010,
          2011,
          2012,
          2013,
          2014,
          2015,
          2016,
          2017,
          2018,
          2019
         ],
         "xaxis": "x",
         "y": [
          0.9410000000000001,
          0.9430000000000001,
          0.9430000000000001,
          0.9440000000000001,
          0.9440000000000001,
          0.9440000000000001,
          0.9460000000000001,
          0.973,
          0.9460000000000001,
          0.9480000000000001,
          0.9490000000000001,
          0.9520000000000001
         ],
         "yaxis": "y"
        },
        {
         "hovertemplate": "Country=Maldives<br>Year=%{x}<br>GDI=%{y}<extra></extra>",
         "legendgroup": "Maldives",
         "marker": {
          "color": "#FF97FF",
          "symbol": "circle"
         },
         "mode": "markers",
         "name": "Maldives",
         "showlegend": true,
         "type": "scattergl",
         "x": [
          1995,
          2000,
          2005,
          2010,
          2011,
          2012,
          2013,
          2014,
          2015,
          2016,
          2017,
          2018,
          2019
         ],
         "xaxis": "x",
         "y": [
          0.871,
          0.907,
          0.915,
          0.925,
          0.925,
          0.925,
          0.924,
          0.925,
          0.923,
          0.92,
          0.924,
          0.921,
          0.923
         ],
         "yaxis": "y"
        },
        {
         "hovertemplate": "Country=Mexico<br>Year=%{x}<br>GDI=%{y}<extra></extra>",
         "legendgroup": "Mexico",
         "marker": {
          "color": "#FECB52",
          "symbol": "circle"
         },
         "mode": "markers",
         "name": "Mexico",
         "showlegend": true,
         "type": "scattergl",
         "x": [
          1995,
          2000,
          2005,
          2010,
          2011,
          2012,
          2013,
          2014,
          2015,
          2016,
          2017,
          2018,
          2019
         ],
         "xaxis": "x",
         "y": [
          0.909,
          0.928,
          0.9420000000000001,
          0.9560000000000001,
          0.9570000000000001,
          0.9560000000000001,
          0.9590000000000001,
          0.9590000000000001,
          0.96,
          0.962,
          0.961,
          0.962,
          0.96
         ],
         "yaxis": "y"
        },
        {
         "hovertemplate": "Country=North Macedonia<br>Year=%{x}<br>GDI=%{y}<extra></extra>",
         "legendgroup": "North Macedonia",
         "marker": {
          "color": "#636efa",
          "symbol": "circle"
         },
         "mode": "markers",
         "name": "North Macedonia",
         "showlegend": true,
         "type": "scattergl",
         "x": [
          2005,
          2010,
          2011,
          2012,
          2013,
          2014,
          2015,
          2016,
          2017,
          2018,
          2019
         ],
         "xaxis": "x",
         "y": [
          0.795,
          0.798,
          0.9440000000000001,
          0.9470000000000001,
          0.9500000000000001,
          0.9470000000000001,
          0.9470000000000001,
          0.9470000000000001,
          0.9480000000000001,
          0.9480000000000001,
          0.9520000000000001
         ],
         "yaxis": "y"
        },
        {
         "hovertemplate": "Country=Mali<br>Year=%{x}<br>GDI=%{y}<extra></extra>",
         "legendgroup": "Mali",
         "marker": {
          "color": "#EF553B",
          "symbol": "circle"
         },
         "mode": "markers",
         "name": "Mali",
         "showlegend": true,
         "type": "scattergl",
         "x": [
          1995,
          2000,
          2005,
          2010,
          2011,
          2012,
          2013,
          2014,
          2015,
          2016,
          2017,
          2018,
          2019
         ],
         "xaxis": "x",
         "y": [
          0.742,
          0.773,
          0.784,
          0.8160000000000001,
          0.789,
          0.787,
          0.795,
          0.792,
          0.811,
          0.8160000000000001,
          0.808,
          0.81,
          0.8210000000000001
         ],
         "yaxis": "y"
        },
        {
         "hovertemplate": "Country=Malta<br>Year=%{x}<br>GDI=%{y}<extra></extra>",
         "legendgroup": "Malta",
         "marker": {
          "color": "#00cc96",
          "symbol": "circle"
         },
         "mode": "markers",
         "name": "Malta",
         "showlegend": true,
         "type": "scattergl",
         "x": [
          1995,
          2000,
          2005,
          2010,
          2011,
          2012,
          2013,
          2014,
          2015,
          2016,
          2017,
          2018,
          2019
         ],
         "xaxis": "x",
         "y": [
          0.912,
          0.908,
          0.92,
          0.933,
          0.937,
          0.9450000000000001,
          0.9550000000000001,
          0.9590000000000001,
          0.964,
          0.965,
          0.966,
          0.968,
          0.966
         ],
         "yaxis": "y"
        },
        {
         "hovertemplate": "Country=Myanmar<br>Year=%{x}<br>GDI=%{y}<extra></extra>",
         "legendgroup": "Myanmar",
         "marker": {
          "color": "#ab63fa",
          "symbol": "circle"
         },
         "mode": "markers",
         "name": "Myanmar",
         "showlegend": true,
         "type": "scattergl",
         "x": [
          1995,
          2017,
          2018,
          2019
         ],
         "xaxis": "x",
         "y": [
          0.898,
          0.9560000000000001,
          0.9530000000000001,
          0.9540000000000001
         ],
         "yaxis": "y"
        },
        {
         "hovertemplate": "Country=Montenegro<br>Year=%{x}<br>GDI=%{y}<extra></extra>",
         "legendgroup": "Montenegro",
         "marker": {
          "color": "#FFA15A",
          "symbol": "circle"
         },
         "mode": "markers",
         "name": "Montenegro",
         "showlegend": true,
         "type": "scattergl",
         "x": [
          2010,
          2011,
          2012,
          2013,
          2014,
          2015,
          2016,
          2017,
          2018,
          2019
         ],
         "xaxis": "x",
         "y": [
          0.9550000000000001,
          0.9550000000000001,
          0.9580000000000001,
          0.9580000000000001,
          0.966,
          0.968,
          0.966,
          0.965,
          0.965,
          0.966
         ],
         "yaxis": "y"
        },
        {
         "hovertemplate": "Country=Mongolia<br>Year=%{x}<br>GDI=%{y}<extra></extra>",
         "legendgroup": "Mongolia",
         "marker": {
          "color": "#19d3f3",
          "symbol": "circle"
         },
         "mode": "markers",
         "name": "Mongolia",
         "showlegend": true,
         "type": "scattergl",
         "x": [
          1995,
          2000,
          2005,
          2010,
          2011,
          2012,
          2013,
          2014,
          2015,
          2016,
          2017,
          2018,
          2019
         ],
         "xaxis": "x",
         "y": [
          0.971,
          1.009,
          1.016,
          1.021,
          1.017,
          1.025,
          1.023,
          1.021,
          1.022,
          1.019,
          1.015,
          1.02,
          1.023
         ],
         "yaxis": "y"
        },
        {
         "hovertemplate": "Country=Mozambique<br>Year=%{x}<br>GDI=%{y}<extra></extra>",
         "legendgroup": "Mozambique",
         "marker": {
          "color": "#FF6692",
          "symbol": "circle"
         },
         "mode": "markers",
         "name": "Mozambique",
         "showlegend": true,
         "type": "scattergl",
         "x": [
          1995,
          2000,
          2005,
          2010,
          2011,
          2012,
          2013,
          2014,
          2015,
          2016,
          2017,
          2018,
          2019
         ],
         "xaxis": "x",
         "y": [
          0.803,
          0.84,
          0.867,
          0.891,
          0.894,
          0.895,
          0.899,
          0.9,
          0.901,
          0.901,
          0.902,
          0.906,
          0.912
         ],
         "yaxis": "y"
        },
        {
         "hovertemplate": "Country=Mauritania<br>Year=%{x}<br>GDI=%{y}<extra></extra>",
         "legendgroup": "Mauritania",
         "marker": {
          "color": "#B6E880",
          "symbol": "circle"
         },
         "mode": "markers",
         "name": "Mauritania",
         "showlegend": true,
         "type": "scattergl",
         "x": [
          1995,
          2000,
          2005,
          2010,
          2011,
          2012,
          2013,
          2014,
          2015,
          2016,
          2017,
          2018,
          2019
         ],
         "xaxis": "x",
         "y": [
          0.779,
          0.807,
          0.8250000000000001,
          0.837,
          0.838,
          0.84,
          0.847,
          0.849,
          0.848,
          0.851,
          0.853,
          0.86,
          0.864
         ],
         "yaxis": "y"
        },
        {
         "hovertemplate": "Country=Mauritius<br>Year=%{x}<br>GDI=%{y}<extra></extra>",
         "legendgroup": "Mauritius",
         "marker": {
          "color": "#FF97FF",
          "symbol": "circle"
         },
         "mode": "markers",
         "name": "Mauritius",
         "showlegend": true,
         "type": "scattergl",
         "x": [
          1995,
          2000,
          2005,
          2010,
          2011,
          2012,
          2013,
          2014,
          2015,
          2016,
          2017,
          2018,
          2019
         ],
         "xaxis": "x",
         "y": [
          0.911,
          0.912,
          0.929,
          0.9420000000000001,
          0.9470000000000001,
          0.9540000000000001,
          0.961,
          0.963,
          0.966,
          0.968,
          0.968,
          0.974,
          0.976
         ],
         "yaxis": "y"
        },
        {
         "hovertemplate": "Country=Malawi<br>Year=%{x}<br>GDI=%{y}<extra></extra>",
         "legendgroup": "Malawi",
         "marker": {
          "color": "#FECB52",
          "symbol": "circle"
         },
         "mode": "markers",
         "name": "Malawi",
         "showlegend": true,
         "type": "scattergl",
         "x": [
          1995,
          2000,
          2005,
          2010,
          2011,
          2012,
          2013,
          2014,
          2015,
          2016,
          2017,
          2018,
          2019
         ],
         "xaxis": "x",
         "y": [
          0.878,
          0.88,
          0.883,
          0.915,
          0.92,
          0.912,
          0.917,
          0.925,
          0.929,
          0.928,
          0.924,
          0.926,
          0.986
         ],
         "yaxis": "y"
        },
        {
         "hovertemplate": "Country=Malaysia<br>Year=%{x}<br>GDI=%{y}<extra></extra>",
         "legendgroup": "Malaysia",
         "marker": {
          "color": "#636efa",
          "symbol": "circle"
         },
         "mode": "markers",
         "name": "Malaysia",
         "showlegend": true,
         "type": "scattergl",
         "x": [
          2000,
          2005,
          2010,
          2011,
          2012,
          2013,
          2014,
          2015,
          2016,
          2017,
          2018,
          2019
         ],
         "xaxis": "x",
         "y": [
          0.926,
          0.934,
          0.9560000000000001,
          0.961,
          0.964,
          0.97,
          0.972,
          0.975,
          0.973,
          0.972,
          0.97,
          0.972
         ],
         "yaxis": "y"
        },
        {
         "hovertemplate": "Country=Namibia<br>Year=%{x}<br>GDI=%{y}<extra></extra>",
         "legendgroup": "Namibia",
         "marker": {
          "color": "#EF553B",
          "symbol": "circle"
         },
         "mode": "markers",
         "name": "Namibia",
         "showlegend": true,
         "type": "scattergl",
         "x": [
          1995,
          2000,
          2005,
          2010,
          2011,
          2012,
          2013,
          2014,
          2015,
          2016,
          2017,
          2018,
          2019
         ],
         "xaxis": "x",
         "y": [
          0.965,
          0.9500000000000001,
          0.9460000000000001,
          0.973,
          0.979,
          0.985,
          0.996,
          1.003,
          1.001,
          1.007,
          1.01,
          1.007,
          1.007
         ],
         "yaxis": "y"
        },
        {
         "hovertemplate": "Country=Niger<br>Year=%{x}<br>GDI=%{y}<extra></extra>",
         "legendgroup": "Niger",
         "marker": {
          "color": "#00cc96",
          "symbol": "circle"
         },
         "mode": "markers",
         "name": "Niger",
         "showlegend": true,
         "type": "scattergl",
         "x": [
          1995,
          2000,
          2005,
          2010,
          2011,
          2012,
          2013,
          2014,
          2015,
          2016,
          2017,
          2018,
          2019
         ],
         "xaxis": "x",
         "y": [
          0.6970000000000001,
          0.718,
          0.741,
          0.6990000000000001,
          0.7020000000000001,
          0.714,
          0.715,
          0.718,
          0.72,
          0.723,
          0.726,
          0.727,
          0.724
         ],
         "yaxis": "y"
        },
        {
         "hovertemplate": "Country=Nigeria<br>Year=%{x}<br>GDI=%{y}<extra></extra>",
         "legendgroup": "Nigeria",
         "marker": {
          "color": "#ab63fa",
          "symbol": "circle"
         },
         "mode": "markers",
         "name": "Nigeria",
         "showlegend": true,
         "type": "scattergl",
         "x": [
          2005,
          2010,
          2011,
          2012,
          2013,
          2014,
          2015,
          2016,
          2017,
          2018,
          2019
         ],
         "xaxis": "x",
         "y": [
          0.845,
          0.872,
          0.871,
          0.871,
          0.871,
          0.87,
          0.872,
          0.872,
          0.873,
          0.874,
          0.881
         ],
         "yaxis": "y"
        },
        {
         "hovertemplate": "Country=Nicaragua<br>Year=%{x}<br>GDI=%{y}<extra></extra>",
         "legendgroup": "Nicaragua",
         "marker": {
          "color": "#FFA15A",
          "symbol": "circle"
         },
         "mode": "markers",
         "name": "Nicaragua",
         "showlegend": true,
         "type": "scattergl",
         "x": [
          2000,
          2005,
          2010,
          2011,
          2012,
          2013,
          2014,
          2015,
          2016,
          2017,
          2018,
          2019
         ],
         "xaxis": "x",
         "y": [
          0.911,
          0.9420000000000001,
          0.9440000000000001,
          0.9460000000000001,
          0.975,
          0.9500000000000001,
          1.008,
          1.008,
          1.012,
          1.013,
          1.011,
          1.012
         ],
         "yaxis": "y"
        },
        {
         "hovertemplate": "Country=Netherlands<br>Year=%{x}<br>GDI=%{y}<extra></extra>",
         "legendgroup": "Netherlands",
         "marker": {
          "color": "#19d3f3",
          "symbol": "circle"
         },
         "mode": "markers",
         "name": "Netherlands",
         "showlegend": true,
         "type": "scattergl",
         "x": [
          1995,
          2000,
          2005,
          2010,
          2011,
          2012,
          2013,
          2014,
          2015,
          2016,
          2017,
          2018,
          2019
         ],
         "xaxis": "x",
         "y": [
          0.9480000000000001,
          0.9580000000000001,
          0.961,
          0.966,
          0.968,
          0.967,
          0.966,
          0.966,
          0.966,
          0.967,
          0.967,
          0.967,
          0.966
         ],
         "yaxis": "y"
        },
        {
         "hovertemplate": "Country=Norway<br>Year=%{x}<br>GDI=%{y}<extra></extra>",
         "legendgroup": "Norway",
         "marker": {
          "color": "#FF6692",
          "symbol": "circle"
         },
         "mode": "markers",
         "name": "Norway",
         "showlegend": true,
         "type": "scattergl",
         "x": [
          1995,
          2000,
          2005,
          2010,
          2011,
          2012,
          2013,
          2014,
          2015,
          2016,
          2017,
          2018,
          2019
         ],
         "xaxis": "x",
         "y": [
          0.979,
          0.989,
          0.988,
          0.996,
          0.996,
          0.996,
          0.994,
          0.994,
          0.993,
          0.992,
          0.992,
          0.989,
          0.99
         ],
         "yaxis": "y"
        },
        {
         "hovertemplate": "Country=Nepal<br>Year=%{x}<br>GDI=%{y}<extra></extra>",
         "legendgroup": "Nepal",
         "marker": {
          "color": "#B6E880",
          "symbol": "circle"
         },
         "mode": "markers",
         "name": "Nepal",
         "showlegend": true,
         "type": "scattergl",
         "x": [
          1995,
          2000,
          2005,
          2010,
          2011,
          2012,
          2013,
          2014,
          2015,
          2016,
          2017,
          2018,
          2019
         ],
         "xaxis": "x",
         "y": [
          0.754,
          0.771,
          0.834,
          0.885,
          0.891,
          0.887,
          0.895,
          0.902,
          0.908,
          0.911,
          0.916,
          0.927,
          0.933
         ],
         "yaxis": "y"
        },
        {
         "hovertemplate": "Country=New Zealand<br>Year=%{x}<br>GDI=%{y}<extra></extra>",
         "legendgroup": "New Zealand",
         "marker": {
          "color": "#FF97FF",
          "symbol": "circle"
         },
         "mode": "markers",
         "name": "New Zealand",
         "showlegend": true,
         "type": "scattergl",
         "x": [
          1995,
          2000,
          2005,
          2010,
          2011,
          2012,
          2013,
          2014,
          2015,
          2016,
          2017,
          2018,
          2019
         ],
         "xaxis": "x",
         "y": [
          0.971,
          0.985,
          0.971,
          0.963,
          0.963,
          0.962,
          0.963,
          0.962,
          0.962,
          0.964,
          0.964,
          0.964,
          0.964
         ],
         "yaxis": "y"
        },
        {
         "hovertemplate": "Country=Oman<br>Year=%{x}<br>GDI=%{y}<extra></extra>",
         "legendgroup": "Oman",
         "marker": {
          "color": "#FECB52",
          "symbol": "circle"
         },
         "mode": "markers",
         "name": "Oman",
         "showlegend": true,
         "type": "scattergl",
         "x": [
          2000,
          2005,
          2010,
          2011,
          2012,
          2013,
          2014,
          2015,
          2016,
          2017,
          2018,
          2019
         ],
         "xaxis": "x",
         "y": [
          0.864,
          0.873,
          0.901,
          0.909,
          0.921,
          0.932,
          0.937,
          0.9430000000000001,
          0.9400000000000001,
          0.9390000000000001,
          0.937,
          0.936
         ],
         "yaxis": "y"
        },
        {
         "hovertemplate": "Country=Pakistan<br>Year=%{x}<br>GDI=%{y}<extra></extra>",
         "legendgroup": "Pakistan",
         "marker": {
          "color": "#636efa",
          "symbol": "circle"
         },
         "mode": "markers",
         "name": "Pakistan",
         "showlegend": true,
         "type": "scattergl",
         "x": [
          1995,
          2000,
          2005,
          2010,
          2011,
          2012,
          2013,
          2014,
          2015,
          2016,
          2017,
          2018,
          2019
         ],
         "xaxis": "x",
         "y": [
          0.598,
          0.615,
          0.668,
          0.716,
          0.717,
          0.728,
          0.73,
          0.733,
          0.739,
          0.74,
          0.735,
          0.736,
          0.745
         ],
         "yaxis": "y"
        },
        {
         "hovertemplate": "Country=Panama<br>Year=%{x}<br>GDI=%{y}<extra></extra>",
         "legendgroup": "Panama",
         "marker": {
          "color": "#EF553B",
          "symbol": "circle"
         },
         "mode": "markers",
         "name": "Panama",
         "showlegend": true,
         "type": "scattergl",
         "x": [
          2000,
          2005,
          2010,
          2011,
          2012,
          2013,
          2014,
          2015,
          2016,
          2017,
          2018,
          2019
         ],
         "xaxis": "x",
         "y": [
          0.981,
          0.987,
          0.99,
          0.99,
          0.997,
          0.996,
          1.003,
          1.006,
          1.005,
          1.008,
          1.009,
          1.019
         ],
         "yaxis": "y"
        },
        {
         "hovertemplate": "Country=Peru<br>Year=%{x}<br>GDI=%{y}<extra></extra>",
         "legendgroup": "Peru",
         "marker": {
          "color": "#00cc96",
          "symbol": "circle"
         },
         "mode": "markers",
         "name": "Peru",
         "showlegend": true,
         "type": "scattergl",
         "x": [
          2000,
          2005,
          2010,
          2011,
          2012,
          2013,
          2014,
          2015,
          2016,
          2017,
          2018,
          2019
         ],
         "xaxis": "x",
         "y": [
          0.916,
          0.931,
          0.9440000000000001,
          0.9490000000000001,
          0.9550000000000001,
          0.962,
          0.962,
          0.9590000000000001,
          0.963,
          0.964,
          0.964,
          0.9570000000000001
         ],
         "yaxis": "y"
        },
        {
         "hovertemplate": "Country=Philippines<br>Year=%{x}<br>GDI=%{y}<extra></extra>",
         "legendgroup": "Philippines",
         "marker": {
          "color": "#ab63fa",
          "symbol": "circle"
         },
         "mode": "markers",
         "name": "Philippines",
         "showlegend": true,
         "type": "scattergl",
         "x": [
          1995,
          2000,
          2005,
          2010,
          2011,
          2012,
          2013,
          2014,
          2015,
          2016,
          2017,
          2018,
          2019
         ],
         "xaxis": "x",
         "y": [
          0.961,
          0.976,
          0.989,
          0.999,
          1.003,
          1.005,
          1.007,
          1.008,
          1.009,
          1.007,
          1.004,
          1.005,
          1.007
         ],
         "yaxis": "y"
        },
        {
         "hovertemplate": "Country=Papua New Guinea<br>Year=%{x}<br>GDI=%{y}<extra></extra>",
         "legendgroup": "Papua New Guinea",
         "marker": {
          "color": "#FFA15A",
          "symbol": "circle"
         },
         "mode": "markers",
         "name": "Papua New Guinea",
         "showlegend": true,
         "type": "scattergl",
         "x": [
          1995,
          2000
         ],
         "xaxis": "x",
         "y": [
          0.836,
          0.85
         ],
         "yaxis": "y"
        },
        {
         "hovertemplate": "Country=Poland<br>Year=%{x}<br>GDI=%{y}<extra></extra>",
         "legendgroup": "Poland",
         "marker": {
          "color": "#19d3f3",
          "symbol": "circle"
         },
         "mode": "markers",
         "name": "Poland",
         "showlegend": true,
         "type": "scattergl",
         "x": [
          1995,
          2000,
          2005,
          2010,
          2011,
          2012,
          2013,
          2014,
          2015,
          2016,
          2017,
          2018,
          2019
         ],
         "xaxis": "x",
         "y": [
          0.989,
          0.993,
          0.997,
          1.009,
          1.01,
          1.009,
          1.008,
          1.009,
          1.008,
          1.009,
          1.008,
          1.008,
          1.007
         ],
         "yaxis": "y"
        },
        {
         "hovertemplate": "Country=Portugal<br>Year=%{x}<br>GDI=%{y}<extra></extra>",
         "legendgroup": "Portugal",
         "marker": {
          "color": "#FF6692",
          "symbol": "circle"
         },
         "mode": "markers",
         "name": "Portugal",
         "showlegend": true,
         "type": "scattergl",
         "x": [
          1995,
          2000,
          2005,
          2010,
          2011,
          2012,
          2013,
          2014,
          2015,
          2016,
          2017,
          2018,
          2019
         ],
         "xaxis": "x",
         "y": [
          0.972,
          0.984,
          0.995,
          0.989,
          0.99,
          0.989,
          0.986,
          0.986,
          0.985,
          0.985,
          0.985,
          0.985,
          0.988
         ],
         "yaxis": "y"
        },
        {
         "hovertemplate": "Country=Paraguay<br>Year=%{x}<br>GDI=%{y}<extra></extra>",
         "legendgroup": "Paraguay",
         "marker": {
          "color": "#B6E880",
          "symbol": "circle"
         },
         "mode": "markers",
         "name": "Paraguay",
         "showlegend": true,
         "type": "scattergl",
         "x": [
          1995,
          2000,
          2005,
          2010,
          2011,
          2012,
          2013,
          2014,
          2015,
          2016,
          2017,
          2018,
          2019
         ],
         "xaxis": "x",
         "y": [
          0.9390000000000001,
          0.925,
          0.934,
          0.9500000000000001,
          0.9580000000000001,
          0.964,
          0.965,
          0.962,
          0.965,
          0.964,
          0.965,
          0.967,
          0.966
         ],
         "yaxis": "y"
        },
        {
         "hovertemplate": "Country=Palestine, State of<br>Year=%{x}<br>GDI=%{y}<extra></extra>",
         "legendgroup": "Palestine, State of",
         "marker": {
          "color": "#FF97FF",
          "symbol": "circle"
         },
         "mode": "markers",
         "name": "Palestine, State of",
         "showlegend": true,
         "type": "scattergl",
         "x": [
          2005,
          2010,
          2011,
          2012,
          2013,
          2014,
          2015,
          2016,
          2017,
          2018,
          2019
         ],
         "xaxis": "x",
         "y": [
          0.81,
          0.84,
          0.855,
          0.858,
          0.86,
          0.865,
          0.87,
          0.87,
          0.868,
          0.87,
          0.87
         ],
         "yaxis": "y"
        },
        {
         "hovertemplate": "Country=Qatar<br>Year=%{x}<br>GDI=%{y}<extra></extra>",
         "legendgroup": "Qatar",
         "marker": {
          "color": "#FECB52",
          "symbol": "circle"
         },
         "mode": "markers",
         "name": "Qatar",
         "showlegend": true,
         "type": "scattergl",
         "x": [
          1995,
          2000,
          2005,
          2010,
          2011,
          2012,
          2013,
          2014,
          2015,
          2016,
          2017,
          2018,
          2019
         ],
         "xaxis": "x",
         "y": [
          0.981,
          1.012,
          0.964,
          0.972,
          0.986,
          1.025,
          1.024,
          1.03,
          1.032,
          1.029,
          1.032,
          1.031,
          1.03
         ],
         "yaxis": "y"
        },
        {
         "hovertemplate": "Country=Romania<br>Year=%{x}<br>GDI=%{y}<extra></extra>",
         "legendgroup": "Romania",
         "marker": {
          "color": "#636efa",
          "symbol": "circle"
         },
         "mode": "markers",
         "name": "Romania",
         "showlegend": true,
         "type": "scattergl",
         "x": [
          1995,
          2000,
          2005,
          2010,
          2011,
          2012,
          2013,
          2014,
          2015,
          2016,
          2017,
          2018,
          2019
         ],
         "xaxis": "x",
         "y": [
          0.9590000000000001,
          0.965,
          0.978,
          0.986,
          0.985,
          0.984,
          0.985,
          0.987,
          0.986,
          0.985,
          0.986,
          0.989,
          0.991
         ],
         "yaxis": "y"
        },
        {
         "hovertemplate": "Country=Russian Federation<br>Year=%{x}<br>GDI=%{y}<extra></extra>",
         "legendgroup": "Russian Federation",
         "marker": {
          "color": "#EF553B",
          "symbol": "circle"
         },
         "mode": "markers",
         "name": "Russian Federation",
         "showlegend": true,
         "type": "scattergl",
         "x": [
          2000,
          2005,
          2010,
          2011,
          2012,
          2013,
          2014,
          2015,
          2016,
          2017,
          2018,
          2019
         ],
         "xaxis": "x",
         "y": [
          1.031,
          1.039,
          1.026,
          1.024,
          1.019,
          1.016,
          1.012,
          1.011,
          1.01,
          1.009,
          1.009,
          1.007
         ],
         "yaxis": "y"
        },
        {
         "hovertemplate": "Country=Rwanda<br>Year=%{x}<br>GDI=%{y}<extra></extra>",
         "legendgroup": "Rwanda",
         "marker": {
          "color": "#00cc96",
          "symbol": "circle"
         },
         "mode": "markers",
         "name": "Rwanda",
         "showlegend": true,
         "type": "scattergl",
         "x": [
          1995,
          2000,
          2005,
          2010,
          2011,
          2012,
          2013,
          2014,
          2015,
          2016,
          2017,
          2018,
          2019
         ],
         "xaxis": "x",
         "y": [
          0.8270000000000001,
          0.886,
          0.925,
          0.9540000000000001,
          0.9420000000000001,
          0.937,
          0.9390000000000001,
          0.9420000000000001,
          0.9400000000000001,
          0.9380000000000001,
          0.917,
          0.9430000000000001,
          0.9450000000000001
         ],
         "yaxis": "y"
        },
        {
         "hovertemplate": "Country=Saudi Arabia<br>Year=%{x}<br>GDI=%{y}<extra></extra>",
         "legendgroup": "Saudi Arabia",
         "marker": {
          "color": "#ab63fa",
          "symbol": "circle"
         },
         "mode": "markers",
         "name": "Saudi Arabia",
         "showlegend": true,
         "type": "scattergl",
         "x": [
          2000,
          2005,
          2010,
          2011,
          2012,
          2013,
          2014,
          2015,
          2016,
          2017,
          2018,
          2019
         ],
         "xaxis": "x",
         "y": [
          0.834,
          0.879,
          0.875,
          0.881,
          0.884,
          0.88,
          0.877,
          0.876,
          0.878,
          0.876,
          0.875,
          0.896
         ],
         "yaxis": "y"
        },
        {
         "hovertemplate": "Country=Sudan<br>Year=%{x}<br>GDI=%{y}<extra></extra>",
         "legendgroup": "Sudan",
         "marker": {
          "color": "#FFA15A",
          "symbol": "circle"
         },
         "mode": "markers",
         "name": "Sudan",
         "showlegend": true,
         "type": "scattergl",
         "x": [
          2005,
          2010,
          2011,
          2012,
          2013,
          2014,
          2015,
          2016,
          2017,
          2018,
          2019
         ],
         "xaxis": "x",
         "y": [
          0.804,
          0.8220000000000001,
          0.657,
          0.833,
          0.843,
          0.847,
          0.847,
          0.853,
          0.855,
          0.854,
          0.86
         ],
         "yaxis": "y"
        },
        {
         "hovertemplate": "Country=Senegal<br>Year=%{x}<br>GDI=%{y}<extra></extra>",
         "legendgroup": "Senegal",
         "marker": {
          "color": "#19d3f3",
          "symbol": "circle"
         },
         "mode": "markers",
         "name": "Senegal",
         "showlegend": true,
         "type": "scattergl",
         "x": [
          1995,
          2000,
          2005,
          2010,
          2011,
          2012,
          2013,
          2014,
          2015,
          2016,
          2017,
          2018,
          2019
         ],
         "xaxis": "x",
         "y": [
          0.784,
          0.8150000000000001,
          0.8170000000000001,
          0.857,
          0.871,
          0.877,
          0.884,
          0.884,
          0.883,
          0.879,
          0.879,
          0.877,
          0.87
         ],
         "yaxis": "y"
        },
        {
         "hovertemplate": "Country=Singapore<br>Year=%{x}<br>GDI=%{y}<extra></extra>",
         "legendgroup": "Singapore",
         "marker": {
          "color": "#FF6692",
          "symbol": "circle"
         },
         "mode": "markers",
         "name": "Singapore",
         "showlegend": true,
         "type": "scattergl",
         "x": [
          2000,
          2005,
          2010,
          2011,
          2012,
          2013,
          2014,
          2015,
          2016,
          2017,
          2018,
          2019
         ],
         "xaxis": "x",
         "y": [
          0.935,
          0.9520000000000001,
          0.972,
          0.973,
          0.973,
          0.974,
          0.981,
          0.982,
          0.984,
          0.987,
          0.986,
          0.985
         ],
         "yaxis": "y"
        },
        {
         "hovertemplate": "Country=Sierra Leone<br>Year=%{x}<br>GDI=%{y}<extra></extra>",
         "legendgroup": "Sierra Leone",
         "marker": {
          "color": "#B6E880",
          "symbol": "circle"
         },
         "mode": "markers",
         "name": "Sierra Leone",
         "showlegend": true,
         "type": "scattergl",
         "x": [
          2000,
          2005,
          2010,
          2011,
          2012,
          2013,
          2014,
          2015,
          2016,
          2017,
          2018,
          2019
         ],
         "xaxis": "x",
         "y": [
          0.772,
          0.812,
          0.853,
          0.86,
          0.868,
          0.875,
          0.876,
          0.875,
          0.876,
          0.88,
          0.881,
          0.884
         ],
         "yaxis": "y"
        },
        {
         "hovertemplate": "Country=El Salvador<br>Year=%{x}<br>GDI=%{y}<extra></extra>",
         "legendgroup": "El Salvador",
         "marker": {
          "color": "#FF97FF",
          "symbol": "circle"
         },
         "mode": "markers",
         "name": "El Salvador",
         "showlegend": true,
         "type": "scattergl",
         "x": [
          1995,
          2000,
          2005,
          2010,
          2011,
          2012,
          2013,
          2014,
          2015,
          2016,
          2017,
          2018,
          2019
         ],
         "xaxis": "x",
         "y": [
          0.932,
          0.9410000000000001,
          0.9510000000000001,
          0.973,
          0.966,
          0.963,
          0.979,
          0.975,
          0.974,
          0.974,
          0.973,
          0.974,
          0.975
         ],
         "yaxis": "y"
        },
        {
         "hovertemplate": "Country=Serbia<br>Year=%{x}<br>GDI=%{y}<extra></extra>",
         "legendgroup": "Serbia",
         "marker": {
          "color": "#FECB52",
          "symbol": "circle"
         },
         "mode": "markers",
         "name": "Serbia",
         "showlegend": true,
         "type": "scattergl",
         "x": [
          2000,
          2005,
          2010,
          2011,
          2012,
          2013,
          2014,
          2015,
          2016,
          2017,
          2018,
          2019
         ],
         "xaxis": "x",
         "y": [
          0.9490000000000001,
          0.9510000000000001,
          0.967,
          0.969,
          0.969,
          0.972,
          0.97,
          0.973,
          0.975,
          0.974,
          0.975,
          0.977
         ],
         "yaxis": "y"
        },
        {
         "hovertemplate": "Country=South Sudan<br>Year=%{x}<br>GDI=%{y}<extra></extra>",
         "legendgroup": "South Sudan",
         "marker": {
          "color": "#636efa",
          "symbol": "circle"
         },
         "mode": "markers",
         "name": "South Sudan",
         "showlegend": true,
         "type": "scattergl",
         "x": [
          2010,
          2011,
          2012,
          2013,
          2014,
          2015,
          2016,
          2017,
          2018,
          2019
         ],
         "xaxis": "x",
         "y": [
          0.8310000000000001,
          0.833,
          0.8280000000000001,
          0.837,
          0.839,
          0.839,
          0.839,
          0.84,
          0.841,
          0.842
         ],
         "yaxis": "y"
        },
        {
         "hovertemplate": "Country=Sao Tome and Principe<br>Year=%{x}<br>GDI=%{y}<extra></extra>",
         "legendgroup": "Sao Tome and Principe",
         "marker": {
          "color": "#EF553B",
          "symbol": "circle"
         },
         "mode": "markers",
         "name": "Sao Tome and Principe",
         "showlegend": true,
         "type": "scattergl",
         "x": [
          2000,
          2005,
          2010,
          2011,
          2012,
          2013,
          2014,
          2015,
          2016,
          2017,
          2018,
          2019
         ],
         "xaxis": "x",
         "y": [
          0.863,
          0.869,
          0.88,
          0.882,
          0.896,
          0.897,
          0.899,
          0.902,
          0.903,
          0.904,
          0.905,
          0.906
         ],
         "yaxis": "y"
        },
        {
         "hovertemplate": "Country=Suriname<br>Year=%{x}<br>GDI=%{y}<extra></extra>",
         "legendgroup": "Suriname",
         "marker": {
          "color": "#00cc96",
          "symbol": "circle"
         },
         "mode": "markers",
         "name": "Suriname",
         "showlegend": true,
         "type": "scattergl",
         "x": [
          2005,
          2010,
          2011,
          2012,
          2013,
          2014,
          2015,
          2016,
          2017,
          2018,
          2019
         ],
         "xaxis": "x",
         "y": [
          0.973,
          0.975,
          0.976,
          0.976,
          0.977,
          0.976,
          0.975,
          0.973,
          0.972,
          0.973,
          0.985
         ],
         "yaxis": "y"
        },
        {
         "hovertemplate": "Country=Slovakia<br>Year=%{x}<br>GDI=%{y}<extra></extra>",
         "legendgroup": "Slovakia",
         "marker": {
          "color": "#ab63fa",
          "symbol": "circle"
         },
         "mode": "markers",
         "name": "Slovakia",
         "showlegend": true,
         "type": "scattergl",
         "x": [
          1995,
          2000,
          2005,
          2010,
          2011,
          2012,
          2013,
          2014,
          2015,
          2016,
          2017,
          2018,
          2019
         ],
         "xaxis": "x",
         "y": [
          0.987,
          0.986,
          0.985,
          0.991,
          0.987,
          0.987,
          0.992,
          0.99,
          0.992,
          0.993,
          0.993,
          0.992,
          0.992
         ],
         "yaxis": "y"
        },
        {
         "hovertemplate": "Country=Slovenia<br>Year=%{x}<br>GDI=%{y}<extra></extra>",
         "legendgroup": "Slovenia",
         "marker": {
          "color": "#FFA15A",
          "symbol": "circle"
         },
         "mode": "markers",
         "name": "Slovenia",
         "showlegend": true,
         "type": "scattergl",
         "x": [
          1995,
          2000,
          2005,
          2010,
          2011,
          2012,
          2013,
          2014,
          2015,
          2016,
          2017,
          2018,
          2019
         ],
         "xaxis": "x",
         "y": [
          0.988,
          0.994,
          1.007,
          1.007,
          1.012,
          1.006,
          0.997,
          1,
          1.002,
          1.004,
          1.005,
          1.002,
          1.001
         ],
         "yaxis": "y"
        },
        {
         "hovertemplate": "Country=Sweden<br>Year=%{x}<br>GDI=%{y}<extra></extra>",
         "legendgroup": "Sweden",
         "marker": {
          "color": "#19d3f3",
          "symbol": "circle"
         },
         "mode": "markers",
         "name": "Sweden",
         "showlegend": true,
         "type": "scattergl",
         "x": [
          1995,
          2000,
          2005,
          2010,
          2011,
          2012,
          2013,
          2014,
          2015,
          2016,
          2017,
          2018,
          2019
         ],
         "xaxis": "x",
         "y": [
          1,
          0.988,
          0.996,
          0.996,
          0.996,
          1,
          0.989,
          0.987,
          0.984,
          0.982,
          0.982,
          0.982,
          0.983
         ],
         "yaxis": "y"
        },
        {
         "hovertemplate": "Country=Eswatini (Kingdom of)<br>Year=%{x}<br>GDI=%{y}<extra></extra>",
         "legendgroup": "Eswatini (Kingdom of)",
         "marker": {
          "color": "#FF6692",
          "symbol": "circle"
         },
         "mode": "markers",
         "name": "Eswatini (Kingdom of)",
         "showlegend": true,
         "type": "scattergl",
         "x": [
          1995,
          2000,
          2005,
          2010,
          2011,
          2012,
          2013,
          2014,
          2015,
          2016,
          2017,
          2018,
          2019
         ],
         "xaxis": "x",
         "y": [
          0.935,
          0.896,
          0.898,
          0.9390000000000001,
          0.9450000000000001,
          0.9520000000000001,
          0.967,
          0.975,
          0.982,
          0.988,
          0.993,
          0.995,
          0.996
         ],
         "yaxis": "y"
        },
        {
         "hovertemplate": "Country=Syrian Arab Republic<br>Year=%{x}<br>GDI=%{y}<extra></extra>",
         "legendgroup": "Syrian Arab Republic",
         "marker": {
          "color": "#B6E880",
          "symbol": "circle"
         },
         "mode": "markers",
         "name": "Syrian Arab Republic",
         "showlegend": true,
         "type": "scattergl",
         "x": [
          1995,
          2000,
          2005,
          2010,
          2011,
          2012,
          2013,
          2014,
          2015,
          2016,
          2017,
          2018,
          2019
         ],
         "xaxis": "x",
         "y": [
          0.795,
          0.8210000000000001,
          0.8150000000000001,
          0.854,
          0.868,
          0.863,
          0.848,
          0.8290000000000001,
          0.8160000000000001,
          0.802,
          0.839,
          0.8300000000000001,
          0.8290000000000001
         ],
         "yaxis": "y"
        },
        {
         "hovertemplate": "Country=Chad<br>Year=%{x}<br>GDI=%{y}<extra></extra>",
         "legendgroup": "Chad",
         "marker": {
          "color": "#FF97FF",
          "symbol": "circle"
         },
         "mode": "markers",
         "name": "Chad",
         "showlegend": true,
         "type": "scattergl",
         "x": [
          2005,
          2010,
          2011,
          2012,
          2013,
          2014,
          2015,
          2016,
          2017,
          2018,
          2019
         ],
         "xaxis": "x",
         "y": [
          0.726,
          0.757,
          0.767,
          0.769,
          0.77,
          0.771,
          0.774,
          0.772,
          0.773,
          0.773,
          0.764
         ],
         "yaxis": "y"
        },
        {
         "hovertemplate": "Country=Togo<br>Year=%{x}<br>GDI=%{y}<extra></extra>",
         "legendgroup": "Togo",
         "marker": {
          "color": "#FECB52",
          "symbol": "circle"
         },
         "mode": "markers",
         "name": "Togo",
         "showlegend": true,
         "type": "scattergl",
         "x": [
          1995,
          2000,
          2005,
          2010,
          2011,
          2012,
          2013,
          2014,
          2015,
          2016,
          2017,
          2018,
          2019
         ],
         "xaxis": "x",
         "y": [
          0.747,
          0.781,
          0.796,
          0.787,
          0.788,
          0.79,
          0.793,
          0.8,
          0.798,
          0.798,
          0.8320000000000001,
          0.8190000000000001,
          0.8220000000000001
         ],
         "yaxis": "y"
        },
        {
         "hovertemplate": "Country=Thailand<br>Year=%{x}<br>GDI=%{y}<extra></extra>",
         "legendgroup": "Thailand",
         "marker": {
          "color": "#636efa",
          "symbol": "circle"
         },
         "mode": "markers",
         "name": "Thailand",
         "showlegend": true,
         "type": "scattergl",
         "x": [
          1995,
          2000,
          2005,
          2010,
          2011,
          2012,
          2013,
          2014,
          2015,
          2016,
          2017,
          2018,
          2019
         ],
         "xaxis": "x",
         "y": [
          0.976,
          0.977,
          0.97,
          0.997,
          1.002,
          1.001,
          1,
          0.998,
          0.998,
          0.997,
          0.997,
          0.997,
          1.008
         ],
         "yaxis": "y"
        },
        {
         "hovertemplate": "Country=Tajikistan<br>Year=%{x}<br>GDI=%{y}<extra></extra>",
         "legendgroup": "Tajikistan",
         "marker": {
          "color": "#EF553B",
          "symbol": "circle"
         },
         "mode": "markers",
         "name": "Tajikistan",
         "showlegend": true,
         "type": "scattergl",
         "x": [
          1995,
          2000,
          2005,
          2010,
          2011,
          2012,
          2013,
          2014,
          2015,
          2016,
          2017,
          2018,
          2019
         ],
         "xaxis": "x",
         "y": [
          0.861,
          0.852,
          0.866,
          0.803,
          0.804,
          0.812,
          0.8220000000000001,
          0.8230000000000001,
          0.8240000000000001,
          0.8250000000000001,
          0.8230000000000001,
          0.8230000000000001,
          0.8230000000000001
         ],
         "yaxis": "y"
        },
        {
         "hovertemplate": "Country=Timor-Leste<br>Year=%{x}<br>GDI=%{y}<extra></extra>",
         "legendgroup": "Timor-Leste",
         "marker": {
          "color": "#00cc96",
          "symbol": "circle"
         },
         "mode": "markers",
         "name": "Timor-Leste",
         "showlegend": true,
         "type": "scattergl",
         "x": [
          2005,
          2010,
          2011,
          2012,
          2013,
          2014,
          2015,
          2016,
          2017,
          2018,
          2019
         ],
         "xaxis": "x",
         "y": [
          0.896,
          0.926,
          0.928,
          0.927,
          0.897,
          0.896,
          0.897,
          0.9430000000000001,
          0.9450000000000001,
          0.9460000000000001,
          0.9420000000000001
         ],
         "yaxis": "y"
        },
        {
         "hovertemplate": "Country=Tonga<br>Year=%{x}<br>GDI=%{y}<extra></extra>",
         "legendgroup": "Tonga",
         "marker": {
          "color": "#ab63fa",
          "symbol": "circle"
         },
         "mode": "markers",
         "name": "Tonga",
         "showlegend": true,
         "type": "scattergl",
         "x": [
          1995,
          2000,
          2005,
          2010,
          2011,
          2012,
          2013,
          2014,
          2015,
          2016,
          2017,
          2018,
          2019
         ],
         "xaxis": "x",
         "y": [
          0.923,
          0.921,
          0.932,
          0.9430000000000001,
          0.9450000000000001,
          0.9450000000000001,
          0.9440000000000001,
          0.9460000000000001,
          0.9470000000000001,
          0.9480000000000001,
          0.9480000000000001,
          0.9490000000000001,
          0.9500000000000001
         ],
         "yaxis": "y"
        },
        {
         "hovertemplate": "Country=Trinidad and Tobago<br>Year=%{x}<br>GDI=%{y}<extra></extra>",
         "legendgroup": "Trinidad and Tobago",
         "marker": {
          "color": "#FFA15A",
          "symbol": "circle"
         },
         "mode": "markers",
         "name": "Trinidad and Tobago",
         "showlegend": true,
         "type": "scattergl",
         "x": [
          1995,
          2000,
          2005,
          2010,
          2011,
          2012,
          2013,
          2014,
          2015,
          2016,
          2017,
          2018,
          2019
         ],
         "xaxis": "x",
         "y": [
          0.934,
          0.9470000000000001,
          0.969,
          0.984,
          0.997,
          0.997,
          0.999,
          0.998,
          0.989,
          0.997,
          1.002,
          1.002,
          1.003
         ],
         "yaxis": "y"
        },
        {
         "hovertemplate": "Country=Tunisia<br>Year=%{x}<br>GDI=%{y}<extra></extra>",
         "legendgroup": "Tunisia",
         "marker": {
          "color": "#19d3f3",
          "symbol": "circle"
         },
         "mode": "markers",
         "name": "Tunisia",
         "showlegend": true,
         "type": "scattergl",
         "x": [
          1995,
          2000,
          2005,
          2010,
          2011,
          2012,
          2013,
          2014,
          2015,
          2016,
          2017,
          2018,
          2019
         ],
         "xaxis": "x",
         "y": [
          0.81,
          0.843,
          0.867,
          0.887,
          0.885,
          0.888,
          0.892,
          0.894,
          0.896,
          0.898,
          0.899,
          0.899,
          0.9
         ],
         "yaxis": "y"
        },
        {
         "hovertemplate": "Country=Turkey<br>Year=%{x}<br>GDI=%{y}<extra></extra>",
         "legendgroup": "Turkey",
         "marker": {
          "color": "#FF6692",
          "symbol": "circle"
         },
         "mode": "markers",
         "name": "Turkey",
         "showlegend": true,
         "type": "scattergl",
         "x": [
          1995,
          2000,
          2005,
          2010,
          2011,
          2012,
          2013,
          2014,
          2015,
          2016,
          2017,
          2018,
          2019
         ],
         "xaxis": "x",
         "y": [
          0.838,
          0.847,
          0.855,
          0.908,
          0.911,
          0.914,
          0.917,
          0.924,
          0.928,
          0.93,
          0.931,
          0.926,
          0.924
         ],
         "yaxis": "y"
        },
        {
         "hovertemplate": "Country=Tanzania (United Republic of)<br>Year=%{x}<br>GDI=%{y}<extra></extra>",
         "legendgroup": "Tanzania (United Republic of)",
         "marker": {
          "color": "#B6E880",
          "symbol": "circle"
         },
         "mode": "markers",
         "name": "Tanzania (United Republic of)",
         "showlegend": true,
         "type": "scattergl",
         "x": [
          1995,
          2000,
          2005,
          2010,
          2011,
          2012,
          2013,
          2014,
          2015,
          2016,
          2017,
          2018,
          2019
         ],
         "xaxis": "x",
         "y": [
          0.875,
          0.884,
          0.895,
          0.921,
          0.923,
          0.9460000000000001,
          0.9490000000000001,
          0.936,
          0.9390000000000001,
          0.9420000000000001,
          0.9440000000000001,
          0.9430000000000001,
          0.9480000000000001
         ],
         "yaxis": "y"
        },
        {
         "hovertemplate": "Country=Uganda<br>Year=%{x}<br>GDI=%{y}<extra></extra>",
         "legendgroup": "Uganda",
         "marker": {
          "color": "#FF97FF",
          "symbol": "circle"
         },
         "mode": "markers",
         "name": "Uganda",
         "showlegend": true,
         "type": "scattergl",
         "x": [
          1995,
          2000,
          2005,
          2010,
          2011,
          2012,
          2013,
          2014,
          2015,
          2016,
          2017,
          2018,
          2019
         ],
         "xaxis": "x",
         "y": [
          0.867,
          0.886,
          0.884,
          0.862,
          0.863,
          0.866,
          0.865,
          0.866,
          0.871,
          0.873,
          0.874,
          0.862,
          0.863
         ],
         "yaxis": "y"
        },
        {
         "hovertemplate": "Country=Ukraine<br>Year=%{x}<br>GDI=%{y}<extra></extra>",
         "legendgroup": "Ukraine",
         "marker": {
          "color": "#FECB52",
          "symbol": "circle"
         },
         "mode": "markers",
         "name": "Ukraine",
         "showlegend": true,
         "type": "scattergl",
         "x": [
          1995,
          2000,
          2005,
          2010,
          2011,
          2012,
          2013,
          2014,
          2015,
          2016,
          2017,
          2018,
          2019
         ],
         "xaxis": "x",
         "y": [
          1.003,
          0.992,
          1.004,
          1.012,
          1.005,
          1.003,
          1.003,
          1,
          0.997,
          0.997,
          1,
          1,
          1
         ],
         "yaxis": "y"
        },
        {
         "hovertemplate": "Country=Uruguay<br>Year=%{x}<br>GDI=%{y}<extra></extra>",
         "legendgroup": "Uruguay",
         "marker": {
          "color": "#636efa",
          "symbol": "circle"
         },
         "mode": "markers",
         "name": "Uruguay",
         "showlegend": true,
         "type": "scattergl",
         "x": [
          1995,
          2000,
          2005,
          2010,
          2011,
          2012,
          2013,
          2014,
          2015,
          2016,
          2017,
          2018,
          2019
         ],
         "xaxis": "x",
         "y": [
          1.005,
          1,
          1.005,
          1.006,
          1.01,
          1.012,
          1.009,
          1.011,
          1.011,
          1.016,
          1.015,
          1.017,
          1.016
         ],
         "yaxis": "y"
        },
        {
         "hovertemplate": "Country=United States<br>Year=%{x}<br>GDI=%{y}<extra></extra>",
         "legendgroup": "United States",
         "marker": {
          "color": "#EF553B",
          "symbol": "circle"
         },
         "mode": "markers",
         "name": "United States",
         "showlegend": true,
         "type": "scattergl",
         "x": [
          1995,
          2000,
          2005,
          2010,
          2011,
          2012,
          2013,
          2014,
          2015,
          2016,
          2017,
          2018,
          2019
         ],
         "xaxis": "x",
         "y": [
          0.995,
          0.987,
          0.992,
          0.996,
          0.996,
          0.994,
          0.993,
          0.993,
          0.994,
          0.994,
          0.995,
          0.993,
          0.994
         ],
         "yaxis": "y"
        },
        {
         "hovertemplate": "Country=Uzbekistan<br>Year=%{x}<br>GDI=%{y}<extra></extra>",
         "legendgroup": "Uzbekistan",
         "marker": {
          "color": "#00cc96",
          "symbol": "circle"
         },
         "mode": "markers",
         "name": "Uzbekistan",
         "showlegend": true,
         "type": "scattergl",
         "x": [
          2000,
          2005,
          2010,
          2011,
          2012,
          2013,
          2014,
          2015,
          2016,
          2017,
          2018,
          2019
         ],
         "xaxis": "x",
         "y": [
          0.936,
          0.9390000000000001,
          0.9450000000000001,
          0.9430000000000001,
          0.9420000000000001,
          0.9400000000000001,
          0.9400000000000001,
          0.9390000000000001,
          0.936,
          0.937,
          0.9380000000000001,
          0.9390000000000001
         ],
         "yaxis": "y"
        },
        {
         "hovertemplate": "Country=Venezuela (Bolivarian Republic of)<br>Year=%{x}<br>GDI=%{y}<extra></extra>",
         "legendgroup": "Venezuela (Bolivarian Republic of)",
         "marker": {
          "color": "#ab63fa",
          "symbol": "circle"
         },
         "mode": "markers",
         "name": "Venezuela (Bolivarian Republic of)",
         "showlegend": true,
         "type": "scattergl",
         "x": [
          1995,
          2000,
          2005,
          2010,
          2011,
          2012,
          2013,
          2014,
          2015,
          2016,
          2017,
          2018,
          2019
         ],
         "xaxis": "x",
         "y": [
          0.976,
          0.987,
          0.992,
          1.024,
          1.022,
          1.023,
          1.023,
          1.023,
          1.022,
          1.019,
          1.016,
          1.014,
          1.009
         ],
         "yaxis": "y"
        },
        {
         "hovertemplate": "Country=Viet Nam<br>Year=%{x}<br>GDI=%{y}<extra></extra>",
         "legendgroup": "Viet Nam",
         "marker": {
          "color": "#FFA15A",
          "symbol": "circle"
         },
         "mode": "markers",
         "name": "Viet Nam",
         "showlegend": true,
         "type": "scattergl",
         "x": [
          1995,
          2000,
          2005,
          2010,
          2011,
          2012,
          2013,
          2014,
          2015,
          2016,
          2017,
          2018,
          2019
         ],
         "xaxis": "x",
         "y": [
          0.9460000000000001,
          0.9560000000000001,
          0.978,
          0.982,
          0.993,
          0.998,
          1,
          1.002,
          1.005,
          1.004,
          0.999,
          0.998,
          0.997
         ],
         "yaxis": "y"
        },
        {
         "hovertemplate": "Country=Yemen<br>Year=%{x}<br>GDI=%{y}<extra></extra>",
         "legendgroup": "Yemen",
         "marker": {
          "color": "#19d3f3",
          "symbol": "circle"
         },
         "mode": "markers",
         "name": "Yemen",
         "showlegend": true,
         "type": "scattergl",
         "x": [
          1995,
          2000,
          2005,
          2010,
          2011,
          2012,
          2013,
          2014,
          2015,
          2016,
          2017,
          2018,
          2019
         ],
         "xaxis": "x",
         "y": [
          0.613,
          0.638,
          0.662,
          0.672,
          0.653,
          0.644,
          0.615,
          0.587,
          0.544,
          0.515,
          0.489,
          0.482,
          0.488
         ],
         "yaxis": "y"
        },
        {
         "hovertemplate": "Country=South Africa<br>Year=%{x}<br>GDI=%{y}<extra></extra>",
         "legendgroup": "South Africa",
         "marker": {
          "color": "#FF6692",
          "symbol": "circle"
         },
         "mode": "markers",
         "name": "South Africa",
         "showlegend": true,
         "type": "scattergl",
         "x": [
          1995,
          2000,
          2005,
          2010,
          2011,
          2012,
          2013,
          2014,
          2015,
          2016,
          2017,
          2018,
          2019
         ],
         "xaxis": "x",
         "y": [
          0.9550000000000001,
          0.9590000000000001,
          0.9590000000000001,
          0.975,
          0.983,
          0.976,
          0.979,
          0.983,
          0.982,
          0.982,
          0.981,
          0.983,
          0.986
         ],
         "yaxis": "y"
        },
        {
         "hovertemplate": "Country=Zambia<br>Year=%{x}<br>GDI=%{y}<extra></extra>",
         "legendgroup": "Zambia",
         "marker": {
          "color": "#B6E880",
          "symbol": "circle"
         },
         "mode": "markers",
         "name": "Zambia",
         "showlegend": true,
         "type": "scattergl",
         "x": [
          2010,
          2011,
          2012,
          2013,
          2014,
          2015,
          2016,
          2017,
          2018,
          2019
         ],
         "xaxis": "x",
         "y": [
          0.917,
          0.92,
          0.925,
          0.929,
          0.933,
          0.936,
          0.9400000000000001,
          0.978,
          0.98,
          0.9580000000000001
         ],
         "yaxis": "y"
        },
        {
         "hovertemplate": "Country=Zimbabwe<br>Year=%{x}<br>GDI=%{y}<extra></extra>",
         "legendgroup": "Zimbabwe",
         "marker": {
          "color": "#FF97FF",
          "symbol": "circle"
         },
         "mode": "markers",
         "name": "Zimbabwe",
         "showlegend": true,
         "type": "scattergl",
         "x": [
          1995,
          2000,
          2005,
          2010,
          2011,
          2012,
          2013,
          2014,
          2015,
          2016,
          2017,
          2018,
          2019
         ],
         "xaxis": "x",
         "y": [
          0.903,
          0.891,
          0.895,
          0.93,
          0.934,
          0.9380000000000001,
          0.934,
          0.927,
          0.927,
          0.927,
          0.927,
          0.927,
          0.931
         ],
         "yaxis": "y"
        },
        {
         "hovertemplate": "Country=Saint Vincent and the Grenadines<br>Year=%{x}<br>GDI=%{y}<extra></extra>",
         "legendgroup": "Saint Vincent and the Grenadines",
         "marker": {
          "color": "#FECB52",
          "symbol": "circle"
         },
         "mode": "markers",
         "name": "Saint Vincent and the Grenadines",
         "showlegend": true,
         "type": "scattergl",
         "x": [
          2019
         ],
         "xaxis": "x",
         "y": [
          0.965
         ],
         "yaxis": "y"
        }
       ],
       "layout": {
        "legend": {
         "title": {
          "text": "Country"
         },
         "tracegroupgap": 0
        },
        "margin": {
         "t": 60
        },
        "template": {
         "data": {
          "bar": [
           {
            "error_x": {
             "color": "#2a3f5f"
            },
            "error_y": {
             "color": "#2a3f5f"
            },
            "marker": {
             "line": {
              "color": "#E5ECF6",
              "width": 0.5
             },
             "pattern": {
              "fillmode": "overlay",
              "size": 10,
              "solidity": 0.2
             }
            },
            "type": "bar"
           }
          ],
          "barpolar": [
           {
            "marker": {
             "line": {
              "color": "#E5ECF6",
              "width": 0.5
             },
             "pattern": {
              "fillmode": "overlay",
              "size": 10,
              "solidity": 0.2
             }
            },
            "type": "barpolar"
           }
          ],
          "carpet": [
           {
            "aaxis": {
             "endlinecolor": "#2a3f5f",
             "gridcolor": "white",
             "linecolor": "white",
             "minorgridcolor": "white",
             "startlinecolor": "#2a3f5f"
            },
            "baxis": {
             "endlinecolor": "#2a3f5f",
             "gridcolor": "white",
             "linecolor": "white",
             "minorgridcolor": "white",
             "startlinecolor": "#2a3f5f"
            },
            "type": "carpet"
           }
          ],
          "choropleth": [
           {
            "colorbar": {
             "outlinewidth": 0,
             "ticks": ""
            },
            "type": "choropleth"
           }
          ],
          "contour": [
           {
            "colorbar": {
             "outlinewidth": 0,
             "ticks": ""
            },
            "colorscale": [
             [
              0,
              "#0d0887"
             ],
             [
              0.1111111111111111,
              "#46039f"
             ],
             [
              0.2222222222222222,
              "#7201a8"
             ],
             [
              0.3333333333333333,
              "#9c179e"
             ],
             [
              0.4444444444444444,
              "#bd3786"
             ],
             [
              0.5555555555555556,
              "#d8576b"
             ],
             [
              0.6666666666666666,
              "#ed7953"
             ],
             [
              0.7777777777777778,
              "#fb9f3a"
             ],
             [
              0.8888888888888888,
              "#fdca26"
             ],
             [
              1,
              "#f0f921"
             ]
            ],
            "type": "contour"
           }
          ],
          "contourcarpet": [
           {
            "colorbar": {
             "outlinewidth": 0,
             "ticks": ""
            },
            "type": "contourcarpet"
           }
          ],
          "heatmap": [
           {
            "colorbar": {
             "outlinewidth": 0,
             "ticks": ""
            },
            "colorscale": [
             [
              0,
              "#0d0887"
             ],
             [
              0.1111111111111111,
              "#46039f"
             ],
             [
              0.2222222222222222,
              "#7201a8"
             ],
             [
              0.3333333333333333,
              "#9c179e"
             ],
             [
              0.4444444444444444,
              "#bd3786"
             ],
             [
              0.5555555555555556,
              "#d8576b"
             ],
             [
              0.6666666666666666,
              "#ed7953"
             ],
             [
              0.7777777777777778,
              "#fb9f3a"
             ],
             [
              0.8888888888888888,
              "#fdca26"
             ],
             [
              1,
              "#f0f921"
             ]
            ],
            "type": "heatmap"
           }
          ],
          "heatmapgl": [
           {
            "colorbar": {
             "outlinewidth": 0,
             "ticks": ""
            },
            "colorscale": [
             [
              0,
              "#0d0887"
             ],
             [
              0.1111111111111111,
              "#46039f"
             ],
             [
              0.2222222222222222,
              "#7201a8"
             ],
             [
              0.3333333333333333,
              "#9c179e"
             ],
             [
              0.4444444444444444,
              "#bd3786"
             ],
             [
              0.5555555555555556,
              "#d8576b"
             ],
             [
              0.6666666666666666,
              "#ed7953"
             ],
             [
              0.7777777777777778,
              "#fb9f3a"
             ],
             [
              0.8888888888888888,
              "#fdca26"
             ],
             [
              1,
              "#f0f921"
             ]
            ],
            "type": "heatmapgl"
           }
          ],
          "histogram": [
           {
            "marker": {
             "pattern": {
              "fillmode": "overlay",
              "size": 10,
              "solidity": 0.2
             }
            },
            "type": "histogram"
           }
          ],
          "histogram2d": [
           {
            "colorbar": {
             "outlinewidth": 0,
             "ticks": ""
            },
            "colorscale": [
             [
              0,
              "#0d0887"
             ],
             [
              0.1111111111111111,
              "#46039f"
             ],
             [
              0.2222222222222222,
              "#7201a8"
             ],
             [
              0.3333333333333333,
              "#9c179e"
             ],
             [
              0.4444444444444444,
              "#bd3786"
             ],
             [
              0.5555555555555556,
              "#d8576b"
             ],
             [
              0.6666666666666666,
              "#ed7953"
             ],
             [
              0.7777777777777778,
              "#fb9f3a"
             ],
             [
              0.8888888888888888,
              "#fdca26"
             ],
             [
              1,
              "#f0f921"
             ]
            ],
            "type": "histogram2d"
           }
          ],
          "histogram2dcontour": [
           {
            "colorbar": {
             "outlinewidth": 0,
             "ticks": ""
            },
            "colorscale": [
             [
              0,
              "#0d0887"
             ],
             [
              0.1111111111111111,
              "#46039f"
             ],
             [
              0.2222222222222222,
              "#7201a8"
             ],
             [
              0.3333333333333333,
              "#9c179e"
             ],
             [
              0.4444444444444444,
              "#bd3786"
             ],
             [
              0.5555555555555556,
              "#d8576b"
             ],
             [
              0.6666666666666666,
              "#ed7953"
             ],
             [
              0.7777777777777778,
              "#fb9f3a"
             ],
             [
              0.8888888888888888,
              "#fdca26"
             ],
             [
              1,
              "#f0f921"
             ]
            ],
            "type": "histogram2dcontour"
           }
          ],
          "mesh3d": [
           {
            "colorbar": {
             "outlinewidth": 0,
             "ticks": ""
            },
            "type": "mesh3d"
           }
          ],
          "parcoords": [
           {
            "line": {
             "colorbar": {
              "outlinewidth": 0,
              "ticks": ""
             }
            },
            "type": "parcoords"
           }
          ],
          "pie": [
           {
            "automargin": true,
            "type": "pie"
           }
          ],
          "scatter": [
           {
            "marker": {
             "colorbar": {
              "outlinewidth": 0,
              "ticks": ""
             }
            },
            "type": "scatter"
           }
          ],
          "scatter3d": [
           {
            "line": {
             "colorbar": {
              "outlinewidth": 0,
              "ticks": ""
             }
            },
            "marker": {
             "colorbar": {
              "outlinewidth": 0,
              "ticks": ""
             }
            },
            "type": "scatter3d"
           }
          ],
          "scattercarpet": [
           {
            "marker": {
             "colorbar": {
              "outlinewidth": 0,
              "ticks": ""
             }
            },
            "type": "scattercarpet"
           }
          ],
          "scattergeo": [
           {
            "marker": {
             "colorbar": {
              "outlinewidth": 0,
              "ticks": ""
             }
            },
            "type": "scattergeo"
           }
          ],
          "scattergl": [
           {
            "marker": {
             "colorbar": {
              "outlinewidth": 0,
              "ticks": ""
             }
            },
            "type": "scattergl"
           }
          ],
          "scattermapbox": [
           {
            "marker": {
             "colorbar": {
              "outlinewidth": 0,
              "ticks": ""
             }
            },
            "type": "scattermapbox"
           }
          ],
          "scatterpolar": [
           {
            "marker": {
             "colorbar": {
              "outlinewidth": 0,
              "ticks": ""
             }
            },
            "type": "scatterpolar"
           }
          ],
          "scatterpolargl": [
           {
            "marker": {
             "colorbar": {
              "outlinewidth": 0,
              "ticks": ""
             }
            },
            "type": "scatterpolargl"
           }
          ],
          "scatterternary": [
           {
            "marker": {
             "colorbar": {
              "outlinewidth": 0,
              "ticks": ""
             }
            },
            "type": "scatterternary"
           }
          ],
          "surface": [
           {
            "colorbar": {
             "outlinewidth": 0,
             "ticks": ""
            },
            "colorscale": [
             [
              0,
              "#0d0887"
             ],
             [
              0.1111111111111111,
              "#46039f"
             ],
             [
              0.2222222222222222,
              "#7201a8"
             ],
             [
              0.3333333333333333,
              "#9c179e"
             ],
             [
              0.4444444444444444,
              "#bd3786"
             ],
             [
              0.5555555555555556,
              "#d8576b"
             ],
             [
              0.6666666666666666,
              "#ed7953"
             ],
             [
              0.7777777777777778,
              "#fb9f3a"
             ],
             [
              0.8888888888888888,
              "#fdca26"
             ],
             [
              1,
              "#f0f921"
             ]
            ],
            "type": "surface"
           }
          ],
          "table": [
           {
            "cells": {
             "fill": {
              "color": "#EBF0F8"
             },
             "line": {
              "color": "white"
             }
            },
            "header": {
             "fill": {
              "color": "#C8D4E3"
             },
             "line": {
              "color": "white"
             }
            },
            "type": "table"
           }
          ]
         },
         "layout": {
          "annotationdefaults": {
           "arrowcolor": "#2a3f5f",
           "arrowhead": 0,
           "arrowwidth": 1
          },
          "autotypenumbers": "strict",
          "coloraxis": {
           "colorbar": {
            "outlinewidth": 0,
            "ticks": ""
           }
          },
          "colorscale": {
           "diverging": [
            [
             0,
             "#8e0152"
            ],
            [
             0.1,
             "#c51b7d"
            ],
            [
             0.2,
             "#de77ae"
            ],
            [
             0.3,
             "#f1b6da"
            ],
            [
             0.4,
             "#fde0ef"
            ],
            [
             0.5,
             "#f7f7f7"
            ],
            [
             0.6,
             "#e6f5d0"
            ],
            [
             0.7,
             "#b8e186"
            ],
            [
             0.8,
             "#7fbc41"
            ],
            [
             0.9,
             "#4d9221"
            ],
            [
             1,
             "#276419"
            ]
           ],
           "sequential": [
            [
             0,
             "#0d0887"
            ],
            [
             0.1111111111111111,
             "#46039f"
            ],
            [
             0.2222222222222222,
             "#7201a8"
            ],
            [
             0.3333333333333333,
             "#9c179e"
            ],
            [
             0.4444444444444444,
             "#bd3786"
            ],
            [
             0.5555555555555556,
             "#d8576b"
            ],
            [
             0.6666666666666666,
             "#ed7953"
            ],
            [
             0.7777777777777778,
             "#fb9f3a"
            ],
            [
             0.8888888888888888,
             "#fdca26"
            ],
            [
             1,
             "#f0f921"
            ]
           ],
           "sequentialminus": [
            [
             0,
             "#0d0887"
            ],
            [
             0.1111111111111111,
             "#46039f"
            ],
            [
             0.2222222222222222,
             "#7201a8"
            ],
            [
             0.3333333333333333,
             "#9c179e"
            ],
            [
             0.4444444444444444,
             "#bd3786"
            ],
            [
             0.5555555555555556,
             "#d8576b"
            ],
            [
             0.6666666666666666,
             "#ed7953"
            ],
            [
             0.7777777777777778,
             "#fb9f3a"
            ],
            [
             0.8888888888888888,
             "#fdca26"
            ],
            [
             1,
             "#f0f921"
            ]
           ]
          },
          "colorway": [
           "#636efa",
           "#EF553B",
           "#00cc96",
           "#ab63fa",
           "#FFA15A",
           "#19d3f3",
           "#FF6692",
           "#B6E880",
           "#FF97FF",
           "#FECB52"
          ],
          "font": {
           "color": "#2a3f5f"
          },
          "geo": {
           "bgcolor": "white",
           "lakecolor": "white",
           "landcolor": "#E5ECF6",
           "showlakes": true,
           "showland": true,
           "subunitcolor": "white"
          },
          "hoverlabel": {
           "align": "left"
          },
          "hovermode": "closest",
          "mapbox": {
           "style": "light"
          },
          "paper_bgcolor": "white",
          "plot_bgcolor": "#E5ECF6",
          "polar": {
           "angularaxis": {
            "gridcolor": "white",
            "linecolor": "white",
            "ticks": ""
           },
           "bgcolor": "#E5ECF6",
           "radialaxis": {
            "gridcolor": "white",
            "linecolor": "white",
            "ticks": ""
           }
          },
          "scene": {
           "xaxis": {
            "backgroundcolor": "#E5ECF6",
            "gridcolor": "white",
            "gridwidth": 2,
            "linecolor": "white",
            "showbackground": true,
            "ticks": "",
            "zerolinecolor": "white"
           },
           "yaxis": {
            "backgroundcolor": "#E5ECF6",
            "gridcolor": "white",
            "gridwidth": 2,
            "linecolor": "white",
            "showbackground": true,
            "ticks": "",
            "zerolinecolor": "white"
           },
           "zaxis": {
            "backgroundcolor": "#E5ECF6",
            "gridcolor": "white",
            "gridwidth": 2,
            "linecolor": "white",
            "showbackground": true,
            "ticks": "",
            "zerolinecolor": "white"
           }
          },
          "shapedefaults": {
           "line": {
            "color": "#2a3f5f"
           }
          },
          "ternary": {
           "aaxis": {
            "gridcolor": "white",
            "linecolor": "white",
            "ticks": ""
           },
           "baxis": {
            "gridcolor": "white",
            "linecolor": "white",
            "ticks": ""
           },
           "bgcolor": "#E5ECF6",
           "caxis": {
            "gridcolor": "white",
            "linecolor": "white",
            "ticks": ""
           }
          },
          "title": {
           "x": 0.05
          },
          "xaxis": {
           "automargin": true,
           "gridcolor": "white",
           "linecolor": "white",
           "ticks": "",
           "title": {
            "standoff": 15
           },
           "zerolinecolor": "white",
           "zerolinewidth": 2
          },
          "yaxis": {
           "automargin": true,
           "gridcolor": "white",
           "linecolor": "white",
           "ticks": "",
           "title": {
            "standoff": 15
           },
           "zerolinecolor": "white",
           "zerolinewidth": 2
          }
         }
        },
        "xaxis": {
         "anchor": "y",
         "domain": [
          0,
          1
         ],
         "title": {
          "text": "Year"
         }
        },
        "yaxis": {
         "anchor": "x",
         "domain": [
          0,
          1
         ],
         "title": {
          "text": "GDI"
         }
        }
       }
      }
     },
     "metadata": {},
     "output_type": "display_data"
    }
   ],
   "source": [
    "fig = px.scatter(json_df, x='Year', y='GDI', color='Country')\n",
    "fig.show()"
   ]
  },
  {
   "cell_type": "code",
   "execution_count": null,
   "metadata": {},
   "outputs": [],
   "source": []
  }
 ],
 "metadata": {
  "interpreter": {
   "hash": "ff46eeebaa6206205c68b7d9b2f725c243aefdf656c43d9d1a0f86c2b29b11fd"
  },
  "kernelspec": {
   "display_name": "Python 3.7.11 ('project3ML')",
   "language": "python",
   "name": "python3"
  },
  "language_info": {
   "codemirror_mode": {
    "name": "ipython",
    "version": 3
   },
   "file_extension": ".py",
   "mimetype": "text/x-python",
   "name": "python",
   "nbconvert_exporter": "python",
   "pygments_lexer": "ipython3",
   "version": "3.7.11"
  },
  "orig_nbformat": 4
 },
 "nbformat": 4,
 "nbformat_minor": 2
}
