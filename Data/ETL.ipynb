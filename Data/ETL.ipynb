{
 "cells": [
  {
   "cell_type": "code",
   "execution_count": 3,
   "metadata": {},
   "outputs": [],
   "source": [
    "import requests\n",
    "import json\n",
    "import pandas as pd"
   ]
  },
  {
   "cell_type": "code",
   "execution_count": 45,
   "metadata": {},
   "outputs": [],
   "source": [
    "with open(\"data.json\", \"r\") as f: \n",
    "    raw_data = json.load(f)"
   ]
  },
  {
   "cell_type": "code",
   "execution_count": 50,
   "metadata": {},
   "outputs": [
    {
     "data": {
      "text/plain": [
       "{'136906': 'Human Development Index (HDI), female',\n",
       " '137006': 'Human Development Index (HDI), male',\n",
       " '137906': 'Gender Development Index (GDI)'}"
      ]
     },
     "execution_count": 50,
     "metadata": {},
     "output_type": "execute_result"
    }
   ],
   "source": [
    "indicator_name = raw_data[\"indicator_name\"]\n",
    "indicator_name"
   ]
  },
  {
   "cell_type": "code",
   "execution_count": 51,
   "metadata": {},
   "outputs": [],
   "source": [
    "country_name = raw_data[\"country_name\"]"
   ]
  },
  {
   "cell_type": "code",
   "execution_count": 56,
   "metadata": {},
   "outputs": [],
   "source": [
    "clean_data = []\n",
    "for country_code in raw_data[\"indicator_value\"].keys():\n",
    "    for indicator_code in raw_data[\"indicator_value\"][country_code].keys():\n",
    "        for year in raw_data[\"indicator_value\"][country_code][indicator_code].keys():\n",
    "            my_dict = {\n",
    "                \"country\": country_name[country_code],\n",
    "                \"year\":year,\n",
    "                \"indicator\":indicator_name[indicator_code],\n",
    "                \"value\": raw_data[\"indicator_value\"][country_code][indicator_code][year]\n",
    "                \n",
    "            }\n",
    "            clean_data.append(my_dict)\n",
    "    "
   ]
  },
  {
   "cell_type": "code",
   "execution_count": 57,
   "metadata": {},
   "outputs": [
    {
     "data": {
      "text/html": [
       "<div>\n",
       "<style scoped>\n",
       "    .dataframe tbody tr th:only-of-type {\n",
       "        vertical-align: middle;\n",
       "    }\n",
       "\n",
       "    .dataframe tbody tr th {\n",
       "        vertical-align: top;\n",
       "    }\n",
       "\n",
       "    .dataframe thead th {\n",
       "        text-align: right;\n",
       "    }\n",
       "</style>\n",
       "<table border=\"1\" class=\"dataframe\">\n",
       "  <thead>\n",
       "    <tr style=\"text-align: right;\">\n",
       "      <th></th>\n",
       "      <th>country</th>\n",
       "      <th>year</th>\n",
       "      <th>indicator</th>\n",
       "      <th>value</th>\n",
       "    </tr>\n",
       "  </thead>\n",
       "  <tbody>\n",
       "    <tr>\n",
       "      <th>0</th>\n",
       "      <td>Afghanistan</td>\n",
       "      <td>2000</td>\n",
       "      <td>Human Development Index (HDI), female</td>\n",
       "      <td>0.138</td>\n",
       "    </tr>\n",
       "    <tr>\n",
       "      <th>1</th>\n",
       "      <td>Afghanistan</td>\n",
       "      <td>2005</td>\n",
       "      <td>Human Development Index (HDI), female</td>\n",
       "      <td>0.264</td>\n",
       "    </tr>\n",
       "    <tr>\n",
       "      <th>2</th>\n",
       "      <td>Afghanistan</td>\n",
       "      <td>2010</td>\n",
       "      <td>Human Development Index (HDI), female</td>\n",
       "      <td>0.329</td>\n",
       "    </tr>\n",
       "    <tr>\n",
       "      <th>3</th>\n",
       "      <td>Afghanistan</td>\n",
       "      <td>2011</td>\n",
       "      <td>Human Development Index (HDI), female</td>\n",
       "      <td>0.339</td>\n",
       "    </tr>\n",
       "    <tr>\n",
       "      <th>4</th>\n",
       "      <td>Afghanistan</td>\n",
       "      <td>2012</td>\n",
       "      <td>Human Development Index (HDI), female</td>\n",
       "      <td>0.350</td>\n",
       "    </tr>\n",
       "    <tr>\n",
       "      <th>...</th>\n",
       "      <td>...</td>\n",
       "      <td>...</td>\n",
       "      <td>...</td>\n",
       "      <td>...</td>\n",
       "    </tr>\n",
       "    <tr>\n",
       "      <th>6205</th>\n",
       "      <td>Zimbabwe</td>\n",
       "      <td>2018</td>\n",
       "      <td>Gender Development Index (GDI)</td>\n",
       "      <td>0.927</td>\n",
       "    </tr>\n",
       "    <tr>\n",
       "      <th>6206</th>\n",
       "      <td>Zimbabwe</td>\n",
       "      <td>2019</td>\n",
       "      <td>Gender Development Index (GDI)</td>\n",
       "      <td>0.931</td>\n",
       "    </tr>\n",
       "    <tr>\n",
       "      <th>6207</th>\n",
       "      <td>Saint Vincent and the Grenadines</td>\n",
       "      <td>2019</td>\n",
       "      <td>Gender Development Index (GDI)</td>\n",
       "      <td>0.965</td>\n",
       "    </tr>\n",
       "    <tr>\n",
       "      <th>6208</th>\n",
       "      <td>Saint Vincent and the Grenadines</td>\n",
       "      <td>2019</td>\n",
       "      <td>Human Development Index (HDI), female</td>\n",
       "      <td>0.724</td>\n",
       "    </tr>\n",
       "    <tr>\n",
       "      <th>6209</th>\n",
       "      <td>Saint Vincent and the Grenadines</td>\n",
       "      <td>2019</td>\n",
       "      <td>Human Development Index (HDI), male</td>\n",
       "      <td>0.750</td>\n",
       "    </tr>\n",
       "  </tbody>\n",
       "</table>\n",
       "<p>6210 rows × 4 columns</p>\n",
       "</div>"
      ],
      "text/plain": [
       "                               country  year  \\\n",
       "0                          Afghanistan  2000   \n",
       "1                          Afghanistan  2005   \n",
       "2                          Afghanistan  2010   \n",
       "3                          Afghanistan  2011   \n",
       "4                          Afghanistan  2012   \n",
       "...                                ...   ...   \n",
       "6205                          Zimbabwe  2018   \n",
       "6206                          Zimbabwe  2019   \n",
       "6207  Saint Vincent and the Grenadines  2019   \n",
       "6208  Saint Vincent and the Grenadines  2019   \n",
       "6209  Saint Vincent and the Grenadines  2019   \n",
       "\n",
       "                                  indicator  value  \n",
       "0     Human Development Index (HDI), female  0.138  \n",
       "1     Human Development Index (HDI), female  0.264  \n",
       "2     Human Development Index (HDI), female  0.329  \n",
       "3     Human Development Index (HDI), female  0.339  \n",
       "4     Human Development Index (HDI), female  0.350  \n",
       "...                                     ...    ...  \n",
       "6205         Gender Development Index (GDI)  0.927  \n",
       "6206         Gender Development Index (GDI)  0.931  \n",
       "6207         Gender Development Index (GDI)  0.965  \n",
       "6208  Human Development Index (HDI), female  0.724  \n",
       "6209    Human Development Index (HDI), male  0.750  \n",
       "\n",
       "[6210 rows x 4 columns]"
      ]
     },
     "execution_count": 57,
     "metadata": {},
     "output_type": "execute_result"
    }
   ],
   "source": [
    "df = pd.DataFrame(clean_data)\n",
    "df"
   ]
  },
  {
   "cell_type": "code",
   "execution_count": null,
   "metadata": {},
   "outputs": [],
   "source": []
  },
  {
   "cell_type": "code",
   "execution_count": null,
   "metadata": {},
   "outputs": [],
   "source": []
  },
  {
   "cell_type": "code",
   "execution_count": null,
   "metadata": {},
   "outputs": [],
   "source": []
  },
  {
   "cell_type": "code",
   "execution_count": null,
   "metadata": {},
   "outputs": [],
   "source": []
  }
 ],
 "metadata": {
  "interpreter": {
   "hash": "94c3b4ab42ed453d0c3139291c4b558a58466243d8f39a27157678243000ef0f"
  },
  "kernelspec": {
   "display_name": "Python [conda env:bootcamp_env] *",
   "language": "python",
   "name": "python3"
  },
  "language_info": {
   "codemirror_mode": {
    "name": "ipython",
    "version": 3
   },
   "file_extension": ".py",
   "mimetype": "text/x-python",
   "name": "python",
   "nbconvert_exporter": "python",
   "pygments_lexer": "ipython3",
   "version": "3.7.11"
  }
 },
 "nbformat": 4,
 "nbformat_minor": 4
}
